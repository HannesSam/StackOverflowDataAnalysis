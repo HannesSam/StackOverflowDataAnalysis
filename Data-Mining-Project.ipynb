{
 "cells": [
  {
   "source": [
    "2IS063 \n",
    "\n",
    "Uppsala university\n",
    "\n",
    "Department of Informatics and Media \n",
    "\n",
    "Data Mining and Data Science\n",
    "\n",
    "HT20\n",
    "\n",
    "PG12: Christoffer Wrigmar, Julia Malmliden, Hannes Samskog, Axel Strömberg, Ida Petersson\n"
   ],
   "cell_type": "markdown",
   "metadata": {}
  },
  {
   "source": [
    "## What direction should Microsoft go when further developing .NET docs? \n",
    "### What concepts from .NET are most often asked but only answered in low quality on Stack Overflow? "
   ],
   "cell_type": "markdown",
   "metadata": {}
  },
  {
   "source": [
    "### Abstract\n",
    "This study investigates where the documentation regarding .NET platform, and in particular the C# programming language, might need to be further developed to better programmers’ understanding and corresponding abilities to use the platform. A dataset containing posts from Stack Overflow between the dates of September 2019 to November 2020 has been processed by applying topic modeling, more precisely LDA, and then analyzed and labeled corresponding to the equivalence of the official .NET documentation topics in order to find the topics most frequently asked about but answered poorly, which would indicate that programmers’ knowledge of these topics are insufficient. The top corresponding topics are presented as the topics in need of further development in the official .NET documentation to better programmers’ knowledge and use of the platform. \n"
   ],
   "cell_type": "markdown",
   "metadata": {}
  },
  {
   "source": [
    "### Table of Contents\n",
    "\n",
    "1. Background\t<br>\n",
    "1.2. Microsoft\t<br>\n",
    "1.2.1 Software development\t<br>\n",
    "1.2.2 .NET operational environment\t<br>\n",
    "1.2.3  .NET analytical needs\t<br><br>\n",
    "2. Problem\t<br>\n",
    "2.1 Problem description\t<br>\n",
    "2.2 Research questions\t<br>\n",
    "2.2.1 What direction should Microsoft go when further developing .NETdocs?\t<br>\n",
    "2.2.1.1 What concepts in .NET are most often asked but only answered in low quality or do not have an accepted answer at all on Stack Overflow?\t<br><br>\n",
    "3. Related research\t<br><br>\n",
    "4. Data collection\t<br><br>\n",
    "5. Datamining\t<br>\n",
    "5.1 Topic Modeling <br>\n",
    "5.1.1 LDA <br><br>\n",
    "6. Result evaluation\t<br>\n",
    "6.1 Final topics <br>\n",
    "6.2 Topics visualized <br>\n",
    "6.3 Actionable conclusions <br><br>\n",
    "7. Ethical aspects\t<br>\n",
    "7.1 Stack Overflows ambiguous rating-system\t<br>\n",
    "7.2 Implications because of Microsoft being a business\t<br><br>\n",
    "8. References\t\n"
   ],
   "cell_type": "markdown",
   "metadata": {}
  },
  {
   "source": [
    "### 1. Background\n",
    "The world of coding has vastly and rapidly developed each decade it’s existed. In the beginning at the launch of different programming languages, the available help to further other coders’ use of the language was scarce. The programming languages functions and possibilities have since then been vastly developed and nowadays the world of programming is larger than ever imaginable. \n",
    "\n",
    "One of the biggest programming language developers is Microsoft, an American multinational technology company. In the early 2000s they released C#, a general-purpose programming language that relies on types and methods in what the C# specification defines as a standard library for some of the features. The .NET platform delivers those types and methods in a number of packages. (Microsoft, 2020) \n",
    "\n",
    "C# 1.0 reminded a lot of Java, which at the time had been around for half a decade. (Java, 2020) Microsoft's choice to develop a Java-alike language with the creation of C# is seen as an attempt to further develop the object-oriented approach in the way they saw it should be developed. C# and Java consequently became rivals, albeit they were both greatly appreciated by developers all over the world. (Mkhitaryan, 2017) \n",
    "\n",
    "In the more recent day, C# has been described as the ultimate hybrid that takes C and C++ best features and combines them to form a truly modernized language. The key to C#s popularity is believed to lie in its simplicity to learn, together with an astonishing support for complexity beneath. Developers can therefore easily use C# to build applications with quite scarce knowledge, and as they further their developing skills, C# meets the demand and enables more complex applications. A part of how Microsoft has succeeded in creating this easy-to-learn programming language is the extensive documentation. The .NET docs which includes the C# docs are seen as an incredibly precise and easily understood guide to the environment and its capacity. (Mkhitaryan, 2017) \n",
    "\n",
    "Developing software applications is a challenging task, and most developers lack the full knowledge they need to succeed all on their own. Stack Overflow is an online forum developed to meet the need developers encounter in their journey to develop software. In the online forum, developers on all levels of knowledge can post questions and discuss code with other developers. The posts then help developers get the most out of the programming languages features, and it’s not uncommon for some of the world’s greatest programming experts to frequent the forum. (Stack Overflow, 2020) \n",
    "\n",
    "#### 1.2 Microsoft\n",
    "Microsoft was founded in 1975 as a technology company selling technology components and has since then exploded in its reach inside the IT-industry. They have a diverse product line, selling both hardware components as well as software. By the late 1990s, they successfully developed and released multiple programming platforms, which evolved into the creation and release of multiple programming languages. (Microsoft, 2020) \n",
    "\n",
    "##### 1.2.1 Software development\n",
    "One of Microsoft's main operational divisions is the development of programming languages and other software. One of their most common spread and popular languages is C#, which is a programming language which supports several programming paradigms, but most widely used in object-oriented developed applications. (Microsoft, 2020) \n",
    "\n",
    "##### 1.2.2 .NET operational environment\n",
    ".NET is not per se one of the income streams Microsoft rely on, since the use of the language is free and available to all. The business-need of the language is however most likely quite impactful since .NET is most easy to use in Microsoft-environment. (Microsoft, 2020) \n",
    "\n",
    "##### 1.2.3  .NET analytical needs\n",
    "The .NET docs have proven to be a useful resource for the inexperienced beginner in programming as well as the most experienced developer. The directness and clear and concise information is thought to be easily understood and Microsoft's aim seems to be to clear any misunderstandings and to help developers use the full potential of C#. (Mkhitaryan, 2017) "
   ],
   "cell_type": "markdown",
   "metadata": {}
  },
  {
   "source": [
    "### 2. Problem\n",
    "#### 2.1 Further develop the .NET docs \n",
    "Microsoft wants to further develop its official .NET docs in an attempt to heighten developers depth of knowledge in the platform and languages. Their .NET docs were created when the platform was launched and has since then followed new releases. (Microsoft, 2020) \n",
    "The problem imagined for Microsoft is that they aren’t sure where their docs lack the help developers seek and need. Microsoft’s agenda is that the better the .NET docs prove to be, the better the use and reputation of the platform and languages will be. \n",
    "\n",
    "#### 2.2 Research questions \n",
    "The aim of this study is to assistant Microsoft in their exploration of what their .NET docs lack. The hope is to answer this by investigating questions most often arisen but poorly answered on Stack Overflow, with the hope to be able to sort out where the .NET docs need improvement. \n",
    "\n",
    "##### 2.2.1 What direction should Microsoft go when further developing .NET docs?** <br><br>\n",
    "###### *2.2.1.1 What concepts from .NET docs are most often asked but only answered in low quality or do not have an accepted answer at all on Stack Overflow? *\n"
   ],
   "cell_type": "markdown",
   "metadata": {}
  },
  {
   "source": [
    "### 3. Related research\n",
    "Developers require various instructive information during coding and development, and Iqbal, Khatun, Arefin, & Ali Akber Dewan (2020) has dived in to research whether the assistance of the easier questions could be derived from previous answers and presented to the developers, to minimize the need for replicas of answers. A thorough need for assistance and guidance during coding is common for most developers, and since forums have been online and easily available for quite some time now, an abundance of answers to similar questions has been posted. The aim of Iqbal et al. (2020) has been to investigate whether an auto-answer to more common questions can be derived from earlier questions and consequently their answers. The study derived data regarding the two programming languages Python & PHP, and the findings resulted in a 71% accuracy for auto-answers on new questions based on the answers to earlier questions. (Iqbal, Khatun, Arefin, Ali Akber Dewan, 2020)\n",
    "\n",
    "Learning to use new programming languages can often be perceived as difficult and quite overpowering. Bai, Kayani, Stolee (2020) investigated how developers and programming students learn new programming languages and found that they often turn to online sources to find information, documentation, and code examples. They investigated how the online behavior was shaped when a developer tried mastering a new language, and the analysis showed that approximately 50% of the queries where a developer firstly had been on the official documentation for the language, the query was successful, as in that the developer succeeded in mastering the query and able to produce functional code. Implications from this study would be that the programming languages official documentation plays an active role in how well the developer succeeds in using the possibilities of the language. (Bai, Kayani, Stolee, 2020)\n",
    "\n",
    "The difficulties learning new programming languages can be challenging, and Shrestha, Botta, Barik, Parnin (2020) interviewed 16 professional programmers regarding how they approached learning a new programming language. Together with data analysis on posts on Stack Overflow where ambiguity occurred in questions of one programming language but attached code examples were in another programming language, the study aimed to discern what the differences in different programming languages resulted in for consequences. The professional programmers revealed that the documentation of the programming language they set out to learn played a vast difference in their understanding of the concepts of the language. Another revelation important in the study was the small differences in the different programming languages that played tricks on how to perform the wanted tasks, where the small differences often got overlooked but caused quite a lot of errors. (Shrestha, Botta, Barik, Parnin, 2020)\n",
    "Abtahi & Dietz aimed to investigate how experienced programmers learned new programming languages, by studying how they approached learning the language Rust. Rust is a systems programming language with extensive documentation and example code. The results of the study showed that the programmers spent 43% of their online time during their learning experience studying the documentation and the example code and that the feature of an online environment with compiler-ability was a much-appreciated tool in the aim to learn the language. (Abtahi, Dietz, 2020)\n",
    "\n",
    "Meldrum, Licorish, Owen, Savarimuthu (2020) investigated the quality given on Stack Overflow concerning code questions. Community Question & Answer platforms such as Stack Overflow use the power of online groups to solve problems, or gain information. Previous research confirmed the popularity of Stack Overflow, but concerns regarding the quality of answers are quite prominent. What Meldrum et al. studied were the actual answers to questions asked on Stack Overflow, and how well they met criteria as code snippet quality, including reliability and conformance to specific programming language rules, and readability, performance, and security. The outcome was consistent in that the quality of the answers was based on how well documented the programming language officially was, in regards to how easily accessible and understandable the official documentation of the programming language was perceived. (Meldrum, Licorish, Owen, Savarimuthu, 2020) \n",
    "\n",
    "These related studies show a research need to investigate how well documented programming languages are, and how well they consequently can be used by both experienced programmers as well as beginners aiming to further develop their skills. \n"
   ],
   "cell_type": "markdown",
   "metadata": {}
  },
  {
   "source": [
    "## 4. Data collection, preprocessing and processing\n",
    "\n",
    "To acquire a large number of Stack Overflow questions regarding C# one can query the official Stack Overflow database with SQL queries at https://data.stackexchange.com/stackoverflow/queries. These queries can only return 50 000 results at a time so multiple queries have to be made to get all the questions from within a specific period of time. The time frame chosen in this report was 2019-09-22 to 2020-11-08. This period of time was chosen since this is the period of time that C# 8 was the current release of C# and the assumption here was that the documentation regarding new features could be the most lacking.\n",
    "\n",
    "The query used is as follows: <br>\n",
    "```\n",
    "SELECT * FROM posts WHERE Tags LIKE '%c#%' AND posts.CreationDate < 'Insert start data here' AND posts.CreationDate > 'Insert end date here'\n",
    "ORDER BY posts.CreationDate desc\n",
    "```\n",
    "\n",
    "Since this operation has to be done in multiple queries the date input will vary but in the end, one will end up with a number of .CSV files containing the data. In this study's case, the final outcome was three files containing 117 527 questions. These files were then combined into one which is the Data.csv file that can be seen in the following steps.\n",
    "\n",
    "The dataset is extracted from Stack Overflow and contains posts from their open forum discussing code and programming problems. Stack Overflow does not categorize its posts by programming language, and therefore a first selection has been made to select only posts mentioning “C#” or “.NET” in some capacity.  A further selection has been made on publish date for posts, and the selection consists of posts posted between the dates of September 2019 to November 2020, which is based on the timeframe where C# version 8.0 was the most recent version of C#. \n",
    "\n",
    "The processed data is nominal data in the form of text questions, and thus on this data any operations based on order or arithmetic would be meaningless. The questions are connected to a ranked answer (either “accepted” or “not accepted”), which can be considered ordinal data, or, since it only has two categories, binary. Since the analysis needs to know the most asked questions without an accepted answer, the questions without an accepted answer gets discarded and then an aggregation of the remaining questions to a corpus is made.  (Tan, Steinbach, & Kumar, 2019)\n",
    "\n",
    "By processing the corpus, the need to see the most common theme among the questions asked arises, which is done through applying a word count. In the word count the words without context get discarded. (Tan, Steinbach, & Kumar, 2019)\n"
   ],
   "cell_type": "markdown",
   "metadata": {}
  },
  {
   "source": [
    "The following code will import the necessary libraries and disable warnings for errors that are ignorable in this application."
   ],
   "cell_type": "markdown",
   "metadata": {}
  },
  {
   "cell_type": "code",
   "execution_count": null,
   "metadata": {},
   "outputs": [],
   "source": [
    "\n",
    "import pandas as pd\n",
    "from sklearn.feature_extraction.text import CountVectorizer\n",
    "import gensim\n",
    "import gensim.corpora as corpora\n",
    "from gensim.utils import simple_preprocess\n",
    "from sklearn.decomposition import LatentDirichletAllocation as LDA\n",
    "import warnings\n",
    "warnings.simplefilter(\"ignore\", DeprecationWarning)\n",
    "pd.options.mode.chained_assignment = None  # default='warn'"
   ]
  },
  {
   "source": [
    "The following code will read the data from the data.csv file and output the length of the data set as well as the column names."
   ],
   "cell_type": "markdown",
   "metadata": {}
  },
  {
   "cell_type": "code",
   "execution_count": null,
   "metadata": {},
   "outputs": [],
   "source": [
    "stackOverflowData = pd.read_csv(\n",
    "    './Data.csv',\n",
    "    encoding='utf-8'\n",
    ")\n",
    "print('Length: ' + str(stackOverflowData.shape[0]) + '\\n')\n",
    "listOfColumnNames = stackOverflowData.columns.values.tolist()\n",
    "print('Column names:')\n",
    "for name in listOfColumnNames:\n",
    "    print(name)"
   ]
  },
  {
   "source": [
    "### Preprocessing"
   ],
   "cell_type": "markdown",
   "metadata": {}
  },
  {
   "source": [
    "The following code will filter the posts that for some reason were closed and those posts that have a negative score since these can be assumed to be of low quality. Posts that are low quality are often duplicates or just not specific enough and having them in our dataset may skew our analysis. It outputs the length after each step. "
   ],
   "cell_type": "markdown",
   "metadata": {}
  },
  {
   "cell_type": "code",
   "execution_count": null,
   "metadata": {},
   "outputs": [],
   "source": [
    "print('Original Length: ' + str(stackOverflowData.shape[0]) + '\\n')\n",
    "stackOverflowData = stackOverflowData[stackOverflowData['ClosedDate'].isnull()]\n",
    "print('After the questions with a closedDate has been removed. \\nLength: ' + str(stackOverflowData.shape[0]) + '\\n')\n",
    "stackOverflowData = stackOverflowData[stackOverflowData['Score']>=0]\n",
    "print('AFter the questions with a negative score has been removed. \\nLength: ' + str(stackOverflowData.shape[0]) + '\\n')"
   ]
  },
  {
   "source": [
    "The following code wil create a Data Frame with only the necessary columns for this purpose."
   ],
   "cell_type": "markdown",
   "metadata": {}
  },
  {
   "cell_type": "code",
   "execution_count": null,
   "metadata": {},
   "outputs": [],
   "source": [
    "df = stackOverflowData[['Title',\n",
    "                    'CreationDate', 'Body', 'Score']]"
   ]
  },
  {
   "source": [
    "The following code will set the necessary data to lowercase to make sure that the calculations below treats for example Xamarin and xamarin as the same word."
   ],
   "cell_type": "markdown",
   "metadata": {}
  },
  {
   "cell_type": "code",
   "execution_count": null,
   "metadata": {},
   "outputs": [],
   "source": [
    "df['Title'] = df['Title'].str.lower()"
   ]
  },
  {
   "source": [
    "The following code will create the stopwords and removing them from the strings in the dataframe."
   ],
   "cell_type": "markdown",
   "metadata": {}
  },
  {
   "cell_type": "code",
   "execution_count": null,
   "metadata": {},
   "outputs": [],
   "source": [
    "stop_words = ['the', 'on', 'are', 'is', 'but' 'and', 'in', 'to', 'how', 'for', 'and', 'with', 'can', 'user', 'my', 'it', 'into', 'cannot', 'getting', 'no', 'an', 'a', 'do', 'but', 'one', 'very', 'by', 'from', 'get', 'can', 'of', 'not', 'using', 'does', 'why', 'as', 'use', 'or', 'one', 'two', 'this', 'be', 'make', 'at', 'up', 'being', 'after', 'when', 'through', 'any', 'first', 'open', 'what', 'same', 'trying', 'what', 'than', 'another', 'way', 'check', 'there', 'without', 'other', 'which']\n",
    "df['Title'] = df['Title'].apply(lambda x: ' '.join(\n",
    "    [word for word in x.split() if word not in (stop_words)]))"
   ]
  },
  {
   "source": [
    "The following code will tokenize the words in the Title and create a list datalist containing all the Titles."
   ],
   "cell_type": "markdown",
   "metadata": {}
  },
  {
   "cell_type": "code",
   "execution_count": null,
   "metadata": {},
   "outputs": [],
   "source": [
    "title_list = df.Title.values.tolist()\n",
    "\n",
    "def sent_to_words(sentences):\n",
    "    for sentence in sentences:\n",
    "        yield(gensim.utils.simple_preprocess(str(sentence), deacc=True))  # deacc=True removes punctuations\n",
    "\n",
    "title_words = list(sent_to_words(title_list))"
   ]
  },
  {
   "source": [
    "The following code will create a Dictionary."
   ],
   "cell_type": "markdown",
   "metadata": {}
  },
  {
   "cell_type": "code",
   "execution_count": null,
   "metadata": {},
   "outputs": [],
   "source": [
    "title_dictionary = corpora.Dictionary(title_words)"
   ]
  },
  {
   "source": [
    "The following code will create a corpus."
   ],
   "cell_type": "markdown",
   "metadata": {}
  },
  {
   "cell_type": "code",
   "execution_count": null,
   "metadata": {},
   "outputs": [],
   "source": [
    "texts = title_words\n",
    "corpus = [title_dictionary.doc2bow(text) for text in texts]"
   ]
  },
  {
   "source": [
    "### 5. Datamining\n",
    "\n",
    "The applied datamining method is described in order to follow the analysis of the data. \n",
    "\n",
    "#### 5.1 Topic Modeling\n",
    "A topic model is classed as a probabilistic generative model which is often used in text mining and information retrieval. A topic model deals with a corpus (often several documents) but instead of simply counting words and stating what words are most common the aim of the model is to find the themes. The themes are referred to as “topics” and are found by unsupervised algorithms during model training. The algorithm creates a list of topics based on the frequency of words that are connected to different topics. The topics with more words connected to it have higher probability, as in this topic is more likely to exist in this corpus, and the model displays the top ones. (Liu, Tang, Dong, Yao & Zhou, 2016)\n",
    "\n",
    "##### 5.1.1 LDA\n",
    "\n",
    "Latent Dirichlet Allocation is a general probabilistic model with the principle that words provide a strong indication about the document in question. LDA is a type of Topic model and generates topics unsupervised by identifying words in the corpus that frequently occur together within the documents. The model is unsupervised since it isn´t provided with a training set, it is solely provided with the corpus. (Blei, Ng, Jordan, 2003)\n"
   ],
   "cell_type": "markdown",
   "metadata": {}
  },
  {
   "source": [
    "### Processing \n",
    "\n",
    "The following cells contains the actual processing. In order to follow an evaluation based on the results when the study group ran the cells, see textcells further below with examples. "
   ],
   "cell_type": "markdown",
   "metadata": {}
  },
  {
   "source": [
    "The following code is a helper function that prints the topics."
   ],
   "cell_type": "markdown",
   "metadata": {}
  },
  {
   "cell_type": "code",
   "execution_count": null,
   "metadata": {},
   "outputs": [],
   "source": [
    "def print_topics(model, count_vectorizer, n_top_words):\n",
    "    words = count_vectorizer.get_feature_names()\n",
    "    for topic_idx, topic in enumerate(model.components_):\n",
    "        print(\"\\nTopic #%d:\" % topic_idx)\n",
    "        print(\" \".join([words[i]\n",
    "                        for i in topic.argsort()[:-n_top_words - 1:-1]]))"
   ]
  },
  {
   "source": [
    "The following code initializes the count vectorizer with the English stop words."
   ],
   "cell_type": "markdown",
   "metadata": {}
  },
  {
   "cell_type": "code",
   "execution_count": null,
   "metadata": {},
   "outputs": [],
   "source": [
    "count_vectorizer = CountVectorizer(stop_words='english')"
   ]
  },
  {
   "source": [
    "The following code fits and transforms the processed titles."
   ],
   "cell_type": "markdown",
   "metadata": {}
  },
  {
   "cell_type": "code",
   "execution_count": null,
   "metadata": {},
   "outputs": [],
   "source": [
    "count_data = count_vectorizer.fit_transform(df['Title'])"
   ]
  },
  {
   "source": [
    "The following code creates and fits the LDA model."
   ],
   "cell_type": "markdown",
   "metadata": {}
  },
  {
   "cell_type": "code",
   "execution_count": null,
   "metadata": {},
   "outputs": [],
   "source": [
    "lda = LDA(n_components= 20 )\n",
    "lda.fit(count_data)"
   ]
  },
  {
   "source": [
    "The following code prints the topics found by the LDA model."
   ],
   "cell_type": "markdown",
   "metadata": {}
  },
  {
   "cell_type": "code",
   "execution_count": null,
   "metadata": {},
   "outputs": [],
   "source": [
    "print(\"Topics found via LDA:\")\n",
    "print_topics(lda, count_vectorizer, 10)"
   ]
  },
  {
   "source": [
    "The following code tranforms the count_data into an array."
   ],
   "cell_type": "markdown",
   "metadata": {}
  },
  {
   "cell_type": "code",
   "execution_count": null,
   "metadata": {},
   "outputs": [],
   "source": [
    "arraydata = lda.transform(count_data)"
   ]
  },
  {
   "source": [
    "The following code sets the titles for the topics. Theese topics have to be manually fitted to the topics and since the topics change for every time the algorithm above us run these are only applicable to the data we used for our analysis. "
   ],
   "cell_type": "markdown",
   "metadata": {}
  },
  {
   "cell_type": "code",
   "execution_count": null,
   "metadata": {},
   "outputs": [],
   "source": [
    "defined_topics = ['C#: Values and Null', 'ASP.NET: MVC', 'C#: Scripting and Dependency Injection', '.NET: XML', 'C#/Blazor: Async Programing', 'C#: Classes', 'ASP.NET Core: Networking and Assembly', '.NET: Exceptions and DateTime', 'Unity: Networking and Errors', 'Azure: Web Server and Windows VM', 'WPF: Datagrid and exporting to Excel', '.NET: Converting JSON', '.NET: SQL, Linq and Entity Framework', '.NET: File System', 'Visual Studio/Visual Studio Code:', '.NET: Nuget Packages', '.NET Core: Entity Framework', 'Xamarin: Forms and MongoDB', 'WPF: User Interface','C#: Classes and Interfaces']\n",
    "def get_topic(topic_scores):\n",
    "    maxscore = 0\n",
    "    topicNbr = 0\n",
    "    fittingTopic = 0\n",
    "    for score in topic_scores:\n",
    "        current_score = score\n",
    "        if current_score>maxscore:\n",
    "            maxscore = current_score\n",
    "            fittingTopic = defined_topics[topicNbr]\n",
    "        topicNbr += 1\n",
    "    return fittingTopic"
   ]
  },
  {
   "source": [
    "The following code sets the assigned titles to the correct topic."
   ],
   "cell_type": "markdown",
   "metadata": {}
  },
  {
   "cell_type": "code",
   "execution_count": null,
   "metadata": {},
   "outputs": [],
   "source": [
    "def topic_list():\n",
    "    the_list = []\n",
    "    for scoreList in arraydata:\n",
    "        the_list.append(get_topic(scoreList))\n",
    "    return the_list\n",
    "df.insert(4, \"Topic\", topic_list(), True)"
   ]
  },
  {
   "source": [
    "The following code visualizes the topics based on the amount of questions connected to that topic."
   ],
   "cell_type": "markdown",
   "metadata": {}
  },
  {
   "cell_type": "code",
   "execution_count": null,
   "metadata": {},
   "outputs": [],
   "source": [
    "result = df['Topic'].value_counts()\n",
    "result.plot.bar()"
   ]
  },
  {
   "source": [
    "The following code visualizes the topics based on the average score the questions connected to that topic got."
   ],
   "cell_type": "markdown",
   "metadata": {}
  },
  {
   "cell_type": "code",
   "execution_count": null,
   "metadata": {},
   "outputs": [],
   "source": [
    "score_mean = df.groupby(['Score', 'Topic']).sum().reset_index().groupby('Topic').mean()\n",
    "score_mean.plot.bar()"
   ]
  },
  {
   "cell_type": "markdown",
   "metadata": {},
   "source": [
    "### 6. Result evaluation\n",
    "\n",
    "Here a presentation of the result from when the study group ran the code is shown and a corresponding evaluation presented. \n",
    "\n",
    "#### 6.1 Final topics\n",
    "\n",
    "The topics during the final run of the algorithm in this study is hereby labeled based on a consensus inside the research group in regards to which part of .NET it applies to and if possible which kind of problem. It is here presented with those labels as the headers and the words for that specific topic underneath. When running the algorithm again it will not necessarily land in these same exact topics, which is why it’s presented in textform here. \n",
    "\n",
    "C#: Values and Null<br>\n",
    "value selenium null set report attribute contain active return default\n",
    "\n",
    "ASP.NET: MVC<br>\n",
    "net asp core mvc controller web api view model razor\n",
    "\n",
    "C#: Scripting and Dependency Injection<br>\n",
    "item selected script dependency output items console injection log listbox\n",
    "\n",
    ".NET: XML <br>\n",
    "xml child html parent stored document element procedure email prevent\n",
    "\n",
    "C#/Blazor: Async Programming<br>\n",
    "method variable parameter async pass blazor calling return function reference\n",
    "\n",
    "C#: Classes<br>\n",
    "class properties generic base library loop characters type having changing\n",
    "\n",
    "ASP.NET Core: Networking and Assembly<br>\n",
    "microsoft load assembly client graph version server dll socket aspnetcore\n",
    "\n",
    "NET: Exceptions and DateTime<br>\n",
    "exception time function error message format date datetime send string\n",
    "\n",
    "Unity: Networking and Errors <br>\n",
    "unity work working doesn process stop httpclient code error foreach\n",
    "\n",
    "Azure: Web Server and Windows VM<br>\n",
    "app application server service net windows web access error azure\n",
    "\n",
    "WPF: Datagrid and exporting to Excel<br>\n",
    "data wpf page binding row excel datagridview column datagrid window\n",
    "\n",
    ".NET: Converting JSON<br>\n",
    "list object type string json convert objects property dictionary nested\n",
    "\n",
    ".NET: SQL, Linq and Entity Framework<br>\n",
    "linq query framework sql test select multiple filter unit entity\n",
    "\n",
    ".NET: File System<br>\n",
    "file files image read save path folder upload pdf download\n",
    "\n",
    "Visual Studio/Visual Studio Code: Undefined<br>\n",
    "visual studio project code vs build current 2019 debug solution\n",
    "\n",
    ".NET: Nuget Packages<br>\n",
    "api json request azure response post nuget package google http\n",
    "\n",
    ".NET Core: Entity Framework <br>\n",
    "core entity database framework ef table key data update insert\n",
    "\n",
    "Xamarin: Forms and MongoDB<br>\n",
    "xamarin forms form android connection windows loading mongodb data ios\n",
    "\n",
    "WPF: User Interface<br>\n",
    "button control text wpf click change uwp task ui background\n",
    "\n",
    "C#: Classes and Interfaces<br>\n",
    "array interface types byte character classes generic methods constructor instance\n"
   ]
  },
  {
   "source": [
    "#### 6.2 Topics visualised\n",
    "\n",
    "**Topics sorted by number of questions asked about that topic:** \n",
    "\n",
    "<img src=\"https://i.ibb.co/QK03CmH/Plot1.png\">"
   ],
   "cell_type": "markdown",
   "metadata": {}
  },
  {
   "source": [
    "**Topics visualised with the average score of all questions regarding that topic on the y-axis:**\n",
    "\n",
    "<img src=\"https://i.ibb.co/Q98dBKt/Plot2.png\">"
   ],
   "cell_type": "markdown",
   "metadata": {}
  },
  {
   "source": [
    "### 6.3 Actionable conclusions\n",
    "The following are the conclusions drawn from each topic. \n",
    "\n",
    "**ASP.NET: MVC**<br>\n",
    "MVC is a very large design principle that’s essential for building good ASP.NET applications. Since this is the case and ASP.NET is a very popular framework in .NET it’s not surprising to see this topic being the most asked about. However, to draw more conclusions on if and then where the .NET documentation needs to be improved in regard to this topic more studies are needed. For example a similar study to this based only on questions about MVC and ASP.NET might produce more actionable results. <br><br>\n",
    "**Azure: Web Server and Windows VM**<br>\n",
    "Questions regarding Azure and C# are hard to define down to a small and actionable issue in the .NET documentation and more specific studies are needed. <br><br>\n",
    "**.NET: Converting JSON<br>**\n",
    "The third most asked topic is converting between JSON and objects in .NET. Regarding problems like nested objects and coupling. This indicates a flaw in the C# documentation where this kind of conversions could be explained more thoroughly. Especially since Microsoft now has its own Nuget package for JSON serialization and deserialization. <br><br>\n",
    "**WPF: Datagrid and exporting to Excel<br>**\n",
    "The datagrid is a very essential design element in WPF applications and because of this it’s not surprising to see many questions about it. It’s also a broad topic but a conclusion can be drawn in the questions that seem to regard exporting data from a datagrid. More specifically exporting to Excel seems to be a workflow that could need som improvement in the documentation. <br><br>\n",
    "**WPF: User Interface<br>**\n",
    "WPF uses XAML for it’s user interface and this is a design platform that might seem different for people coming from for example web design or Windows Forms. This will of course lead to many questions in this area but based on our data also a lot of low quality questions. This might be because design questions can be hard to make specific but at the same time broad enough to be of value to many. Since the questions are of low quality one might assume it would be impossible to make the documentation regarding XAML broad enough to cover all the specific design cases and many questions in this area might not point to a problem with the official documentation. <br><br>\n",
    "**.NET Core: Entity Framework <br>**\n",
    "The keywords regarding Entity Framework: table, key, data, update and insert seem to point to lack of basic understanding of its core concepts. This is a clear indication that the documentation around this could be improved with more examples and explanations around core concepts like inserting and updating data into a table. <br><br>\n",
    "**.NET: File System<br>**\n",
    "The questions regarding the file systems seem to be around basic operations like downloading and uploading files and images and providing the correct path to the document. This is a common operation in many workflows and frameworks in .NET which makes this hard to draw an actionable conclusion from this since the process for providing for example paths to a document is very different across the .NET platform.<br><br>\n",
    "**C#/Blazor: Async Programming<br>**\n",
    "Async programming is oftentimes seen as one of the more difficult concepts a programmer could learn. So it’s not surprising to see that this is a popular topic for questions. Async programming is handled a bit differently in different parts of .NET but the groundwork is laid out by the C# programming language. So the documentation could maybe be improved in this area but it’s hard to say for sure since this might also just be a very difficult subject.<br><br>\n",
    "**.NET: SQL, LINQ and Entity Framework<br>**\n",
    "This topic concerns two very linked concepts in .NET (LINQ and EF) with a very popular database language SQL. Since you either use SQL or EF and not both this indicates that there are many questions regarding how to do common SQL queries with EF and LINQ. So maybe Microsoft could broaden it’s documentation on EF with more concrete examples of common SQL queries and how to do them with EF and LINQ instead.<br><br> \n",
    "**.NET: Nuget Packages<br>**\n",
    "Since most of the keywords here refer to the names of different Nuget packages these questions do not seem to say much about the .NET documentation. Nuget packages should have their own documentation. <br><br>\n",
    "**NET: Exceptions and DateTime<br>**\n",
    "Conversions between DateTime and other formats seems to be a common question and handling date and time is a common hardship in software development so it’s not surprising to see here. The documentation in .NET regarding DateTime is very extensive but this implies that it might be room for improvement here. <br><br>\n",
    "**C#: Classes and Interfaces<br>**\n",
    "The connection between interfaces and classes is a broad area which ties deeply into different design patterns. The recommendation here based on the questions are broader explanations of how the design patterns and the interface and classes connections actually should work. Combined of course with low level examples of this in action. <br><br>\n",
    "**Unity: Networking and Errors <br>**\n",
    "Unity is not a part of the .NET platform but it does use C#. Since questions of networking and errors in Unity is not part of the .NET platform it should not be covered in the .NET documentation.<br><br>\n",
    "**Visual Studio/Visual Studio Code: <br>**\n",
    "Visual Studio and Visual Studio Code are not part of the .NET platform per se and should not be covered in the .NET documentation. <br><br>\n",
    "**Xamarin: Forms and MongoDB<br>**\n",
    "Xamarin Forms is the design tool used in Xamarin development and is a big subject that just as XAML can be used in as many ways as there are designers using it. This makes it hard to produce documentation that covers all the possible cases. MongoDB is a database framework and that this comes up indicates that many users are wondering about how to do the connection between Xamarin projects and this very popular database. The documentation could thereby need documentation regarding the workflow to connect to a number of popular databases from Xamarin.<br><br>\n",
    "**C#: Values and Null<br>**\n",
    "Properties are a core feature in the .NET framework which contains values. The keywords indicate that people tend to ask questions about general concepts regarding values, and this could therefore be an indication that these documentation parts could be further developed to better understanding.<br><br>\n",
    "**.NET: XML<br>**\n",
    "XML is used to exchange data between systems, either using the XML namespace or with LINQ, and the questions seem to mainly deal with hierarchy between objects, and how to store and process data. Since several of the other topics concern LINQ this could indicate that the documentation doesn’t cover how to handle XML data with LINQ specifically, but mainly focuses on the XML namespace. But there isn’t enough data to draw any decisive conclusions.<br><br>\n",
    "**C#: Classes<br>**\n",
    "Because the .NET framework includes a large class library it is expected to find a lot of questions about classes. Keywords like properties, generic, base and type shows that there might be room for improvements in the official documentation about more general class concepts. Although the data is too incohesive to make any actual implications.<br><br>\n",
    "**C#: Scripting and Dependency Injection<br>**\n",
    "Since dependency injection is used frequently while scripting to test different code snippets, it’s not surprising to see that there are a lot of questions about this topic. This does not necessarily mean that the .NET documentation is inadequate, but could rather be an indication that the questions are too specific to be covered. It would need a more specific study about this topic to draw any conclusions.<br><br>\n",
    "**ASP.NET Core: Networking and Assembly<br>**\n",
    "Assemblies are used in ASP.NET core for enabling execution of programs on web applications, and since ASP.NET Core is a high level framework, the amount of questions regarding this topic could indicate that the documentation could be improved regarding networking and assembly, more specifically different protocols and libraries.\n",
    "\n"
   ],
   "cell_type": "markdown",
   "metadata": {}
  },
  {
   "cell_type": "markdown",
   "metadata": {},
   "source": [
    "### 7. Ethical aspects\n",
    "\n",
    "Some ethical aspects to take into account when reviewing this study's result.\n",
    "\n",
    "#### 7.1 Stack Overflows ambiguous rating-system\n",
    "\n",
    "Stack Overflow is widely used as a source of knowledge when programming. This raises the concern of the quality of the posts and corresponding answers on Stack Overflow, especially when seeing that code distributed on Stack Overflow later on makes its way to actual applications. The stability and security on what is supplied through the answers on Stack Overflow is therefore an interesting aspect to examine. Wang, Chen, Hassan (2020) has investigated the quality of answers given on questions on Stack Overflow, and reached the conclusion that the current system for evaluating the quality of the answers may be misleading. This is primarily due to the rewards-system used by Stack Overflow, where users’ may rate answers and receive rewards/badges. This may lead to that the quality rating may not truly reflect the actual quality of the answers, and thus resulting in an ambiguous dataset for this study. (Wang, Chen, Hassan, 2020)\n",
    "\n",
    "#### 7.2 Implications because of Microsoft being a business\n",
    "\n",
    "Another ethical aspect of this study, is that it will be valued based on the business value it will provide Microsoft. The study should not be able to be biased because of this, but the evaluation of the outcome may be biased in how to use the result for the most profitable solution for Microsoft. The aim of the study can despite this be used to delve deeper in to the meaning of programming languages documentation, and should not be seen as restricted to just this particular case of Microsoft/.NET, but instead as applicable for most programming languages and the corresponding developer. "
   ]
  },
  {
   "source": [
    "### 8. References\n",
    "\n",
    "\n",
    "- Abtahi, P., Dietz, G. Learning rust: How experienced programmers leverage resources to learn a new programming language (2020) art. no. 3383069. DOI: 10.1145/3334480.3383069\n",
    "<br><br>\n",
    "- Bai, G.R., Kayani, J., Stolee, K.T. How graduate computing students search when using an unfamiliar programming language (2020) pp. 160-171. DOI: 10.1145/3387904.3389274\n",
    "<br><br>\n",
    "- D. Blei, A. Ng, and M. Jordan. Latent dirichlet allocation. Journal of Machine Learning Research, 3:993–1022, 2003.\n",
    "<br><br>\n",
    "- Iqbal, A., Khatun, S., Arefin, M.S., Ali Akber Dewan, M. ERF: An empirical recommender framework for ascertaining appropriate learning materials from stack overflow discussions (2020) 9 (3), art. no. 57, pp. 1-16. DOI: 10.3390/computers9030057\n",
    "<br><br>\n",
    "- Liu, L., Tang, L., Dong, W., Yao, S., Zhou, W. An overview of topic modeling and its current applications in bioinformatics. SpringerPlus 5, 1608 (2016).  DOI: 10.1186/s40064-016-3252-8\n",
    "<br><br>\n",
    "- Meldrum, S., Licorish, S.A., Owen, C.A., Savarimuthu, B.T.R. Understanding stack overflow code quality: A recommendation of caution (2020) 199, art. no. 102516,. DOI: 10.1016/j.scico.2020.102516\n",
    "<br><br>\n",
    "- Mkhitaryan, A. Why Is C# Among The Most Popular Programming Languages in The World? (2017), Medium. https://medium.com/sololearn/why-is-c-among-the-most-popular-programming-languages-in-the-world-ccf26824ffcb\n",
    "<br><br>\n",
    "- Tan, P.-N.; Steinbach, M. & Kumar, V. (2019), Introduction to Data Mining , Addison Wesley.\n",
    "Shrestha, N., Botta, C., Barik, T., Parnin, C. Herewe go again: Why is it difficult for developers to learn another programming language (2020) art. no. 3380352, pp. 691-701. DOI: 10.1145/3377811.3380352\n",
    "<br><br>\n",
    "- Wang, S., Chen, T.-H., Hassan, A.E. How Do Users Revise Answers on Technical QA Websites? A Case Study on Stack Overflow, (2020) 46 (9), art. no. 8485395, pp. 1024-1038.  DOI: 10.1109/TSE.2018.2874470\n"
   ],
   "cell_type": "markdown",
   "metadata": {}
  }
 ],
 "metadata": {
  "kernelspec": {
   "name": "python3",
   "display_name": "Python 3.9.0 64-bit",
   "metadata": {
    "interpreter": {
     "hash": "5d4d8b12ad94c66ce5966034f6814428cc36406de0ac35c09e29fd477c12d02c"
    }
   }
  },
  "language_info": {
   "codemirror_mode": {
    "name": "ipython",
    "version": 3
   },
   "file_extension": ".py",
   "mimetype": "text/x-python",
   "name": "python",
   "nbconvert_exporter": "python",
   "pygments_lexer": "ipython3",
   "version": "3.9.0-final"
  }
 },
 "nbformat": 4,
 "nbformat_minor": 4
}