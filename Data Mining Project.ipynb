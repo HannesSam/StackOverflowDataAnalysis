{
 "cells": [
  {
   "cell_type": "markdown",
   "metadata": {},
   "source": [
    "## Data collection\n",
    "\n",
    "*Document your data collection process and the properties of the data here. Implement, using Python code, to load and preprocess your selected dataset.*\n",
    "\n",
    "To acquire a large number of Stack Overflow questions regarding C# you can query the official Stack Overflow database with SQL queries at https://data.stackexchange.com/stackoverflow/queries. These queries can only return 50 000 results at a time so multiple queries have to be made to get all the questions from within a specific period of time. The time frame chosen in this report was 2019-09-22 to 2020-11-08. This period of time was chosen since this is the period of time that C# 8 was the current release of C# and the assumption here was that the documentation regarding new features could be the most lacking.\n",
    "\n",
    "The query used is as follows: <br>\n",
    "```\n",
    "SELECT * FROM posts WHERE Tags LIKE '%c#%' AND posts.CreationDate < 'Insert start data here' AND posts.CreationDate > 'Insert end date here'\n",
    "ORDER BY posts.CreationDate desc\n",
    "```\n",
    "\n",
    "Since this operation has to be done in multiple queries the date input will vary but in the end, you will end up with a number of .CSV files containing the data. In our case, we ended up with three files containing 117 527 questions. These files were then combined into one which is the Data.csv file that you can see in the following steps."
   ]
  },
  {
   "cell_type": "markdown",
   "metadata": {},
   "source": [
    "### Read the data from the file and output some values to make sure the data read is correct. "
   ]
  },
  {
   "cell_type": "code",
   "execution_count": 21,
   "metadata": {},
   "outputs": [
    {
     "output_type": "stream",
     "name": "stderr",
     "text": [
      "C:\\Users\\hanne\\AppData\\Roaming\\Python\\Python39\\site-packages\\ipykernel\\ipkernel.py:287: DeprecationWarning: `should_run_async` will not call `transform_cell` automatically in the future. Please pass the result to `transformed_cell` argument and any exception that happen during thetransform in `preprocessing_exc_tuple` in IPython 7.17 and above.\n  and should_run_async(code)\n"
     ]
    }
   ],
   "source": [
    "# Importing the necessary libraries\n",
    "import pandas as pd\n",
    "from collections import Counter\n",
    "import operator\n",
    "import os\n",
    "import nltk\n",
    "import matplotlib\n",
    "import gensim\n",
    "from sklearn.feature_extraction.text import CountVectorizer\n",
    "import gensim.corpora as corpora\n",
    "from gensim.utils import simple_preprocess\n",
    "from gensim.models import CoherenceModel\n",
    "import pyLDAvis\n",
    "import pyLDAvis.gensim  # don't skip this\n",
    "import matplotlib.pyplot as plt\n",
    "import re\n",
    "import numpy as np\n",
    "from pprint import pprint\n",
    "# Ignore warnings for a specific error that we can ignore in this application\n",
    "pd.options.mode.chained_assignment = None  # default='warn'"
   ]
  },
  {
   "cell_type": "code",
   "execution_count": 7,
   "metadata": {},
   "outputs": [],
   "source": [
    "# Read our data from the data.csv file\n",
    "stackOverflowData = pd.read_csv(\n",
    "    './Data.csv',\n",
    "    encoding='utf-8'\n",
    ")"
   ]
  },
  {
   "cell_type": "code",
   "execution_count": 8,
   "metadata": {},
   "outputs": [
    {
     "output_type": "stream",
     "name": "stdout",
     "text": [
      "Number of Rows and Columns:\n(117527, 23)\n"
     ]
    }
   ],
   "source": [
    "# Print the size of the dataset read\n",
    "print('Number of Rows and Columns:')\n",
    "print(stackOverflowData.shape)"
   ]
  },
  {
   "cell_type": "code",
   "execution_count": 9,
   "metadata": {},
   "outputs": [
    {
     "output_type": "stream",
     "name": "stdout",
     "text": [
      "Dates from wich the data is produced: 2019-09-22 00:02:14 to 2020-11-08 04:47:27\n"
     ]
    }
   ],
   "source": [
    "# Print the dates from wich this data is produced\n",
    "minValue = stackOverflowData['CreationDate'].min()\n",
    "maxValue = stackOverflowData['CreationDate'].max()\n",
    "print('Dates from wich the data is produced: ' +\n",
    "      minValue + ' to ' + maxValue)"
   ]
  },
  {
   "cell_type": "code",
   "execution_count": 10,
   "metadata": {},
   "outputs": [
    {
     "output_type": "execute_result",
     "data": {
      "text/plain": [
       "(98705, 23)"
      ]
     },
     "metadata": {},
     "execution_count": 10
    }
   ],
   "source": [
    "# This code removes all the questions that are closed or has a negative score since this is an indication\n",
    "# of a bad question.\n",
    "stackOverflowData = stackOverflowData[stackOverflowData['ClosedDate'].isnull()]\n",
    "stackOverflowData = stackOverflowData[stackOverflowData['Score']>=0]\n",
    "stackOverflowData.shape"
   ]
  },
  {
   "cell_type": "markdown",
   "metadata": {},
   "source": [
    "### The next step is to read the data into a Data Frame and prepare the data for the analysis phase"
   ]
  },
  {
   "cell_type": "code",
   "execution_count": 12,
   "metadata": {},
   "outputs": [],
   "source": [
    "# Creating a Data Frame with only the necessary columns\n",
    "df = stackOverflowData[['AcceptedAnswerId', 'Title',\n",
    "                    'CreationDate', 'Body']]"
   ]
  },
  {
   "cell_type": "code",
   "execution_count": 13,
   "metadata": {},
   "outputs": [],
   "source": [
    "# Setting the neccessary data to lowercase since this will make sure that uppercase and lowercase words from the \n",
    "# data will be treated as equal in the comming algorithms.\n",
    "df['Body'] = df['Body'].str.lower()\n",
    "df['Title'] = df['Title'].str.lower()"
   ]
  },
  {
   "cell_type": "code",
   "execution_count": 14,
   "metadata": {},
   "outputs": [
    {
     "output_type": "execute_result",
     "data": {
      "text/plain": [
       "(100,)"
      ]
     },
     "metadata": {},
     "execution_count": 14
    }
   ],
   "source": [
    "#smaller scaled df\n",
    "df = df.head(100)\n",
    "text = df['Title']\n",
    "text.shape"
   ]
  },
  {
   "cell_type": "code",
   "execution_count": 22,
   "metadata": {},
   "outputs": [
    {
     "output_type": "stream",
     "name": "stderr",
     "text": [
      "C:\\Users\\hanne\\AppData\\Roaming\\Python\\Python39\\site-packages\\ipykernel\\ipkernel.py:287: DeprecationWarning: `should_run_async` will not call `transform_cell` automatically in the future. Please pass the result to `transformed_cell` argument and any exception that happen during thetransform in `preprocessing_exc_tuple` in IPython 7.17 and above.\n  and should_run_async(code)\n"
     ]
    },
    {
     "output_type": "error",
     "ename": "NameError",
     "evalue": "name 'gensim' is not defined",
     "traceback": [
      "\u001b[1;31m---------------------------------------------------------------------------\u001b[0m",
      "\u001b[1;31mNameError\u001b[0m                                 Traceback (most recent call last)",
      "\u001b[1;32m<ipython-input-22-d5e0bb266361>\u001b[0m in \u001b[0;36m<module>\u001b[1;34m\u001b[0m\n\u001b[0;32m      6\u001b[0m         \u001b[1;32myield\u001b[0m\u001b[1;33m(\u001b[0m\u001b[0mgensim\u001b[0m\u001b[1;33m.\u001b[0m\u001b[0mutils\u001b[0m\u001b[1;33m.\u001b[0m\u001b[0msimple_preprocess\u001b[0m\u001b[1;33m(\u001b[0m\u001b[0mstr\u001b[0m\u001b[1;33m(\u001b[0m\u001b[0msentence\u001b[0m\u001b[1;33m)\u001b[0m\u001b[1;33m,\u001b[0m \u001b[0mdeacc\u001b[0m\u001b[1;33m=\u001b[0m\u001b[1;32mTrue\u001b[0m\u001b[1;33m)\u001b[0m\u001b[1;33m)\u001b[0m\u001b[1;33m\u001b[0m\u001b[1;33m\u001b[0m\u001b[0m\n\u001b[0;32m      7\u001b[0m \u001b[1;33m\u001b[0m\u001b[0m\n\u001b[1;32m----> 8\u001b[1;33m \u001b[0mdata_words\u001b[0m \u001b[1;33m=\u001b[0m \u001b[0mlist\u001b[0m\u001b[1;33m(\u001b[0m\u001b[0msent_to_words\u001b[0m\u001b[1;33m(\u001b[0m\u001b[0mtext\u001b[0m\u001b[1;33m)\u001b[0m\u001b[1;33m)\u001b[0m\u001b[1;33m\u001b[0m\u001b[1;33m\u001b[0m\u001b[0m\n\u001b[0m",
      "\u001b[1;32m<ipython-input-22-d5e0bb266361>\u001b[0m in \u001b[0;36msent_to_words\u001b[1;34m(sentences)\u001b[0m\n\u001b[0;32m      4\u001b[0m \u001b[1;32mdef\u001b[0m \u001b[0msent_to_words\u001b[0m\u001b[1;33m(\u001b[0m\u001b[0msentences\u001b[0m\u001b[1;33m)\u001b[0m\u001b[1;33m:\u001b[0m\u001b[1;33m\u001b[0m\u001b[1;33m\u001b[0m\u001b[0m\n\u001b[0;32m      5\u001b[0m     \u001b[1;32mfor\u001b[0m \u001b[0msentence\u001b[0m \u001b[1;32min\u001b[0m \u001b[0msentences\u001b[0m\u001b[1;33m:\u001b[0m\u001b[1;33m\u001b[0m\u001b[1;33m\u001b[0m\u001b[0m\n\u001b[1;32m----> 6\u001b[1;33m         \u001b[1;32myield\u001b[0m\u001b[1;33m(\u001b[0m\u001b[0mgensim\u001b[0m\u001b[1;33m.\u001b[0m\u001b[0mutils\u001b[0m\u001b[1;33m.\u001b[0m\u001b[0msimple_preprocess\u001b[0m\u001b[1;33m(\u001b[0m\u001b[0mstr\u001b[0m\u001b[1;33m(\u001b[0m\u001b[0msentence\u001b[0m\u001b[1;33m)\u001b[0m\u001b[1;33m,\u001b[0m \u001b[0mdeacc\u001b[0m\u001b[1;33m=\u001b[0m\u001b[1;32mTrue\u001b[0m\u001b[1;33m)\u001b[0m\u001b[1;33m)\u001b[0m\u001b[1;33m\u001b[0m\u001b[1;33m\u001b[0m\u001b[0m\n\u001b[0m\u001b[0;32m      7\u001b[0m \u001b[1;33m\u001b[0m\u001b[0m\n\u001b[0;32m      8\u001b[0m \u001b[0mdata_words\u001b[0m \u001b[1;33m=\u001b[0m \u001b[0mlist\u001b[0m\u001b[1;33m(\u001b[0m\u001b[0msent_to_words\u001b[0m\u001b[1;33m(\u001b[0m\u001b[0mtext\u001b[0m\u001b[1;33m)\u001b[0m\u001b[1;33m)\u001b[0m\u001b[1;33m\u001b[0m\u001b[1;33m\u001b[0m\u001b[0m\n",
      "\u001b[1;31mNameError\u001b[0m: name 'gensim' is not defined"
     ]
    }
   ],
   "source": [
    "# tokenize\n",
    "\n",
    "\n",
    "def sent_to_words(sentences):\n",
    "    for sentence in sentences:\n",
    "        yield(gensim.utils.simple_preprocess(str(sentence), deacc=True))\n",
    "\n",
    "data_words = list(sent_to_words(text))"
   ]
  },
  {
   "cell_type": "code",
   "execution_count": 27,
   "metadata": {},
   "outputs": [
    {
     "name": "stdout",
     "output_type": "stream",
     "text": [
      "['cannot', 'return', 'value', 'from', 'class', 'that', 'inherits']\n"
     ]
    },
    {
     "name": "stderr",
     "output_type": "stream",
     "text": [
      "C:\\Users\\AxelS\\miniconda3\\lib\\site-packages\\ipykernel\\ipkernel.py:287: DeprecationWarning: `should_run_async` will not call `transform_cell` automatically in the future. Please pass the result to `transformed_cell` argument and any exception that happen during thetransform in `preprocessing_exc_tuple` in IPython 7.17 and above.\n",
      "  and should_run_async(code)\n"
     ]
    }
   ],
   "source": [
    "#create bigram\n",
    "bigram = gensim.models.Phrases(data_words, min_count=5, threshold=100)\n",
    "bigram_mod = gensim.models.phrases.Phraser(bigram)\n",
    "print(bigram_mod[data_words[0]])"
   ]
  },
  {
   "cell_type": "code",
   "execution_count": 68,
   "metadata": {},
   "outputs": [
    {
     "name": "stderr",
     "output_type": "stream",
     "text": [
      "C:\\Users\\AxelS\\miniconda3\\lib\\site-packages\\ipykernel\\ipkernel.py:287: DeprecationWarning: `should_run_async` will not call `transform_cell` automatically in the future. Please pass the result to `transformed_cell` argument and any exception that happen during thetransform in `preprocessing_exc_tuple` in IPython 7.17 and above.\n",
      "  and should_run_async(code)\n"
     ]
    }
   ],
   "source": [
    "#make bigrams, Lemmatize\n",
    "stop_words = ['the', 'on', 'are', 'is', 'but' 'and', 'in', 'to', 'how', 'for', 'and', 'with', 'can']"
   ]
  },
  {
   "cell_type": "code",
   "execution_count": 69,
   "metadata": {},
   "outputs": [
    {
     "name": "stdout",
     "output_type": "stream",
     "text": [
      "[['cannot', 'return', 'value', 'from', 'class', 'that', 'inherits']]\n"
     ]
    },
    {
     "name": "stderr",
     "output_type": "stream",
     "text": [
      "C:\\Users\\AxelS\\miniconda3\\lib\\site-packages\\ipykernel\\ipkernel.py:287: DeprecationWarning: `should_run_async` will not call `transform_cell` automatically in the future. Please pass the result to `transformed_cell` argument and any exception that happen during thetransform in `preprocessing_exc_tuple` in IPython 7.17 and above.\n",
      "  and should_run_async(code)\n"
     ]
    }
   ],
   "source": [
    "# Form Bigrams\n",
    "def remove_stopwords(texts):\n",
    "    return [[word for word in simple_preprocess(str(doc)) if word not in stop_words] for doc in texts]\n",
    "\n",
    "def make_bigrams(texts):\n",
    "    return [bigram_mod[doc] for doc in texts]\n",
    "\n",
    "data_words_stopwords = remove_stopwords(data_words)\n",
    "data_words_bigrams = make_bigrams(data_words_stopwords)\n",
    "\n",
    "print(data_words_bigrams[:1])"
   ]
  },
  {
   "cell_type": "code",
   "execution_count": 70,
   "metadata": {},
   "outputs": [
    {
     "name": "stderr",
     "output_type": "stream",
     "text": [
      "C:\\Users\\AxelS\\miniconda3\\lib\\site-packages\\ipykernel\\ipkernel.py:287: DeprecationWarning: `should_run_async` will not call `transform_cell` automatically in the future. Please pass the result to `transformed_cell` argument and any exception that happen during thetransform in `preprocessing_exc_tuple` in IPython 7.17 and above.\n",
      "  and should_run_async(code)\n",
      "C:\\Users\\AxelS\\miniconda3\\lib\\asyncio\\events.py:81: DeprecationWarning: `run_cell_async` will not call `transform_cell` automatically in the future. Please pass the result to `transformed_cell` argument and any exception that happen during thetransform in `preprocessing_exc_tuple` in IPython 7.17 and above.\n",
      "  self._context.run(self._callback, *self._args)\n"
     ]
    },
    {
     "data": {
      "text/plain": [
       "[[('cannot', 1),\n",
       "  ('class', 1),\n",
       "  ('from', 1),\n",
       "  ('inherits', 1),\n",
       "  ('return', 1),\n",
       "  ('that', 1),\n",
       "  ('value', 1)]]"
      ]
     },
     "execution_count": 70,
     "metadata": {},
     "output_type": "execute_result"
    }
   ],
   "source": [
    "#creat dict\n",
    "# Create Dictionary\n",
    "id2word = corpora.Dictionary(data_words_bigrams)\n",
    "\n",
    "# Create Corpus\n",
    "texts = data_words_bigrams\n",
    "\n",
    "# Term Document Frequency\n",
    "corpus = [id2word.doc2bow(text) for text in texts]\n",
    "\n",
    "# View\n",
    "# Human readable format of corpus (term-frequency)\n",
    "[[(id2word[id], freq) for id, freq in cp] for cp in corpus[:1]]"
   ]
  },
  {
   "cell_type": "code",
   "execution_count": 71,
   "metadata": {},
   "outputs": [
    {
     "name": "stderr",
     "output_type": "stream",
     "text": [
      "C:\\Users\\AxelS\\miniconda3\\lib\\site-packages\\ipykernel\\ipkernel.py:287: DeprecationWarning: `should_run_async` will not call `transform_cell` automatically in the future. Please pass the result to `transformed_cell` argument and any exception that happen during thetransform in `preprocessing_exc_tuple` in IPython 7.17 and above.\n",
      "  and should_run_async(code)\n"
     ]
    }
   ],
   "source": [
    "# Build LDA model\n",
    "lda_model = gensim.models.ldamodel.LdaModel(corpus=corpus,\n",
    "                                           id2word=id2word,\n",
    "                                           num_topics=20, \n",
    "                                           random_state=100,\n",
    "                                           update_every=1,\n",
    "                                           chunksize=100,\n",
    "                                           passes=10,\n",
    "                                           alpha='auto',\n",
    "                                           per_word_topics=True)"
   ]
  },
  {
   "cell_type": "code",
   "execution_count": 72,
   "metadata": {},
   "outputs": [
    {
     "name": "stdout",
     "output_type": "stream",
     "text": [
      "[(0,\n",
      "  '0.042*\"using\" + 0.028*\"application\" + 0.028*\"key\" + 0.028*\"first\" + '\n",
      "  '0.015*\"winform\" + 0.015*\"error\" + 0.015*\"connection\" + 0.015*\"nginx\" + '\n",
      "  '0.015*\"code\" + 0.015*\"ef\"'),\n",
      " (1,\n",
      "  '0.019*\"generated\" + 0.019*\"two\" + 0.019*\"randomly\" + 0.019*\"letters\" + '\n",
      "  '0.019*\"inputfield\" + 0.019*\"text\" + 0.019*\"check\" + 0.019*\"do\" + '\n",
      "  '0.019*\"whether\" + 0.019*\"contains\"'),\n",
      " (2,\n",
      "  '0.023*\"cs\" + 0.023*\"before\" + 0.023*\"onpost\" + 0.023*\"execute\" + '\n",
      "  '0.023*\"executed\" + 0.023*\"method\" + 0.023*\"set\" + 0.023*\"cshtml\" + '\n",
      "  '0.023*\"block\" + 0.023*\"it\"'),\n",
      " (3,\n",
      "  '0.027*\"object\" + 0.027*\"root\" + 0.027*\"an\" + 0.027*\"not\" + 0.027*\"when\" + '\n",
      "  '0.014*\"by\" + 0.014*\"made\" + 0.014*\"set\" + 0.014*\"class\" + '\n",
      "  '0.014*\"reference\"'),\n",
      " (4,\n",
      "  '0.028*\"process\" + 0.028*\"using\" + 0.014*\"variables\" + 0.014*\"read\" + '\n",
      "  '0.014*\"microsoft\" + 0.014*\"center\" + 0.014*\"app\" + 0.014*\"environment\" + '\n",
      "  '0.014*\"forms\" + 0.014*\"practice\"'),\n",
      " (5,\n",
      "  '0.023*\"working\" + 0.023*\"after\" + 0.023*\"console\" + 0.023*\"dot\" + '\n",
      "  '0.023*\"few\" + 0.023*\"application\" + 0.023*\"net\" + 0.023*\"core\" + '\n",
      "  '0.023*\"automatically\" + 0.023*\"days\"'),\n",
      " (6,\n",
      "  '0.036*\"sql\" + 0.036*\"server\" + 0.018*\"handle\" + 0.018*\"when\" + '\n",
      "  '0.018*\"child\" + 0.018*\"ef\" + 0.018*\"optimistic\" + 0.018*\"update\" + '\n",
      "  '0.018*\"updating\" + 0.018*\"core\"'),\n",
      " (7,\n",
      "  '0.034*\"dll\" + 0.034*\"net\" + 0.034*\"injector\" + 0.034*\"vb\" + '\n",
      "  '0.034*\"skiasharp\" + 0.034*\"carouselview\" + 0.002*\"too\" + 0.002*\"specified\" '\n",
      "  '+ 0.002*\"best\" + 0.002*\"sqlexception\"'),\n",
      " (8,\n",
      "  '0.038*\"mvc\" + 0.038*\"using\" + 0.020*\"ajax\" + 0.020*\"but\" + 0.020*\"incoming\" '\n",
      "  '+ 0.020*\"view\" + 0.020*\"element\" + 0.020*\"dynamically\" + 0.020*\"created\" + '\n",
      "  '0.020*\"json\"'),\n",
      " (9,\n",
      "  '0.033*\"class\" + 0.017*\"editor\" + 0.017*\"gameobject\" + 0.017*\"menuitem\" + '\n",
      "  '0.017*\"only\" + 0.017*\"any\" + 0.017*\"add\" + 0.017*\"context\" + 0.017*\"menu\" + '\n",
      "  '0.017*\"not\"'),\n",
      " (10,\n",
      "  '0.030*\"unity\" + 0.030*\"from\" + 0.015*\"isn\" + 0.015*\"showing\" + 0.015*\"my\" + '\n",
      "  '0.015*\"up\" + 0.015*\"of\" + 0.015*\"lists\" + 0.015*\"why\" + 0.015*\"getting\"'),\n",
      " (11,\n",
      "  '0.028*\"as\" + 0.028*\"svg\" + 0.028*\"image\" + 0.028*\"look\" + 0.028*\"icon\" + '\n",
      "  '0.028*\"disabled\" + 0.028*\"should\" + 0.028*\"event\" + 0.028*\"called\" + '\n",
      "  '0.028*\"userjoined\"'),\n",
      " (12,\n",
      "  '0.026*\"ip\" + 0.026*\"function\" + 0.026*\"button\" + 0.026*\"azure\" + '\n",
      "  '0.026*\"form\" + 0.013*\"storage\" + 0.013*\"unable\" + 0.013*\"working\" + '\n",
      "  '0.013*\"private\" + 0.013*\"while\"'),\n",
      " (13,\n",
      "  '0.033*\"get\" + 0.025*\"from\" + 0.017*\"reference\" + 0.017*\"api\" + 0.017*\"same\" '\n",
      "  '+ 0.017*\"script\" + 0.017*\"handle\" + 0.017*\"which\" + 0.017*\"form\" + '\n",
      "  '0.017*\"size\"'),\n",
      " (14,\n",
      "  '0.029*\"button\" + 0.029*\"glowing\" + 0.029*\"effects\" + 0.029*\"gradient\" + '\n",
      "  '0.029*\"hover\" + 0.029*\"animation\" + 0.029*\"list\" + 0.029*\"strongly\" + '\n",
      "  '0.029*\"two\" + 0.029*\"typed\"'),\n",
      " (15,\n",
      "  '0.016*\"contains\" + 0.016*\"two\" + 0.016*\"sql\" + 0.016*\"one\" + '\n",
      "  '0.016*\"dataset\" + 0.016*\"returns\" + 0.016*\"exist\" + 0.016*\"not\" + '\n",
      "  '0.016*\"says\" + 0.016*\"only\"'),\n",
      " (16,\n",
      "  '0.034*\"add\" + 0.023*\"json\" + 0.023*\"when\" + 0.023*\"system\" + 0.023*\"voice\" '\n",
      "  '+ 0.023*\"platform\" + 0.023*\"string\" + 0.012*\"enum\" + 0.012*\"forcing\" + '\n",
      "  '0.012*\"model\"'),\n",
      " (17,\n",
      "  '0.035*\"core\" + 0.023*\"ef\" + 0.023*\"postal\" + 0.012*\"net\" + 0.012*\"foreign\" '\n",
      "  '+ 0.012*\"key\" + 0.012*\"model\" + 0.012*\"post\" + 0.012*\"id\" + 0.012*\"method\"'),\n",
      " (18,\n",
      "  '0.032*\"net\" + 0.032*\"class\" + 0.032*\"asp\" + 0.017*\"error\" + 0.017*\"am\" + '\n",
      "  '0.017*\"having\" + 0.017*\"bootstrap\" + 0.017*\"operations\" + 0.017*\"or\" + '\n",
      "  '0.017*\"button\"'),\n",
      " (19,\n",
      "  '0.039*\"user\" + 0.027*\"control\" + 0.027*\"from\" + 0.027*\"net\" + '\n",
      "  '0.014*\"studio\" + 0.014*\"an\" + 0.014*\"way\" + 0.014*\"of\" + 0.014*\"designer\" + '\n",
      "  '0.014*\"display\"')]\n"
     ]
    },
    {
     "name": "stderr",
     "output_type": "stream",
     "text": [
      "C:\\Users\\AxelS\\miniconda3\\lib\\site-packages\\ipykernel\\ipkernel.py:287: DeprecationWarning: `should_run_async` will not call `transform_cell` automatically in the future. Please pass the result to `transformed_cell` argument and any exception that happen during thetransform in `preprocessing_exc_tuple` in IPython 7.17 and above.\n",
      "  and should_run_async(code)\n"
     ]
    }
   ],
   "source": [
    "pprint(lda_model.print_topics())\n",
    "doc_lda = lda_model[corpus]"
   ]
  },
  {
   "cell_type": "code",
   "execution_count": 73,
   "metadata": {},
   "outputs": [
    {
     "name": "stderr",
     "output_type": "stream",
     "text": [
      "C:\\Users\\AxelS\\miniconda3\\lib\\site-packages\\ipykernel\\ipkernel.py:287: DeprecationWarning: `should_run_async` will not call `transform_cell` automatically in the future. Please pass the result to `transformed_cell` argument and any exception that happen during thetransform in `preprocessing_exc_tuple` in IPython 7.17 and above.\n",
      "  and should_run_async(code)\n"
     ]
    },
    {
     "data": {
      "text/html": [
       "\n",
       "<link rel=\"stylesheet\" type=\"text/css\" href=\"https://cdn.rawgit.com/bmabey/pyLDAvis/files/ldavis.v1.0.0.css\">\n",
       "\n",
       "\n",
       "<div id=\"ldavis_el64322836383225216594829995\"></div>\n",
       "<script type=\"text/javascript\">\n",
       "\n",
       "var ldavis_el64322836383225216594829995_data = {\"mdsDat\": {\"x\": [0.2048223347882707, -0.14910703971261588, 0.05115847151343631, 0.0038928326671410947, 0.0010152185867921214, -0.10545749777009715, 0.09026405150758014, -0.0072184635175072415, 0.00146905973113396, -0.05725890412725758, 0.013985939317584491, 0.0016891354906436668, 0.057083188578191404, -0.03119232934881656, -0.034062371350056846, -0.00949501195158458, -0.007896980350891536, -0.019303257084069898, -0.0020325219183428725, -0.002355855049533751], \"y\": [-0.06114752874950027, -0.021666520913423887, 0.1373227930662119, -0.059415943196266446, -0.11552446621303455, -0.0021542808793508315, 0.0075737881148882835, 0.17764908157400375, 0.019626340876842147, -0.037880074288920006, -0.06471503525724558, -0.04927224145778919, 0.03812805084607239, -0.02294482727033692, 0.021519898113895694, 0.016779790971092775, 0.042468598365978064, -0.003283435901791379, -0.009333026230642864, -0.013730961570683162], \"topics\": [1, 2, 3, 4, 5, 6, 7, 8, 9, 10, 11, 12, 13, 14, 15, 16, 17, 18, 19, 20], \"cluster\": [1, 1, 1, 1, 1, 1, 1, 1, 1, 1, 1, 1, 1, 1, 1, 1, 1, 1, 1, 1], \"Freq\": [11.96666064800428, 7.961424904572069, 7.58079201351321, 6.713221704264615, 6.459370847688945, 6.38835365305759, 6.018524763122767, 5.82932730247565, 5.404423288242921, 5.140211432994085, 4.825045712142043, 4.644081810294488, 4.075293047439669, 3.7710841184675306, 3.637554468262954, 2.702578315091365, 2.6409430331565655, 1.7005504874364992, 1.5762156880504523, 0.9643427617222984]}, \"tinfo\": {\"Term\": [\"net\", \"using\", \"class\", \"not\", \"core\", \"button\", \"user\", \"sql\", \"when\", \"mvc\", \"file\", \"server\", \"add\", \"asp\", \"application\", \"list\", \"from\", \"get\", \"form\", \"two\", \"unity\", \"ef\", \"method\", \"of\", \"function\", \"json\", \"azure\", \"an\", \"object\", \"ip\", \"script\", \"api\", \"size\", \"get\", \"validating\", \"sharing\", \"http\", \"client\", \"another\", \"at\", \"url\", \"previously\", \"chrome\", \"interface\", \"notification\", \"google\", \"had\", \"toast\", \"configuration\", \"reassign\", \"firebase\", \"messaging\", \"missing\", \"proguard\", \"collection\", \"response\", \"microcharts\", \"populating\", \"session\", \"observable\", \"handle\", \"value\", \"same\", \"which\", \"reference\", \"form\", \"from\", \"of\", \"new\", \"compile\", \"time\", \"way\", \"variable\", \"core\", \"that\", \"asp\", \"between\", \"voice\", \"platform\", \"enum\", \"forcing\", \"deserializing\", \"fail\", \"absent\", \"choices\", \"rigidbody\", \"collider\", \"rotating\", \"through\", \"pause\", \"phasing\", \"twilio\", \"framework\", \"initialization\", \"vector\", \"performance\", \"xdocument\", \"numerics\", \"adding\", \"parameters\", \"support\", \"handler\", \"generic\", \"drag\", \"route\", \"images\", \"drop\", \"add\", \"system\", \"json\", \"string\", \"when\", \"text\", \"property\", \"model\", \"an\", \"which\", \"unity\", \"between\", \"using\", \"from\", \"do\", \"postal\", \"foreign\", \"post\", \"validation\", \"id\", \"uses\", \"webapi\", \"wasm\", \"canada\", \"each\", \"character\", \"blazor\", \"regex\", \"kivy\", \"optimization\", \"putextras\", \"searching\", \"radius\", \"consume\", \"build\", \"mouseup\", \"assembly\", \"don\", \"resultintent\", \"passing\", \"usercontrol\", \"mousedown\", \"area\", \"authentication\", \"prevent\", \"core\", \"ef\", \"net\", \"asp\", \"windows\", \"string\", \"model\", \"method\", \"mvc\", \"list\", \"contains\", \"code\", \"that\", \"key\", \"private\", \"listner\", \"main\", \"tcp\", \"managed\", \"public\", \"sub\", \"go\", \"cancel\", \"cross\", \"click\", \"column\", \"bound\", \"datatable\", \"default\", \"generate\", \"current\", \"entry\", \"nullable\", \"wallrunning\", \"ip\", \"button\", \"function\", \"azure\", \"unable\", \"working\", \"table\", \"context\", \"access\", \"am\", \"form\", \"storage\", \"while\", \"windows\", \"only\", \"do\", \"identity\", \"get\", \"reference\", \"an\", \"of\", \"control\", \"studio\", \"visual\", \"display\", \"easy\", \"full\", \"designer\", \"too\", \"excepts\", \"properties\", \"loop\", \"procedure\", \"specified\", \"values\", \"many\", \"remove\", \"single\", \"properly\", \"int\", \"groups\", \"arguments\", \"has\", \"users\", \"rdbms\", \"integration\", \"ignite\", \"apache\", \"tesseract\", \"bitmap\", \"user\", \"net\", \"from\", \"child\", \"of\", \"way\", \"there\", \"an\", \"use\", \"function\", \"sqlexception\", \"or\", \"made\", \"instance\", \"docker\", \"referencing\", \"container\", \"be\", \"located\", \"could\", \"testing\", \"custom\", \"unauthenticated\", \"redirect\", \"credential\", \"partitions\", \"page\", \"runtime\", \"no\", \"combobox\", \"found\", \"cosmos\", \"object\", \"root\", \"image\", \"set\", \"during\", \"solution\", \"prompt\", \"wpf\", \"an\", \"when\", \"not\", \"by\", \"reference\", \"using\", \"of\", \"controller\", \"class\", \"from\", \"application\", \"microsoft\", \"environment\", \"read\", \"variables\", \"forms\", \"practice\", \"good\", \"database\", \"registration\", \"works\", \"have\", \"views\", \"right\", \"ground\", \"jumping\", \"partial\", \"air\", \"transform\", \"store\", \"doesn\", \"items\", \"unique\", \"process\", \"override\", \"check\", \"type\", \"center\", \"fix\", \"identity\", \"app\", \"using\", \"android\", \"without\", \"same\", \"of\", \"xamarin\", \"asp\", \"class\", \"load\", \"list\", \"why\", \"first\", \"connection\", \"nginx\", \"hosting\", \"due\", \"down\", \"dotnet\", \"deletion\", \"nt\", \"linux\", \"dose\", \"batch\", \"fails\", \"deleted\", \"ironocr\", \"unexpected\", \"creating\", \"alternately\", \"expression\", \"key\", \"application\", \"event\", \"token\", \"console\", \"storage\", \"winform\", \"code\", \"return\", \"error\", \"process\", \"using\", \"sql\", \"server\", \"work\", \"file\", \"by\", \"isn\", \"showing\", \"lists\", \"getting\", \"inspector\", \"react\", \"attribute\", \"play\", \"ignoring\", \"inconsistent\", \"indefinitely\", \"stop\", \"mode\", \"expanding\", \"wfp\", \"floats\", \"accessing\", \"body\", \"operator\", \"modulus\", \"cshtml\", \"generated\", \"parent\", \"my\", \"up\", \"columns\", \"during\", \"change\", \"property\", \"unity\", \"from\", \"of\", \"data\", \"list\", \"element\", \"why\", \"sql\", \"textbox\", \"one\", \"returns\", \"dataset\", \"other\", \"says\", \"resources\", \"convert\", \"naudio\", \"mp\", \"wav\", \"soundfont\", \"files\", \"failure\", \"static\", \"webapp\", \"connecting\", \"edit\", \"itext\", \"allow\", \"into\", \"columns\", \"exist\", \"does\", \"query\", \"two\", \"return\", \"null\", \"contains\", \"only\", \"load\", \"sql\", \"not\", \"but\", \"variable\", \"asp\", \"net\", \"unity\", \"azure\", \"bootstrap\", \"having\", \"operations\", \"closing\", \"modal\", \"pop\", \"popup\", \"refreshing\", \"project\", \"crud\", \"applying\", \"editorwindow\", \"claims\", \"external\", \"idenity\", \"screen\", \"up\", \"center\", \"or\", \"am\", \"access\", \"class\", \"error\", \"without\", \"while\", \"use\", \"model\", \"asp\", \"button\", \"mvc\", \"net\", \"from\", \"menuitem\", \"editor\", \"gameobject\", \"menu\", \"near\", \"keyword\", \"title\", \"option\", \"hierarchy\", \"syntax\", \"top\", \"incorrect\", \"vscode\", \"separate\", \"find\", \"basic\", \"styling\", \"gettypes\", \"tab\", \"cannot\", \"my\", \"sqlexception\", \"domain\", \"context\", \"new\", \"only\", \"class\", \"any\", \"windows\", \"add\", \"asp\", \"not\", \"file\", \"net\", \"core\", \"update\", \"optimistic\", \"updating\", \"concurrency\", \"show\", \"inherits\", \"checking\", \"it\", \"cannot\", \"parent\", \"type\", \"all\", \"input\", \"table\", \"sql\", \"time\", \"compile\", \"server\", \"return\", \"object\", \"ip\", \"child\", \"value\", \"handle\", \"that\", \"ef\", \"when\", \"class\", \"core\", \"from\", \"randomly\", \"letters\", \"inputfield\", \"whether\", \"neo\", \"nodetypes\", \"yield\", \"jclient\", \"sorting\", \"out\", \"curve\", \"coloring\", \"oxyplot\", \"under\", \"graph\", \"composition\", \"inheritance\", \"multiple\", \"best\", \"design\", \"culture\", \"after\", \"generated\", \"check\", \"override\", \"two\", \"contains\", \"do\", \"way\", \"text\", \"ajax\", \"dynamically\", \"view\", \"created\", \"incoming\", \"create\", \"onclick\", \"javascript\", \"jquery\", \"recursive\", \"posts\", \"results\", \"write\", \"mvc\", \"into\", \"null\", \"data\", \"element\", \"controller\", \"but\", \"method\", \"function\", \"json\", \"file\", \"using\", \"of\", \"carouselview\", \"skiasharp\", \"vb\", \"injector\", \"displaying\", \"checked\", \"calc\", \"label\", \"execute\", \"onpost\", \"before\", \"cs\", \"executed\", \"specific\", \"possible\", \"pages\", \"precision\", \"numbers\", \"small\", \"very\", \"it\", \"cshtml\", \"set\", \"block\", \"code\", \"method\", \"file\", \"of\", \"carouselview\", \"skiasharp\", \"vb\", \"injector\", \"dll\", \"compare\", \"typed\", \"animation\", \"strongly\", \"hover\", \"generated\", \"application\", \"air\", \"ground\", \"jumping\", \"without\", \"columns\", \"first\", \"error\", \"ef\", \"automatically\", \"few\", \"dot\", \"days\", \"stops\", \"docusign\", \"modify\", \"oauth\", \"validate\", \"responsebytes\", \"dotnetbrowser\", \"after\", \"console\", \"token\", \"working\", \"unable\", \"application\", \"core\", \"net\", \"using\", \"carouselview\", \"skiasharp\", \"vb\", \"injector\", \"dll\", \"compare\", \"typed\", \"animation\", \"strongly\", \"hover\", \"connection\", \"override\", \"check\", \"contains\", \"inputfield\", \"letters\", \"randomly\", \"two\", \"whether\", \"air\", \"svg\", \"look\", \"icon\", \"should\", \"disabled\", \"called\", \"userjoined\", \"being\", \"event\", \"image\", \"as\", \"not\", \"skiasharp\", \"carouselview\", \"vb\", \"injector\", \"dll\", \"compare\", \"typed\", \"animation\", \"strongly\", \"hover\", \"gradient\", \"glowing\", \"effects\", \"dotnetbrowser\", \"responsebytes\", \"oauth\", \"modify\", \"validate\", \"block\", \"letters\", \"file\", \"key\", \"nt\", \"handle\", \"media\", \"program\", \"session\", \"window\", \"check\", \"contains\", \"inputfield\", \"randomly\", \"before\", \"cshtml\", \"whether\", \"cs\", \"glowing\", \"effects\", \"gradient\", \"hover\", \"animation\", \"strongly\", \"typed\", \"compare\", \"two\", \"button\", \"list\", \"skiasharp\", \"carouselview\", \"vb\", \"injector\", \"dll\", \"being\", \"userjoined\", \"called\", \"disabled\", \"should\", \"look\", \"icon\", \"svg\", \"dotnetbrowser\", \"responsebytes\", \"oauth\", \"validate\", \"modify\", \"docusign\", \"session\", \"contains\", \"check\", \"window\", \"handle\", \"program\", \"media\", \"letters\", \"nt\", \"key\", \"inputfield\", \"whether\", \"randomly\", \"down\", \"air\", \"ground\", \"jumping\", \"without\", \"before\", \"dll\", \"injector\", \"vb\", \"skiasharp\", \"carouselview\", \"net\", \"compare\", \"typed\", \"strongly\", \"animation\", \"hover\", \"gradient\", \"effects\", \"glowing\", \"being\", \"userjoined\", \"called\", \"should\", \"disabled\", \"icon\", \"look\", \"svg\", \"dotnetbrowser\", \"responsebytes\", \"modify\", \"validate\", \"oauth\", \"docusign\", \"stops\", \"days\", \"check\", \"inputfield\", \"contains\", \"top\", \"window\", \"letters\", \"program\", \"media\", \"handle\", \"nt\", \"session\", \"two\", \"randomly\", \"event\", \"whether\", \"air\", \"ground\", \"jumping\", \"without\", \"before\", \"block\", \"cs\", \"cshtml\", \"execute\"], \"Freq\": [7.0, 8.0, 4.0, 6.0, 6.0, 2.0, 3.0, 3.0, 4.0, 2.0, 4.0, 3.0, 3.0, 5.0, 2.0, 2.0, 9.0, 4.0, 4.0, 2.0, 3.0, 3.0, 2.0, 7.0, 3.0, 3.0, 3.0, 3.0, 2.0, 2.0, 1.5876081478349495, 1.5876081478349495, 1.5826974116919441, 3.1365106063682417, 0.8131533655992746, 0.8131533655992746, 0.8131533655992746, 0.8131533655992746, 0.813153276775049, 0.813153276775049, 0.8131531879508233, 0.8131531879508233, 0.8131530991265975, 0.8131530991265975, 0.8131530991265975, 0.8131530991265975, 0.8131530991265975, 0.8131530991265975, 0.8131529214781461, 0.8131529214781461, 0.8131529214781461, 0.8131529214781461, 0.813152655005469, 0.813152655005469, 0.813152655005469, 0.813152655005469, 0.8131525661812432, 0.8131525661812432, 0.8131524773570175, 0.8131524773570175, 1.5876072595926922, 1.5825059066612976, 1.5876081478349495, 1.585432309601779, 1.5876083254834008, 1.5827364943512596, 2.3620587553320154, 1.5816199738339936, 0.8131535432477262, 0.8131533655992746, 0.8131533655992746, 0.813153276775049, 0.8131533655992746, 0.813153276775049, 0.813153276775049, 0.813153276775049, 0.8131534544235004, 1.4413110317952877, 1.4413109136056903, 0.7382250496100845, 0.7382250496100845, 0.7382248132308895, 0.7382248132308895, 0.7382248132308895, 0.7382245768516944, 0.738224458662097, 0.738224458662097, 0.738224458662097, 0.738224458662097, 0.738224458662097, 0.7382243404724994, 0.7382243404724994, 0.7382241631881031, 0.7382241631881031, 0.7382240449985057, 0.7382240449985057, 0.7382240449985057, 0.7382239859037069, 0.7382239859037069, 0.7382239268089081, 0.7382239268089081, 0.7382238086193107, 0.7382238086193107, 0.7382238086193107, 0.7382238086193107, 0.7382238086193107, 0.7382237495245119, 2.1443951820417295, 1.4413110317952877, 1.4413113863640803, 1.4413106772264952, 1.4413112681744826, 0.7382247541360907, 0.7382248132308895, 0.7382249905152857, 0.7382248132308895, 0.7382249905152857, 0.738224458662097, 0.7382245768516944, 0.7382245768516944, 0.7382246359464932, 0.738224458662097, 1.4195918655492101, 0.7271006601366233, 0.7271004913281309, 0.7271004913281309, 0.7271004913281309, 0.7271004913281309, 0.727100378789136, 0.727100378789136, 0.727100378789136, 0.727100378789136, 0.727100378789136, 0.727100378789136, 0.7271002099806436, 0.7271002099806436, 0.7271002099806436, 0.7271002099806436, 0.7271001537111462, 0.7271001537111462, 0.7271001537111462, 0.7271001537111462, 0.7271001537111462, 0.7271001537111462, 0.7271001537111462, 0.7271001537111462, 0.7271000411721512, 0.7271000411721512, 0.7271000411721512, 0.7270999849026538, 0.7270999286331563, 0.7270999286331563, 2.1120812140683807, 1.4195918655492101, 0.7271006601366233, 0.7271003225196385, 0.7271003225196385, 0.7271003225196385, 0.7271004913281309, 0.7271004913281309, 0.7271004913281309, 0.7271003225196385, 0.727100378789136, 0.7271002099806436, 0.7271004913281309, 0.7271005475976284, 0.7088869994577572, 0.7088869994577572, 0.7088868997980883, 0.7088867503085846, 0.7088867503085846, 0.7088867503085846, 0.7088866506489155, 0.7088866506489155, 0.7088866008190811, 0.7088866008190811, 0.7088866008190811, 0.7088863516699084, 0.7088863516699084, 0.7088863516699084, 0.7088863516699084, 0.7088863516699084, 0.7088863516699084, 0.7088862520102394, 0.7088858533715632, 0.7088824649428151, 1.3840304308887892, 1.384029832930775, 1.384029932590444, 1.384029832930775, 0.7088869994577572, 0.7088869994577572, 0.7088868499682537, 0.7088863516699084, 0.7088867503085846, 0.7088868499682537, 1.3840296336114368, 0.7088869994577572, 0.7088869994577572, 0.7088867503085846, 0.7088867503085846, 0.7088866506489155, 0.7088867503085846, 0.7088866506489155, 0.7088867503085846, 0.7088867503085846, 0.7088868499682537, 1.3661724987563408, 0.6997406777293915, 0.6997404380014377, 0.6997404380014377, 0.6997404380014377, 0.6997404380014377, 0.6997404380014377, 0.6997402941646654, 0.6997402941646654, 0.6997402941646654, 0.6997401503278932, 0.6997401503278932, 0.6997401503278932, 0.6997401503278932, 0.6997401503278932, 0.6997401503278932, 0.6997401503278932, 0.6997400544367116, 0.6997400544367116, 0.6997400544367116, 0.6997400544367116, 0.6997400544367116, 0.6997398147087578, 0.6997394311440318, 0.6997393352528503, 0.6997393352528503, 0.699739191416078, 0.6997382325042628, 0.6997378489395367, 2.0326024978508412, 1.36617182751807, 1.3661724987563408, 0.6997404380014377, 0.6997404380014377, 0.6997405338926193, 0.699740390055847, 0.6997405338926193, 0.6997401503278932, 0.6997401982734839, 0.6997401503278932, 0.6997401503278932, 0.701123215215207, 0.7011230729598401, 0.7011230729598401, 0.7011230729598401, 0.7011230729598401, 0.7011230729598401, 0.7011230729598401, 0.7011230729598401, 0.7011229781229289, 0.7011228832860177, 0.7011225987752839, 0.7011225039383727, 0.7011225039383727, 0.7011224091014615, 0.7011224091014615, 0.7011224091014615, 0.7011224091014615, 0.7011224091014615, 0.7011224091014615, 0.7011224091014615, 1.3688718988123316, 1.3688715194646868, 0.7011224091014615, 0.701123215215207, 0.7011224091014615, 0.7011230729598401, 0.7011224091014615, 0.7011225039383727, 1.3688715194646868, 1.3688710452801305, 1.3688714246277756, 0.701123215215207, 0.7011230729598401, 0.7011230729598401, 0.7011230729598401, 0.7011230729598401, 0.7011230729598401, 0.7011230729598401, 0.7011230729598401, 0.6783269593252942, 0.6783269593252942, 0.6783269593252942, 0.6783269593252942, 0.6783268699785971, 0.6783268699785971, 0.6783268253052486, 0.6783268253052486, 0.6783266466118544, 0.6783266466118544, 0.6783266466118544, 0.6783265572651573, 0.6783265572651573, 0.6783265572651573, 0.6783265572651573, 0.6783265572651573, 0.6783265572651573, 0.6783265125918088, 0.6783265125918088, 0.678326289225066, 0.678326199878369, 0.678325797818232, 1.324364290362559, 0.6783266466118544, 0.6783268253052486, 0.6783268253052486, 0.6783269593252942, 0.6783265572651573, 0.6783265572651573, 0.6783269593252942, 1.3243642010158618, 0.6783268253052486, 0.6783268253052486, 0.6783268253052486, 0.6783268699785971, 0.6783267359585514, 0.6783268253052486, 0.6783268253052486, 0.6783266466118544, 0.6783266466118544, 0.6783264232451116, 1.3173996736331122, 0.6747601227343353, 0.6747600361963277, 0.6747598631203129, 0.6747598198513092, 0.6747598198513092, 0.6747598198513092, 0.6747598198513092, 0.6747597333133017, 0.6747597333133017, 0.6747597333133017, 0.6747596467752943, 0.6747596467752943, 0.6747596467752943, 0.6747596467752943, 0.6747595602372869, 0.6747595169682832, 0.6747595169682832, 0.6747593438922682, 1.317399846709127, 1.3174001063231493, 0.6747598631203129, 0.6747595602372869, 0.6747594304302758, 0.6747597333133017, 0.6774040319376446, 0.6747599496583203, 0.6747597333133017, 0.6747601227343353, 0.6747598198513092, 1.9600382726138073, 0.6747599496583203, 0.6747597333133017, 0.6747596467752943, 0.6747597333133017, 0.6747598198513092, 0.6530930620754645, 0.6530930620754645, 0.6530930219603707, 0.6530929417301832, 0.6530929417301832, 0.6530927812698081, 0.6530927812698081, 0.6530927812698081, 0.6530927010396206, 0.6530927010396206, 0.6530925806943392, 0.6530925806943392, 0.6530925806943392, 0.6530924202339642, 0.6530923400037766, 0.6530912970113385, 0.6530912970113385, 0.653091216781151, 0.6530910964358697, 0.6530910162056821, 0.6530927812698081, 0.6530927010396206, 0.6530927812698081, 0.6530930620754645, 0.6530930620754645, 0.653092620809433, 0.6530927812698081, 0.653092620809433, 0.6530927010396206, 1.2750969264780048, 1.2750969264780048, 0.6530930620754645, 0.6530927812698081, 0.6530928614999956, 0.6530928614999956, 0.6530929417301832, 0.653092620809433, 0.6530925806943392, 0.6492932889696614, 0.6492932126617734, 0.6492932126617734, 0.6492932126617734, 0.6492932126617734, 0.6492929837381093, 0.6492929074302212, 0.6492929074302212, 0.6492928311223332, 0.6492928311223332, 0.6492928311223332, 0.649292754814445, 0.649292602198669, 0.649292602198669, 0.6492925258907809, 0.6492925258907809, 0.6492922969671168, 0.6492921443513406, 0.6492919917355645, 0.649292754814445, 0.6492931363538854, 0.6492932126617734, 0.6492931363538854, 0.6492929074302212, 0.6492932889696614, 0.6492928311223332, 0.6492924495828929, 0.6492932889696614, 0.6492932126617734, 0.6492924495828929, 0.6492932889696614, 0.6492932126617734, 0.6492930600459973, 0.6492929837381093, 0.6492925258907809, 0.649292602198669, 0.649292678506557, 0.6492925258907809, 0.6383902688313253, 0.6383902688313253, 0.6383901972021613, 0.6383901255729972, 0.6383901255729972, 0.6383901255729972, 0.6383901255729972, 0.6383901255729972, 0.6383901255729972, 0.6383900539438332, 0.638389910685505, 0.6383896957980129, 0.6383896957980129, 0.6383896241688488, 0.6383895525396847, 0.6383895525396847, 0.6383901255729972, 0.6383895525396847, 0.6383901255729972, 0.6383903404604894, 0.6383896957980129, 1.2463900024499193, 0.6383903404604894, 0.6383901255729972, 0.6383901255729972, 0.6383901255729972, 0.6383900539438332, 1.2463898591915912, 0.6383901255729972, 0.6383899823146691, 1.2463902889665757, 0.6383895525396847, 0.6243184458486695, 0.6243184458486695, 0.6243184458486695, 0.6243183079632616, 0.6243182390205577, 0.6243182390205577, 0.6243182390205577, 0.6243181700778538, 0.6243181700778538, 0.6243181011351498, 0.6243181011351498, 0.6243181011351498, 0.6243179632497421, 0.6243178943070381, 0.6243177564216303, 0.6243176874789264, 0.6243172738227029, 0.624317135937295, 0.6243169980518872, 0.6243170669945911, 0.6243179632497421, 0.6243182390205577, 0.624317204879999, 0.6243183769059656, 0.624317204879999, 0.6243183769059656, 1.2189161056948137, 0.6243183769059656, 0.6243170669945911, 0.6243183769059656, 0.6243182390205577, 0.6243183079632616, 0.6243178943070381, 0.6243181011351498, 0.6243179632497421, 0.5957015613700786, 0.5957015613700786, 0.5957015008712042, 0.5957013798734555, 0.5957013193745812, 0.5957010773790837, 0.5957008958824607, 0.5957013798734555, 0.5957011378779581, 0.5957015008712042, 0.5957008958824607, 0.5957013193745812, 0.5957011983768324, 0.5957013798734555, 1.16304415438744, 0.5957008353835863, 0.5957005933880889, 1.1630439123919425, 0.5957013193745812, 0.5957008353835863, 0.5957014403723299, 0.5957016218689529, 0.5957010773790837, 0.5957016218689529, 0.5957013193745812, 0.5957015613700786, 0.5957016218689529, 0.5957011983768324, 0.5957015008712042, 0.5957010168802094, 0.5711886613514621, 0.5711886613514621, 0.5711886613514621, 0.571188605368655, 0.5711883814374269, 0.5711883814374269, 0.5711883814374269, 0.5711883254546198, 0.5711883254546198, 0.5711883254546198, 0.5711881575061988, 0.5711881575061988, 0.5711881575061988, 0.5711881015233917, 0.5711881015233917, 0.5711878216093565, 0.5711878216093565, 0.5711878216093565, 0.5711878216093565, 0.5711877656265495, 0.5711877656265495, 0.5711883814374269, 0.5711886613514621, 0.571188605368655, 0.5711877656265495, 0.5711886613514621, 0.571188493403041, 0.571188605368655, 0.5711877656265495, 0.571188605368655, 0.5711096257624261, 0.5711095177613825, 0.5711095177613825, 0.5711095177613825, 0.5711095177613825, 0.5711094097603391, 0.5711093557598174, 0.5711093557598174, 0.5711093557598174, 0.5711093557598174, 0.5711093557598174, 0.5711093017592956, 0.5711093017592956, 1.1150306368426808, 0.5711093557598174, 0.5711093557598174, 0.5711094637608608, 0.5711095177613825, 0.5711091937582522, 0.5711095177613825, 0.5711094637608608, 0.5711093017592956, 0.5711095177613825, 0.5711093017592956, 1.1150306368426808, 0.5711091397577305, 0.02719600262854971, 0.02719600262854971, 0.02719600262854971, 0.02719600262854971, 0.029447243878864923, 0.029442451332561848, 0.02941094540316804, 0.02936978688051593, 0.4998103372682297, 0.4998103372682297, 0.4998103372682297, 0.4998103372682297, 0.4998102570271555, 0.49981021690661837, 0.49981021690661837, 0.4998100965450071, 0.4998095348574876, 0.4998095348574876, 0.4998095348574876, 0.4998094144958763, 0.4998102570271555, 0.4998102570271555, 0.4998102570271555, 0.4998102570271555, 0.49981017678608125, 0.4998102570271555, 0.4998102570271555, 0.49981021690661837, 0.023800718764733823, 0.023800718764733823, 0.023800718764733823, 0.023800718764733823, 0.023800718764733823, 0.023800718764733823, 0.023800718764733823, 0.023800718764733823, 0.023800718764733823, 0.023800718764733823, 0.023800718764733823, 0.023800718764733823, 0.023800718764733823, 0.023800718764733823, 0.023800718764733823, 0.023800718764733823, 0.023800718764733823, 0.023800718764733823, 0.023800718764733823, 0.023800718764733823, 0.4884115323597699, 0.4884115323597699, 0.4884115323597699, 0.488411453948682, 0.48841133633205014, 0.48841106189324235, 0.4884109834821544, 0.4884109834821544, 0.4884109834821544, 0.4884109050710665, 0.4884108658655225, 0.4884115715653139, 0.4884115715653139, 0.4884111403043303, 0.4884115715653139, 0.4884109834821544, 0.4884115323597699, 0.4884115323597699, 0.4884115323597699, 0.4884108658655225, 0.023257919549306706, 0.023257919549306706, 0.023257919549306706, 0.023257919549306706, 0.023257919549306706, 0.023257919549306706, 0.023257919549306706, 0.023257919549306706, 0.023257919549306706, 0.023257919549306706, 0.023257919549306706, 0.023257919549306706, 0.023257919549306706, 0.023257919549306706, 0.023257919549306706, 0.023257919549306706, 0.023257919549306706, 0.023257919549306706, 0.023257919549306706, 0.023257919549306706, 0.38203974954820075, 0.38203969905789775, 0.38203969905789775, 0.3820396485675948, 0.3820396485675948, 0.38203962332244334, 0.3820395728321404, 0.38203952234183747, 0.38203962332244334, 0.38203969905789775, 0.3820397747933522, 0.38203944660638306, 0.018192522375373117, 0.018192522375373117, 0.018192522375373117, 0.018192522375373117, 0.018192522375373117, 0.018192522375373117, 0.018192522375373117, 0.018192522375373117, 0.018192522375373117, 0.018192522375373117, 0.018192522375373117, 0.018192522375373117, 0.018192522375373117, 0.018192522375373117, 0.018192522375373117, 0.018192522375373117, 0.018192522375373117, 0.018192522375373117, 0.018192522375373117, 0.018192522375373117, 0.018192522375373117, 0.018192522375373117, 0.018192522375373117, 0.018192522375373117, 0.018192522375373117, 0.018192522375373117, 0.018192522375373117, 0.018192522375373117, 0.018192522375373117, 0.018192522375373117, 0.018192522375373117, 0.018192522375373117, 0.018192522375373117, 0.018192522375373117, 0.018192522375373117, 0.018192522375373117, 0.3638755196326802, 0.3638755196326802, 0.3638754728339476, 0.36387537923648233, 0.363875355837116, 0.363875355837116, 0.3638753090383834, 0.3638752622396507, 0.3638753090383834, 0.3638755196326802, 0.363875355837116, 0.017327549575040766, 0.017327549575040766, 0.017327549575040766, 0.017327549575040766, 0.017327549575040766, 0.017327549575040766, 0.017327549575040766, 0.017327549575040766, 0.017327549575040766, 0.017327549575040766, 0.017327549575040766, 0.017327549575040766, 0.017327549575040766, 0.017327549575040766, 0.017327549575040766, 0.017327549575040766, 0.017327549575040766, 0.017327549575040766, 0.017327549575040766, 0.017327549575040766, 0.017327549575040766, 0.017327549575040766, 0.017327549575040766, 0.017327549575040766, 0.017327549575040766, 0.017327549575040766, 0.017327549575040766, 0.017327549575040766, 0.017327549575040766, 0.017327549575040766, 0.017327549575040766, 0.017327549575040766, 0.017327549575040766, 0.017327549575040766, 0.017327549575040766, 0.017327549575040766, 0.017327549575040766, 0.017327549575040766, 0.25824166634540263, 0.2582416377135222, 0.2582416090816418, 0.2582412082353161, 0.2582412082353161, 0.2582416377135222, 0.012297320160336219, 0.012297320160336219, 0.012297320160336219, 0.012297320160336219, 0.012297320160336219, 0.012297320160336219, 0.012297320160336219, 0.012297320160336219, 0.012297320160336219, 0.012297320160336219, 0.012297320160336219, 0.012297320160336219, 0.012297320160336219, 0.012297320160336219, 0.012297320160336219, 0.012297320160336219, 0.012297320160336219, 0.012297320160336219, 0.012297320160336219, 0.012297320160336219, 0.012297320160336219, 0.012297320160336219, 0.012297320160336219, 0.012297320160336219, 0.012297320160336219, 0.012297320160336219, 0.012297320160336219, 0.012297320160336219, 0.012297320160336219, 0.012297320160336219, 0.012297320160336219, 0.012297320160336219, 0.012297320160336219, 0.012297320160336219, 0.012297320160336219, 0.012297320160336219, 0.012297320160336219, 0.012297320160336219, 0.012297320160336219, 0.012297320160336219, 0.012297320160336219, 0.012297320160336219, 0.012297320160336219, 0.012297320160336219, 0.012297320160336219, 0.012297320160336219, 0.012297320160336219, 0.012297320160336219], \"Total\": [7.0, 8.0, 4.0, 6.0, 6.0, 2.0, 3.0, 3.0, 4.0, 2.0, 4.0, 3.0, 3.0, 5.0, 2.0, 2.0, 9.0, 4.0, 4.0, 2.0, 3.0, 3.0, 2.0, 7.0, 3.0, 3.0, 3.0, 3.0, 2.0, 2.0, 2.122074389815683, 2.122074389815683, 2.121237611561872, 4.992130928818266, 1.3476196075800073, 1.3476196075800073, 1.3476196075800073, 1.3476196075800073, 1.3476195187557816, 1.3476195187557816, 1.3476194299315558, 1.3476194299315558, 1.34761934110733, 1.34761934110733, 1.34761934110733, 1.34761934110733, 1.34761934110733, 1.34761934110733, 1.3476191634588786, 1.3476191634588786, 1.3476191634588786, 1.3476191634588786, 1.3476188969862017, 1.3476188969862017, 1.3476188969862017, 1.3476188969862017, 1.347618808161976, 1.347618808161976, 1.3476187193377502, 1.3476187193377502, 2.689408038787548, 2.688205786702001, 2.7680994245137605, 2.8244971818920255, 3.464939984370288, 4.066104706925342, 9.35800278794569, 7.718744940315265, 1.9422071575305029, 1.9149531163132656, 1.914953358308763, 2.5580265325436984, 2.6690631574222294, 6.962797276663653, 3.2500576746895495, 5.115072114829308, 2.0506900627888656, 1.9793456153347166, 1.9793454971451194, 1.2762596331495135, 1.2762596331495135, 1.2762593967703186, 1.2762593967703186, 1.2762593967703186, 1.2762591603911237, 1.276259042201526, 1.276259042201526, 1.276259042201526, 1.276259042201526, 1.276259042201526, 1.2762589240119284, 1.2762589240119284, 1.2762587467275324, 1.2762587467275324, 1.2762586285379347, 1.2762586285379347, 1.2762586285379347, 1.2762585694431359, 1.2762585694431359, 1.2762585103483375, 1.2762585103483375, 1.2762583921587398, 1.2762583921587398, 1.2762583921587398, 1.2762583921587398, 1.2762583921587398, 1.276258333063941, 3.9447532866089667, 2.647080686871426, 3.1452504975657156, 3.3144485372124075, 4.524791691775598, 3.1063563994566414, 1.898251973788349, 2.5767257168952487, 3.953292288725335, 2.8244971818920255, 3.8137549683914, 2.0506900627888656, 8.08455635544667, 9.35800278794569, 2.4953774490389304, 1.9581561914263739, 1.2656649860137874, 1.265664817205295, 1.265664817205295, 1.265664817205295, 1.265664817205295, 1.2656647046662999, 1.2656647046662999, 1.2656647046662999, 1.2656647046662999, 1.2656647046662999, 1.2656647046662999, 1.2656645358578074, 1.2656645358578074, 1.2656645358578074, 1.2656645358578074, 1.2656644795883103, 1.2656644795883103, 1.2656644795883103, 1.2656644795883103, 1.2656644795883103, 1.2656644795883103, 1.2656644795883103, 1.2656644795883103, 1.2656643670493153, 1.2656643670493153, 1.2656643670493153, 1.2656643107798178, 1.2656642545103203, 1.2656642545103203, 6.962797276663653, 3.790111272981877, 7.087659945170833, 5.115072114829308, 3.309811933776893, 3.3144485372124075, 2.5767257168952487, 2.9316123152179228, 2.961489499431992, 2.880230048141967, 2.4280275564186207, 2.384302021701379, 3.2500576746895495, 2.5509327983478234, 1.2483187246667302, 1.2483187246667302, 1.2483186250070613, 1.2483184755175578, 1.2483184755175578, 1.2483184755175578, 1.2483183758578889, 1.2483183758578889, 1.2483183260280544, 1.2483183260280544, 1.2483183260280544, 1.2483180768788815, 1.2483180768788815, 1.2483180768788815, 1.2483180768788815, 1.2483180768788815, 1.2483180768788815, 1.2483179772192126, 1.2483175785805363, 1.2483141901517885, 2.490796511815262, 2.8779997194682814, 3.1337936498550434, 3.184462572193986, 1.7134717885995778, 1.7134723766827373, 1.815652870395852, 1.8429066212068925, 1.8563082370134671, 1.8563089813356128, 4.066104706925342, 1.8909465361439353, 2.5227273691345506, 3.309811933776893, 2.4612810822696085, 2.4953774490389304, 1.894343242175544, 4.992130928818266, 3.464939984370288, 3.953292288725335, 7.718744940315265, 1.9060397874142276, 1.2396079663872788, 1.2396077266593248, 1.2396077266593248, 1.2396077266593248, 1.2396077266593248, 1.2396077266593248, 1.2396075828225526, 1.2396075828225526, 1.2396075828225526, 1.2396074389857803, 1.2396074389857803, 1.2396074389857803, 1.2396074389857803, 1.2396074389857803, 1.2396074389857803, 1.2396074389857803, 1.2396073430945986, 1.2396073430945986, 1.2396073430945986, 1.2396073430945986, 1.2396073430945986, 1.2396071033666447, 1.239606719801919, 1.2396066239107373, 1.2396066239107373, 1.239606480073965, 1.2396055211621497, 1.239605137597424, 3.858578081082708, 7.087659945170833, 9.35800278794569, 2.499417836916272, 7.718744940315265, 2.5580265325436984, 2.0140381369903477, 3.953292288725335, 2.5400733721079907, 3.1337936498550434, 1.8341958454283829, 1.8475976302566737, 1.240924671656945, 1.2409245294015785, 1.2409245294015785, 1.2409245294015785, 1.2409245294015785, 1.2409245294015785, 1.2409245294015785, 1.2409245294015785, 1.2409244345646673, 1.240924339727756, 1.240924055217022, 1.2409239603801108, 1.2409239603801108, 1.2409238655431996, 1.2409238655431996, 1.2409238655431996, 1.2409238655431996, 1.2409238655431996, 1.2409238655431996, 1.2409238655431996, 2.476007105982826, 2.6117429877222653, 1.6047710422257242, 1.7169342099193667, 1.8629165227914173, 1.9334001024444023, 1.943993995548637, 2.0153521092268556, 3.953292288725335, 4.524791691775598, 6.0936636277388105, 2.5760282552539775, 3.464939984370288, 8.08455635544667, 7.718744940315265, 2.4879073186835297, 4.859460019086332, 9.35800278794569, 2.9913463266990945, 1.2192139627246144, 1.2192139627246144, 1.2192139627246144, 1.2192139627246144, 1.2192138733779176, 1.2192138733779176, 1.219213828704569, 1.219213828704569, 1.2192136500111748, 1.2192136500111748, 1.2192136500111748, 1.2192135606644776, 1.2192135606644776, 1.2192135606644776, 1.2192135606644776, 1.2192135606644776, 1.2192135606644776, 1.219213515991129, 1.219213515991129, 1.2192132926243862, 1.2192132032776895, 1.2192128012175523, 2.5078791917770924, 1.763201635255076, 1.7632026536905754, 1.7865476399321991, 1.8272035809621958, 1.894342843536868, 1.894343242175544, 1.9116895357674382, 8.08455635544667, 1.9936439316842793, 2.494939186349083, 2.7680994245137605, 7.718744940315265, 1.9936438423375822, 5.115072114829308, 4.859460019086332, 2.5040035806208114, 2.880230048141967, 3.223063312452175, 1.8584565458035065, 1.2158169949047297, 1.2158169083667223, 1.2158167352907074, 1.2158166920217035, 1.2158166920217035, 1.2158166920217035, 1.2158166920217035, 1.215816605483696, 1.215816605483696, 1.215816605483696, 1.2158165189456887, 1.2158165189456887, 1.2158165189456887, 1.2158165189456887, 1.2158164324076812, 1.2158163891386777, 1.2158163891386777, 1.2158162160626624, 2.5509327983478234, 2.9913463266990945, 1.5796638362377775, 1.6809696531627047, 1.6809699546166774, 1.8909465361439353, 1.9897043491659165, 2.384302021701379, 2.401524521088047, 2.4915424725998245, 2.5078791917770924, 8.08455635544667, 3.590860527081096, 3.800053661832715, 2.6827223963314446, 4.116436104411479, 2.5760282552539775, 1.1951817320603653, 1.1951817320603653, 1.1951816919452714, 1.195181611715084, 1.195181611715084, 1.1951814512547088, 1.1951814512547088, 1.1951814512547088, 1.1951813710245214, 1.1951813710245214, 1.19518125067924, 1.19518125067924, 1.19518125067924, 1.1951810902188649, 1.1951810099886775, 1.1951799669962393, 1.1951799669962393, 1.195179886766052, 1.1951797664207706, 1.1951796861905828, 1.6711909895171304, 1.739170251993335, 1.7625158674710828, 1.7897698627321523, 1.803171923331259, 1.8135552769104855, 1.8629165227914173, 1.8876569763761528, 1.898251973788349, 3.8137549683914, 9.35800278794569, 7.718744940315265, 2.431570597968839, 2.880230048141967, 2.442164822054374, 3.223063312452175, 3.590860527081096, 1.9687639163568724, 1.191562932738419, 1.191562856430531, 1.191562856430531, 1.191562856430531, 1.191562856430531, 1.191562627506867, 1.1915625511989785, 1.1915625511989785, 1.1915624748910905, 1.1915624748910905, 1.1915624748910905, 1.1915623985832025, 1.1915622459674264, 1.1915622459674264, 1.1915621696595384, 1.1915621696595384, 1.1915619407358744, 1.191561788120098, 1.191561635504322, 1.73547575171447, 1.8135552769104855, 1.8666920396432525, 1.8666919633353645, 1.8840382367807977, 2.0820995731705754, 2.401524521088047, 2.4018938996798442, 2.4280275564186207, 2.4612810822696085, 2.5040035806208114, 3.590860527081096, 6.0936636277388105, 2.5095173088369775, 2.6690631574222294, 5.115072114829308, 7.087659945170833, 3.8137549683914, 3.184462572193986, 1.1811791285357127, 1.1811791285357127, 1.1811790569065488, 1.1811789852773849, 1.1811789852773849, 1.1811789852773849, 1.1811789852773849, 1.1811789852773849, 1.1811789852773849, 1.1811789136482205, 1.1811787703898926, 1.1811785555024004, 1.1811785555024004, 1.1811784838732364, 1.181178412244072, 1.181178412244072, 1.803171923331259, 1.8272035809621958, 1.8475976302566737, 1.8563089813356128, 1.8563082370134671, 4.859460019086332, 2.4915424725998245, 2.494939186349083, 2.5227273691345506, 2.5400733721079907, 2.5767257168952487, 5.115072114829308, 2.8779997194682814, 2.961489499431992, 7.087659945170833, 9.35800278794569, 1.1677774072772056, 1.1677774072772056, 1.1677774072772056, 1.1677772693917976, 1.1677772004490936, 1.1677772004490936, 1.1677772004490936, 1.1677771315063896, 1.1677771315063896, 1.1677770625636856, 1.1677770625636856, 1.1677770625636856, 1.167776924678278, 1.167776855735574, 1.1677767178501661, 1.1677766489074621, 1.1677762352512386, 1.167776097365831, 1.1677759594804231, 1.735110081646255, 1.7897698627321523, 1.8341958454283829, 1.8341948112878244, 1.8429066212068925, 1.9422071575305029, 2.4612810822696085, 4.859460019086332, 2.6452774534941077, 3.309811933776893, 3.9447532866089667, 5.115072114829308, 6.0936636277388105, 4.116436104411479, 7.087659945170833, 6.962797276663653, 1.1405232707217394, 1.1405232707217394, 1.140523210222865, 1.1405230892251164, 1.140523028726242, 1.1405227867307446, 1.1405226052341215, 1.616532627487538, 1.735110081646255, 1.7625158674710828, 1.7865476399321991, 1.806941481923168, 1.8069413609254192, 1.815652870395852, 3.590860527081096, 1.914953358308763, 1.9149531163132656, 3.800053661832715, 2.401524521088047, 2.476007105982826, 2.490796511815262, 2.499417836916272, 2.688205786702001, 2.689408038787548, 3.2500576746895495, 3.790111272981877, 4.524791691775598, 4.859460019086332, 6.962797276663653, 9.35800278794569, 1.1171776749753046, 1.1171776749753046, 1.1171776749753046, 1.1171776189924973, 1.1171773950612696, 1.1171773950612696, 1.1171773950612696, 1.1171773390784623, 1.1171773390784623, 1.1171773390784623, 1.1171771711300413, 1.1171771711300413, 1.1171771711300413, 1.117177115147234, 1.117177115147234, 1.117176835233199, 1.117176835233199, 1.117176835233199, 1.117176835233199, 1.1171767792503922, 1.1171767792503922, 1.5823310470772767, 1.739170251993335, 1.7632026536905754, 1.763201635255076, 2.0820995731705754, 2.4280275564186207, 2.4953774490389304, 2.5580265325436984, 3.1063563994566414, 1.1171024171403674, 1.1171023091393237, 1.1171023091393237, 1.1171023091393237, 1.1171023091393237, 1.1171022011382805, 1.1171021471377587, 1.1171021471377587, 1.1171021471377587, 1.1171021471377587, 1.1171021471377587, 1.1171020931372369, 1.1171020931372369, 2.961489499431992, 1.73547575171447, 2.4018938996798442, 2.431570597968839, 2.442164822054374, 2.4879073186835297, 2.5095173088369775, 2.9316123152179228, 3.1337936498550434, 3.1452504975657156, 4.116436104411479, 8.08455635544667, 7.718744940315265, 0.8191326820814708, 0.8191326820814708, 0.8191330829277965, 0.8191331115596769, 1.3466643831061544, 1.3466664300252316, 1.3466796915055994, 1.3466971569719206, 1.049198412509987, 1.049198412509987, 1.049198412509987, 1.049198412509987, 1.0491983322689127, 1.0491982921483756, 1.0491982921483756, 1.0491981717867642, 1.0491976100992448, 1.0491976100992448, 1.0491976100992448, 1.0491974897376335, 1.616532627487538, 1.6711909895171304, 1.7169342099193667, 1.7522679304211615, 2.384302021701379, 2.9316123152179228, 4.116436104411479, 7.718744940315265, 0.8191326820814708, 0.8191326820814708, 0.8191330829277965, 0.8191331115596769, 0.8191331401915574, 0.919736506671101, 0.9197365534698336, 0.9197366002685663, 0.9197366002685663, 0.9197366236679325, 1.739170251993335, 2.9913463266990945, 1.2192135606644776, 1.2192135606644776, 1.2192135606644776, 2.494939186349083, 1.8135552769104855, 1.8584565458035065, 2.4915424725998245, 3.790111272981877, 1.0383424068169542, 1.0383424068169542, 1.0383424068169542, 1.0383423284058662, 1.0383422107892344, 1.0383419363504265, 1.0383418579393386, 1.0383418579393386, 1.0383418579393386, 1.0383417795282508, 1.0383417403227067, 1.5823310470772767, 1.6809699546166774, 1.6809696531627047, 1.7134723766827373, 1.7134717885995778, 2.9913463266990945, 6.962797276663653, 7.087659945170833, 8.08455635544667, 0.8191326820814708, 0.8191326820814708, 0.8191330829277965, 0.8191331115596769, 0.8191331401915574, 0.919736506671101, 0.9197365534698336, 0.9197366002685663, 0.9197366002685663, 0.9197366236679325, 1.2158169949047297, 1.763201635255076, 1.7632026536905754, 2.4280275564186207, 1.1171776749753046, 1.1171776749753046, 1.1171776749753046, 2.0820995731705754, 1.1171776189924973, 1.2192135606644776, 0.9370360211793186, 0.9370359706890156, 0.9370359706890156, 0.9370359201987127, 0.9370359201987127, 0.9370358949535612, 0.9370358444632583, 0.9370357939729553, 1.5796638362377775, 1.6047710422257242, 1.6295115631977968, 6.0936636277388105, 0.8191326820814708, 0.8191326820814708, 0.8191330829277965, 0.8191331115596769, 0.8191331401915574, 0.919736506671101, 0.9197365534698336, 0.9197366002685663, 0.9197366002685663, 0.9197366236679325, 0.9197367172653979, 0.9197367640641305, 0.9197367640641305, 1.0383417403227067, 1.0383417795282508, 1.0383418579393386, 1.0383418579393386, 1.0383418579393386, 1.7522679304211615, 1.1171776749753046, 4.116436104411479, 2.5509327983478234, 1.215816605483696, 2.689408038787548, 1.3476187193377502, 1.3476186305135245, 1.3476187193377502, 1.3476186305135245, 1.7632026536905754, 2.4280275564186207, 1.1171776749753046, 1.1171776749753046, 1.049198412509987, 1.6711909895171304, 1.1171776189924973, 1.049198412509987, 0.9197367640641305, 0.9197367640641305, 0.9197367172653979, 0.9197366236679325, 0.9197366002685663, 0.9197366002685663, 0.9197365534698336, 0.919736506671101, 2.0820995731705754, 2.8779997194682814, 2.880230048141967, 0.8191326820814708, 0.8191326820814708, 0.8191330829277965, 0.8191331115596769, 0.8191331401915574, 0.9370357939729553, 0.9370358444632583, 0.9370358949535612, 0.9370359201987127, 0.9370359201987127, 0.9370359706890156, 0.9370359706890156, 0.9370360211793186, 1.0383417403227067, 1.0383417795282508, 1.0383418579393386, 1.0383418579393386, 1.0383418579393386, 1.0383419363504265, 1.3476187193377502, 2.4280275564186207, 1.7632026536905754, 1.3476186305135245, 2.689408038787548, 1.3476186305135245, 1.3476187193377502, 1.1171776749753046, 1.215816605483696, 2.5509327983478234, 1.1171776749753046, 1.1171776189924973, 1.1171776749753046, 1.2158166920217035, 1.2192135606644776, 1.2192135606644776, 1.2192135606644776, 2.494939186349083, 1.049198412509987, 0.8191331401915574, 0.8191331115596769, 0.8191330829277965, 0.8191326820814708, 0.8191326820814708, 7.087659945170833, 0.919736506671101, 0.9197365534698336, 0.9197366002685663, 0.9197366002685663, 0.9197366236679325, 0.9197367172653979, 0.9197367640641305, 0.9197367640641305, 0.9370357939729553, 0.9370358444632583, 0.9370358949535612, 0.9370359201987127, 0.9370359201987127, 0.9370359706890156, 0.9370359706890156, 0.9370360211793186, 1.0383417403227067, 1.0383417795282508, 1.0383418579393386, 1.0383418579393386, 1.0383418579393386, 1.0383419363504265, 1.0383422107892344, 1.0383423284058662, 1.7632026536905754, 1.1171776749753046, 2.4280275564186207, 1.1677770625636856, 1.3476186305135245, 1.1171776749753046, 1.3476186305135245, 1.3476187193377502, 2.689408038787548, 1.215816605483696, 1.3476187193377502, 2.0820995731705754, 1.1171776749753046, 1.5796638362377775, 1.1171776189924973, 1.2192135606644776, 1.2192135606644776, 1.2192135606644776, 2.494939186349083, 1.049198412509987, 1.7522679304211615, 1.049198412509987, 1.6711909895171304, 1.049198412509987], \"Category\": [\"Default\", \"Default\", \"Default\", \"Default\", \"Default\", \"Default\", \"Default\", \"Default\", \"Default\", \"Default\", \"Default\", \"Default\", \"Default\", \"Default\", \"Default\", \"Default\", \"Default\", \"Default\", \"Default\", \"Default\", \"Default\", \"Default\", \"Default\", \"Default\", \"Default\", \"Default\", \"Default\", \"Default\", \"Default\", \"Default\", \"Topic1\", \"Topic1\", \"Topic1\", \"Topic1\", \"Topic1\", \"Topic1\", \"Topic1\", \"Topic1\", \"Topic1\", \"Topic1\", \"Topic1\", \"Topic1\", \"Topic1\", \"Topic1\", \"Topic1\", \"Topic1\", \"Topic1\", \"Topic1\", \"Topic1\", \"Topic1\", \"Topic1\", \"Topic1\", \"Topic1\", \"Topic1\", \"Topic1\", \"Topic1\", \"Topic1\", \"Topic1\", \"Topic1\", \"Topic1\", \"Topic1\", \"Topic1\", \"Topic1\", \"Topic1\", \"Topic1\", \"Topic1\", \"Topic1\", \"Topic1\", \"Topic1\", \"Topic1\", \"Topic1\", \"Topic1\", \"Topic1\", \"Topic1\", \"Topic1\", \"Topic1\", \"Topic1\", \"Topic2\", \"Topic2\", \"Topic2\", \"Topic2\", \"Topic2\", \"Topic2\", \"Topic2\", \"Topic2\", \"Topic2\", \"Topic2\", \"Topic2\", \"Topic2\", \"Topic2\", \"Topic2\", \"Topic2\", \"Topic2\", \"Topic2\", \"Topic2\", \"Topic2\", \"Topic2\", \"Topic2\", \"Topic2\", \"Topic2\", \"Topic2\", \"Topic2\", \"Topic2\", \"Topic2\", \"Topic2\", \"Topic2\", \"Topic2\", \"Topic2\", \"Topic2\", \"Topic2\", \"Topic2\", \"Topic2\", \"Topic2\", \"Topic2\", \"Topic2\", \"Topic2\", \"Topic2\", \"Topic2\", \"Topic2\", \"Topic2\", \"Topic2\", \"Topic2\", \"Topic3\", \"Topic3\", \"Topic3\", \"Topic3\", \"Topic3\", \"Topic3\", \"Topic3\", \"Topic3\", \"Topic3\", \"Topic3\", \"Topic3\", \"Topic3\", \"Topic3\", \"Topic3\", \"Topic3\", \"Topic3\", \"Topic3\", \"Topic3\", \"Topic3\", \"Topic3\", \"Topic3\", \"Topic3\", \"Topic3\", \"Topic3\", \"Topic3\", \"Topic3\", \"Topic3\", \"Topic3\", \"Topic3\", \"Topic3\", \"Topic3\", \"Topic3\", \"Topic3\", \"Topic3\", \"Topic3\", \"Topic3\", \"Topic3\", \"Topic3\", \"Topic3\", \"Topic3\", \"Topic3\", \"Topic3\", \"Topic3\", \"Topic3\", \"Topic4\", \"Topic4\", \"Topic4\", \"Topic4\", \"Topic4\", \"Topic4\", \"Topic4\", \"Topic4\", \"Topic4\", \"Topic4\", \"Topic4\", \"Topic4\", \"Topic4\", \"Topic4\", \"Topic4\", \"Topic4\", \"Topic4\", \"Topic4\", \"Topic4\", \"Topic4\", \"Topic4\", \"Topic4\", \"Topic4\", \"Topic4\", \"Topic4\", \"Topic4\", \"Topic4\", \"Topic4\", \"Topic4\", \"Topic4\", \"Topic4\", \"Topic4\", \"Topic4\", \"Topic4\", \"Topic4\", \"Topic4\", \"Topic4\", \"Topic4\", \"Topic4\", \"Topic4\", \"Topic4\", \"Topic5\", \"Topic5\", \"Topic5\", \"Topic5\", \"Topic5\", \"Topic5\", \"Topic5\", \"Topic5\", \"Topic5\", \"Topic5\", \"Topic5\", \"Topic5\", \"Topic5\", \"Topic5\", \"Topic5\", \"Topic5\", \"Topic5\", \"Topic5\", \"Topic5\", \"Topic5\", \"Topic5\", \"Topic5\", \"Topic5\", \"Topic5\", \"Topic5\", \"Topic5\", \"Topic5\", \"Topic5\", \"Topic5\", \"Topic5\", \"Topic5\", \"Topic5\", \"Topic5\", \"Topic5\", \"Topic5\", \"Topic5\", \"Topic5\", \"Topic5\", \"Topic5\", \"Topic5\", \"Topic5\", \"Topic6\", \"Topic6\", \"Topic6\", \"Topic6\", \"Topic6\", \"Topic6\", \"Topic6\", \"Topic6\", \"Topic6\", \"Topic6\", \"Topic6\", \"Topic6\", \"Topic6\", \"Topic6\", \"Topic6\", \"Topic6\", \"Topic6\", \"Topic6\", \"Topic6\", \"Topic6\", \"Topic6\", \"Topic6\", \"Topic6\", \"Topic6\", \"Topic6\", \"Topic6\", \"Topic6\", \"Topic6\", \"Topic6\", \"Topic6\", \"Topic6\", \"Topic6\", \"Topic6\", \"Topic6\", \"Topic6\", \"Topic6\", \"Topic6\", \"Topic6\", \"Topic6\", \"Topic7\", \"Topic7\", \"Topic7\", \"Topic7\", \"Topic7\", \"Topic7\", \"Topic7\", \"Topic7\", \"Topic7\", \"Topic7\", \"Topic7\", \"Topic7\", \"Topic7\", \"Topic7\", \"Topic7\", \"Topic7\", \"Topic7\", \"Topic7\", \"Topic7\", \"Topic7\", \"Topic7\", \"Topic7\", \"Topic7\", \"Topic7\", \"Topic7\", \"Topic7\", \"Topic7\", \"Topic7\", \"Topic7\", \"Topic7\", \"Topic7\", \"Topic7\", \"Topic7\", \"Topic7\", \"Topic7\", \"Topic7\", \"Topic7\", \"Topic7\", \"Topic7\", \"Topic7\", \"Topic7\", \"Topic8\", \"Topic8\", \"Topic8\", \"Topic8\", \"Topic8\", \"Topic8\", \"Topic8\", \"Topic8\", \"Topic8\", \"Topic8\", \"Topic8\", \"Topic8\", \"Topic8\", \"Topic8\", \"Topic8\", \"Topic8\", \"Topic8\", \"Topic8\", \"Topic8\", \"Topic8\", \"Topic8\", \"Topic8\", \"Topic8\", \"Topic8\", \"Topic8\", \"Topic8\", \"Topic8\", \"Topic8\", \"Topic8\", \"Topic8\", \"Topic8\", \"Topic8\", \"Topic8\", \"Topic8\", \"Topic8\", \"Topic8\", \"Topic9\", \"Topic9\", \"Topic9\", \"Topic9\", \"Topic9\", \"Topic9\", \"Topic9\", \"Topic9\", \"Topic9\", \"Topic9\", \"Topic9\", \"Topic9\", \"Topic9\", \"Topic9\", \"Topic9\", \"Topic9\", \"Topic9\", \"Topic9\", \"Topic9\", \"Topic9\", \"Topic9\", \"Topic9\", \"Topic9\", \"Topic9\", \"Topic9\", \"Topic9\", \"Topic9\", \"Topic9\", \"Topic9\", \"Topic9\", \"Topic9\", \"Topic9\", \"Topic9\", \"Topic9\", \"Topic9\", \"Topic9\", \"Topic9\", \"Topic9\", \"Topic10\", \"Topic10\", \"Topic10\", \"Topic10\", \"Topic10\", \"Topic10\", \"Topic10\", \"Topic10\", \"Topic10\", \"Topic10\", \"Topic10\", \"Topic10\", \"Topic10\", \"Topic10\", \"Topic10\", \"Topic10\", \"Topic10\", \"Topic10\", \"Topic10\", \"Topic10\", \"Topic10\", \"Topic10\", \"Topic10\", \"Topic10\", \"Topic10\", \"Topic10\", \"Topic10\", \"Topic10\", \"Topic10\", \"Topic10\", \"Topic10\", \"Topic10\", \"Topic10\", \"Topic10\", \"Topic10\", \"Topic10\", \"Topic10\", \"Topic10\", \"Topic11\", \"Topic11\", \"Topic11\", \"Topic11\", \"Topic11\", \"Topic11\", \"Topic11\", \"Topic11\", \"Topic11\", \"Topic11\", \"Topic11\", \"Topic11\", \"Topic11\", \"Topic11\", \"Topic11\", \"Topic11\", \"Topic11\", \"Topic11\", \"Topic11\", \"Topic11\", \"Topic11\", \"Topic11\", \"Topic11\", \"Topic11\", \"Topic11\", \"Topic11\", \"Topic11\", \"Topic11\", \"Topic11\", \"Topic11\", \"Topic11\", \"Topic11\", \"Topic12\", \"Topic12\", \"Topic12\", \"Topic12\", \"Topic12\", \"Topic12\", \"Topic12\", \"Topic12\", \"Topic12\", \"Topic12\", \"Topic12\", \"Topic12\", \"Topic12\", \"Topic12\", \"Topic12\", \"Topic12\", \"Topic12\", \"Topic12\", \"Topic12\", \"Topic12\", \"Topic12\", \"Topic12\", \"Topic12\", \"Topic12\", \"Topic12\", \"Topic12\", \"Topic12\", \"Topic12\", \"Topic12\", \"Topic12\", \"Topic12\", \"Topic12\", \"Topic12\", \"Topic12\", \"Topic12\", \"Topic13\", \"Topic13\", \"Topic13\", \"Topic13\", \"Topic13\", \"Topic13\", \"Topic13\", \"Topic13\", \"Topic13\", \"Topic13\", \"Topic13\", \"Topic13\", \"Topic13\", \"Topic13\", \"Topic13\", \"Topic13\", \"Topic13\", \"Topic13\", \"Topic13\", \"Topic13\", \"Topic13\", \"Topic13\", \"Topic13\", \"Topic13\", \"Topic13\", \"Topic13\", \"Topic13\", \"Topic13\", \"Topic13\", \"Topic13\", \"Topic14\", \"Topic14\", \"Topic14\", \"Topic14\", \"Topic14\", \"Topic14\", \"Topic14\", \"Topic14\", \"Topic14\", \"Topic14\", \"Topic14\", \"Topic14\", \"Topic14\", \"Topic14\", \"Topic14\", \"Topic14\", \"Topic14\", \"Topic14\", \"Topic14\", \"Topic14\", \"Topic14\", \"Topic14\", \"Topic14\", \"Topic14\", \"Topic14\", \"Topic14\", \"Topic14\", \"Topic14\", \"Topic14\", \"Topic14\", \"Topic15\", \"Topic15\", \"Topic15\", \"Topic15\", \"Topic15\", \"Topic15\", \"Topic15\", \"Topic15\", \"Topic15\", \"Topic15\", \"Topic15\", \"Topic15\", \"Topic15\", \"Topic15\", \"Topic15\", \"Topic15\", \"Topic15\", \"Topic15\", \"Topic15\", \"Topic15\", \"Topic15\", \"Topic15\", \"Topic15\", \"Topic15\", \"Topic15\", \"Topic15\", \"Topic15\", \"Topic15\", \"Topic15\", \"Topic15\", \"Topic15\", \"Topic15\", \"Topic15\", \"Topic15\", \"Topic16\", \"Topic16\", \"Topic16\", \"Topic16\", \"Topic16\", \"Topic16\", \"Topic16\", \"Topic16\", \"Topic16\", \"Topic16\", \"Topic16\", \"Topic16\", \"Topic16\", \"Topic16\", \"Topic16\", \"Topic16\", \"Topic16\", \"Topic16\", \"Topic16\", \"Topic16\", \"Topic16\", \"Topic16\", \"Topic16\", \"Topic16\", \"Topic16\", \"Topic16\", \"Topic16\", \"Topic16\", \"Topic16\", \"Topic16\", \"Topic16\", \"Topic16\", \"Topic16\", \"Topic16\", \"Topic16\", \"Topic16\", \"Topic16\", \"Topic16\", \"Topic16\", \"Topic16\", \"Topic17\", \"Topic17\", \"Topic17\", \"Topic17\", \"Topic17\", \"Topic17\", \"Topic17\", \"Topic17\", \"Topic17\", \"Topic17\", \"Topic17\", \"Topic17\", \"Topic17\", \"Topic17\", \"Topic17\", \"Topic17\", \"Topic17\", \"Topic17\", \"Topic17\", \"Topic17\", \"Topic17\", \"Topic17\", \"Topic17\", \"Topic17\", \"Topic17\", \"Topic17\", \"Topic17\", \"Topic17\", \"Topic17\", \"Topic17\", \"Topic17\", \"Topic17\", \"Topic17\", \"Topic17\", \"Topic17\", \"Topic17\", \"Topic17\", \"Topic17\", \"Topic17\", \"Topic17\", \"Topic18\", \"Topic18\", \"Topic18\", \"Topic18\", \"Topic18\", \"Topic18\", \"Topic18\", \"Topic18\", \"Topic18\", \"Topic18\", \"Topic18\", \"Topic18\", \"Topic18\", \"Topic18\", \"Topic18\", \"Topic18\", \"Topic18\", \"Topic18\", \"Topic18\", \"Topic18\", \"Topic18\", \"Topic18\", \"Topic18\", \"Topic18\", \"Topic18\", \"Topic18\", \"Topic18\", \"Topic18\", \"Topic18\", \"Topic18\", \"Topic18\", \"Topic18\", \"Topic18\", \"Topic18\", \"Topic18\", \"Topic18\", \"Topic18\", \"Topic18\", \"Topic18\", \"Topic18\", \"Topic18\", \"Topic18\", \"Topic18\", \"Topic18\", \"Topic18\", \"Topic18\", \"Topic18\", \"Topic18\", \"Topic19\", \"Topic19\", \"Topic19\", \"Topic19\", \"Topic19\", \"Topic19\", \"Topic19\", \"Topic19\", \"Topic19\", \"Topic19\", \"Topic19\", \"Topic19\", \"Topic19\", \"Topic19\", \"Topic19\", \"Topic19\", \"Topic19\", \"Topic19\", \"Topic19\", \"Topic19\", \"Topic19\", \"Topic19\", \"Topic19\", \"Topic19\", \"Topic19\", \"Topic19\", \"Topic19\", \"Topic19\", \"Topic19\", \"Topic19\", \"Topic19\", \"Topic19\", \"Topic19\", \"Topic19\", \"Topic19\", \"Topic19\", \"Topic19\", \"Topic19\", \"Topic19\", \"Topic19\", \"Topic19\", \"Topic19\", \"Topic19\", \"Topic19\", \"Topic19\", \"Topic19\", \"Topic19\", \"Topic19\", \"Topic19\", \"Topic20\", \"Topic20\", \"Topic20\", \"Topic20\", \"Topic20\", \"Topic20\", \"Topic20\", \"Topic20\", \"Topic20\", \"Topic20\", \"Topic20\", \"Topic20\", \"Topic20\", \"Topic20\", \"Topic20\", \"Topic20\", \"Topic20\", \"Topic20\", \"Topic20\", \"Topic20\", \"Topic20\", \"Topic20\", \"Topic20\", \"Topic20\", \"Topic20\", \"Topic20\", \"Topic20\", \"Topic20\", \"Topic20\", \"Topic20\", \"Topic20\", \"Topic20\", \"Topic20\", \"Topic20\", \"Topic20\", \"Topic20\", \"Topic20\", \"Topic20\", \"Topic20\", \"Topic20\", \"Topic20\", \"Topic20\", \"Topic20\", \"Topic20\", \"Topic20\", \"Topic20\", \"Topic20\", \"Topic20\", \"Topic20\", \"Topic20\", \"Topic20\", \"Topic20\", \"Topic20\", \"Topic20\"], \"logprob\": [30.0, 29.0, 28.0, 27.0, 26.0, 25.0, 24.0, 23.0, 22.0, 21.0, 20.0, 19.0, 18.0, 17.0, 16.0, 15.0, 14.0, 13.0, 12.0, 11.0, 10.0, 9.0, 8.0, 7.0, 6.0, 5.0, 4.0, 3.0, 2.0, 1.0, -4.095600128173828, -4.095600128173828, -4.098700046539307, -3.4147000312805176, -4.764599800109863, -4.764599800109863, -4.764599800109863, -4.764599800109863, -4.764599800109863, -4.764599800109863, -4.764599800109863, -4.764599800109863, -4.764599800109863, -4.764599800109863, -4.764599800109863, -4.764599800109863, -4.764599800109863, -4.764599800109863, -4.764599800109863, -4.764599800109863, -4.764599800109863, -4.764599800109863, -4.764599800109863, -4.764599800109863, -4.764599800109863, -4.764599800109863, -4.764599800109863, -4.764599800109863, -4.764599800109863, -4.764599800109863, -4.095600128173828, -4.098800182342529, -4.095600128173828, -4.0970001220703125, -4.095600128173828, -4.098700046539307, -3.6982998847961426, -4.099400043487549, -4.764599800109863, -4.764599800109863, -4.764599800109863, -4.764599800109863, -4.764599800109863, -4.764599800109863, -4.764599800109863, -4.764599800109863, -4.764599800109863, -3.7846999168395996, -3.7846999168395996, -4.453800201416016, -4.453800201416016, -4.453800201416016, -4.453800201416016, -4.453800201416016, -4.453800201416016, -4.453800201416016, -4.453800201416016, -4.453800201416016, -4.453800201416016, -4.453800201416016, -4.453800201416016, -4.453800201416016, -4.453800201416016, -4.453800201416016, -4.453800201416016, -4.453800201416016, -4.453800201416016, -4.453800201416016, -4.453800201416016, -4.453800201416016, -4.453800201416016, -4.453800201416016, -4.453800201416016, -4.453800201416016, -4.453800201416016, -4.453800201416016, -4.453800201416016, -3.387399911880493, -3.7846999168395996, -3.7846999168395996, -3.7846999168395996, -3.7846999168395996, -4.453800201416016, -4.453800201416016, -4.453800201416016, -4.453800201416016, -4.453800201416016, -4.453800201416016, -4.453800201416016, -4.453800201416016, -4.453800201416016, -4.453800201416016, -3.7509000301361084, -4.420000076293945, -4.420000076293945, -4.420000076293945, -4.420000076293945, -4.420000076293945, -4.420000076293945, -4.420000076293945, -4.420000076293945, -4.420000076293945, -4.420000076293945, -4.420000076293945, -4.420000076293945, -4.420000076293945, -4.420000076293945, -4.420000076293945, -4.420000076293945, -4.420000076293945, -4.420000076293945, -4.420000076293945, -4.420000076293945, -4.420000076293945, -4.420000076293945, -4.420000076293945, -4.420000076293945, -4.420000076293945, -4.420000076293945, -4.420000076293945, -4.420000076293945, -4.420000076293945, -3.353600025177002, -3.7509000301361084, -4.420000076293945, -4.420000076293945, -4.420000076293945, -4.420000076293945, -4.420000076293945, -4.420000076293945, -4.420000076293945, -4.420000076293945, -4.420000076293945, -4.420000076293945, -4.420000076293945, -4.420000076293945, -4.323800086975098, -4.323800086975098, -4.323800086975098, -4.323800086975098, -4.323800086975098, -4.323800086975098, -4.323800086975098, -4.323800086975098, -4.323800086975098, -4.323800086975098, -4.323800086975098, -4.323800086975098, -4.323800086975098, -4.323800086975098, -4.323800086975098, -4.323800086975098, -4.323800086975098, -4.323800086975098, -4.323800086975098, -4.323800086975098, -3.6547999382019043, -3.6547999382019043, -3.6547999382019043, -3.6547999382019043, -4.323800086975098, -4.323800086975098, -4.323800086975098, -4.323800086975098, -4.323800086975098, -4.323800086975098, -3.6547999382019043, -4.323800086975098, -4.323800086975098, -4.323800086975098, -4.323800086975098, -4.323800086975098, -4.323800086975098, -4.323800086975098, -4.323800086975098, -4.323800086975098, -4.323800086975098, -3.629199981689453, -4.298299789428711, -4.298299789428711, -4.298299789428711, -4.298299789428711, -4.298299789428711, -4.298299789428711, -4.298299789428711, -4.298299789428711, -4.298299789428711, -4.298299789428711, -4.298299789428711, -4.298299789428711, -4.298299789428711, -4.298299789428711, -4.298299789428711, -4.298299789428711, -4.298299789428711, -4.298299789428711, -4.298299789428711, -4.298299789428711, -4.298299789428711, -4.298299789428711, -4.298299789428711, -4.298299789428711, -4.298299789428711, -4.298299789428711, -4.298299789428711, -4.298299789428711, -3.2318999767303467, -3.629199981689453, -3.629199981689453, -4.298299789428711, -4.298299789428711, -4.298299789428711, -4.298299789428711, -4.298299789428711, -4.298299789428711, -4.298299789428711, -4.298299789428711, -4.298299789428711, -4.285200119018555, -4.285200119018555, -4.285200119018555, -4.285200119018555, -4.285200119018555, -4.285200119018555, -4.285200119018555, -4.285200119018555, -4.285200119018555, -4.285200119018555, -4.285200119018555, -4.285200119018555, -4.285200119018555, -4.285200119018555, -4.285200119018555, -4.285200119018555, -4.285200119018555, -4.285200119018555, -4.285200119018555, -4.285200119018555, -3.6161999702453613, -3.6161999702453613, -4.285200119018555, -4.285200119018555, -4.285200119018555, -4.285200119018555, -4.285200119018555, -4.285200119018555, -3.6161999702453613, -3.6161999702453613, -3.6161999702453613, -4.285200119018555, -4.285200119018555, -4.285200119018555, -4.285200119018555, -4.285200119018555, -4.285200119018555, -4.285200119018555, -4.285200119018555, -4.258699893951416, -4.258699893951416, -4.258699893951416, -4.258699893951416, -4.258699893951416, -4.258699893951416, -4.258699893951416, -4.258699893951416, -4.258699893951416, -4.258699893951416, -4.258699893951416, -4.258699893951416, -4.258699893951416, -4.258699893951416, -4.258699893951416, -4.258699893951416, -4.258699893951416, -4.258699893951416, -4.258699893951416, -4.258699893951416, -4.258699893951416, -4.258699893951416, -3.589600086212158, -4.258699893951416, -4.258699893951416, -4.258699893951416, -4.258699893951416, -4.258699893951416, -4.258699893951416, -4.258699893951416, -3.589600086212158, -4.258699893951416, -4.258699893951416, -4.258699893951416, -4.258699893951416, -4.258699893951416, -4.258699893951416, -4.258699893951416, -4.258699893951416, -4.258699893951416, -4.258699893951416, -3.5629000663757324, -4.23199987411499, -4.23199987411499, -4.23199987411499, -4.23199987411499, -4.23199987411499, -4.23199987411499, -4.23199987411499, -4.23199987411499, -4.23199987411499, -4.23199987411499, -4.23199987411499, -4.23199987411499, -4.23199987411499, -4.23199987411499, -4.23199987411499, -4.23199987411499, -4.23199987411499, -4.23199987411499, -3.5629000663757324, -3.5629000663757324, -4.23199987411499, -4.23199987411499, -4.23199987411499, -4.23199987411499, -4.228099822998047, -4.23199987411499, -4.23199987411499, -4.23199987411499, -4.23199987411499, -3.165600061416626, -4.23199987411499, -4.23199987411499, -4.23199987411499, -4.23199987411499, -4.23199987411499, -4.188899993896484, -4.188899993896484, -4.188899993896484, -4.188899993896484, -4.188899993896484, -4.188899993896484, -4.188899993896484, -4.188899993896484, -4.188899993896484, -4.188899993896484, -4.188899993896484, -4.188899993896484, -4.188899993896484, -4.188899993896484, -4.188899993896484, -4.188899993896484, -4.188899993896484, -4.188899993896484, -4.188899993896484, -4.188899993896484, -4.188899993896484, -4.188899993896484, -4.188899993896484, -4.188899993896484, -4.188899993896484, -4.188899993896484, -4.188899993896484, -4.188899993896484, -4.188899993896484, -3.51990008354187, -3.51990008354187, -4.188899993896484, -4.188899993896484, -4.188899993896484, -4.188899993896484, -4.188899993896484, -4.188899993896484, -4.188899993896484, -4.144599914550781, -4.144599914550781, -4.144599914550781, -4.144599914550781, -4.144599914550781, -4.144599914550781, -4.144599914550781, -4.144599914550781, -4.144599914550781, -4.144599914550781, -4.144599914550781, -4.144700050354004, -4.144700050354004, -4.144700050354004, -4.144700050354004, -4.144700050354004, -4.144700050354004, -4.144700050354004, -4.144700050354004, -4.144700050354004, -4.144599914550781, -4.144599914550781, -4.144599914550781, -4.144599914550781, -4.144599914550781, -4.144599914550781, -4.144700050354004, -4.144599914550781, -4.144599914550781, -4.144700050354004, -4.144599914550781, -4.144599914550781, -4.144599914550781, -4.144599914550781, -4.144700050354004, -4.144700050354004, -4.144700050354004, -4.144700050354004, -4.098299980163574, -4.098299980163574, -4.098299980163574, -4.098299980163574, -4.098299980163574, -4.098299980163574, -4.098299980163574, -4.098299980163574, -4.098299980163574, -4.098299980163574, -4.098299980163574, -4.098299980163574, -4.098299980163574, -4.098299980163574, -4.098299980163574, -4.098299980163574, -4.098299980163574, -4.098299980163574, -4.098299980163574, -4.098299980163574, -4.098299980163574, -3.42930006980896, -4.098299980163574, -4.098299980163574, -4.098299980163574, -4.098299980163574, -4.098299980163574, -3.42930006980896, -4.098299980163574, -4.098299980163574, -3.42930006980896, -4.098299980163574, -4.082399845123291, -4.082399845123291, -4.082399845123291, -4.082399845123291, -4.082399845123291, -4.082399845123291, -4.082399845123291, -4.082399845123291, -4.082399845123291, -4.082399845123291, -4.082399845123291, -4.082399845123291, -4.082399845123291, -4.082399845123291, -4.082399845123291, -4.082399845123291, -4.082399845123291, -4.082399845123291, -4.082399845123291, -4.082399845123291, -4.082399845123291, -4.082399845123291, -4.082399845123291, -4.082399845123291, -4.082399845123291, -4.082399845123291, -3.413300037384033, -4.082399845123291, -4.082399845123291, -4.082399845123291, -4.082399845123291, -4.082399845123291, -4.082399845123291, -4.082399845123291, -4.082399845123291, -3.9986000061035156, -3.9986000061035156, -3.9986000061035156, -3.9986000061035156, -3.9986000061035156, -3.9986000061035156, -3.9986000061035156, -3.9986000061035156, -3.9986000061035156, -3.9986000061035156, -3.9986000061035156, -3.9986000061035156, -3.9986000061035156, -3.9986000061035156, -3.3296000957489014, -3.9986000061035156, -3.9986000061035156, -3.3296000957489014, -3.9986000061035156, -3.9986000061035156, -3.9986000061035156, -3.9986000061035156, -3.9986000061035156, -3.9986000061035156, -3.9986000061035156, -3.9986000061035156, -3.9986000061035156, -3.9986000061035156, -3.9986000061035156, -3.9986000061035156, -3.963099956512451, -3.963099956512451, -3.963099956512451, -3.963099956512451, -3.963099956512451, -3.963099956512451, -3.963099956512451, -3.963099956512451, -3.963099956512451, -3.963099956512451, -3.963099956512451, -3.963099956512451, -3.963099956512451, -3.963099956512451, -3.963099956512451, -3.963099956512451, -3.963099956512451, -3.963099956512451, -3.963099956512451, -3.963099956512451, -3.963099956512451, -3.963099956512451, -3.963099956512451, -3.963099956512451, -3.963099956512451, -3.963099956512451, -3.963099956512451, -3.963099956512451, -3.963099956512451, -3.963099956512451, -3.9272000789642334, -3.9272000789642334, -3.9272000789642334, -3.9272000789642334, -3.9272000789642334, -3.9272000789642334, -3.9272000789642334, -3.9272000789642334, -3.9272000789642334, -3.9272000789642334, -3.9272000789642334, -3.9272000789642334, -3.9272000789642334, -3.2581000328063965, -3.9272000789642334, -3.9272000789642334, -3.9272000789642334, -3.9272000789642334, -3.9272000789642334, -3.9272000789642334, -3.9272000789642334, -3.9272000789642334, -3.9272000789642334, -3.9272000789642334, -3.2581000328063965, -3.9272000789642334, -6.971700191497803, -6.971700191497803, -6.971700191497803, -6.971700191497803, -6.892199993133545, -6.892300128936768, -6.893400192260742, -6.894800186157227, -3.763400077819824, -3.763400077819824, -3.763400077819824, -3.763400077819824, -3.763400077819824, -3.763400077819824, -3.763400077819824, -3.763400077819824, -3.763400077819824, -3.763400077819824, -3.763400077819824, -3.763400077819824, -3.763400077819824, -3.763400077819824, -3.763400077819824, -3.763400077819824, -3.763400077819824, -3.763400077819824, -3.763400077819824, -3.763400077819824, -6.8078999519348145, -6.8078999519348145, -6.8078999519348145, -6.8078999519348145, -6.8078999519348145, -6.8078999519348145, -6.8078999519348145, -6.8078999519348145, -6.8078999519348145, -6.8078999519348145, -6.8078999519348145, -6.8078999519348145, -6.8078999519348145, -6.8078999519348145, -6.8078999519348145, -6.8078999519348145, -6.8078999519348145, -6.8078999519348145, -6.8078999519348145, -6.8078999519348145, -3.763400077819824, -3.763400077819824, -3.763400077819824, -3.763400077819824, -3.763400077819824, -3.763400077819824, -3.763400077819824, -3.763400077819824, -3.763400077819824, -3.763400077819824, -3.763400077819824, -3.763400077819824, -3.763400077819824, -3.763400077819824, -3.763400077819824, -3.763400077819824, -3.763400077819824, -3.763400077819824, -3.763400077819824, -3.763400077819824, -6.8078999519348145, -6.8078999519348145, -6.8078999519348145, -6.8078999519348145, -6.8078999519348145, -6.8078999519348145, -6.8078999519348145, -6.8078999519348145, -6.8078999519348145, -6.8078999519348145, -6.8078999519348145, -6.8078999519348145, -6.8078999519348145, -6.8078999519348145, -6.8078999519348145, -6.8078999519348145, -6.8078999519348145, -6.8078999519348145, -6.8078999519348145, -6.8078999519348145, -3.5689001083374023, -3.5689001083374023, -3.5689001083374023, -3.5689001083374023, -3.5689001083374023, -3.5689001083374023, -3.5689001083374023, -3.5689001083374023, -3.5689001083374023, -3.5689001083374023, -3.5689001083374023, -3.5689001083374023, -6.613399982452393, -6.613399982452393, -6.613399982452393, -6.613399982452393, -6.613399982452393, -6.613399982452393, -6.613399982452393, -6.613399982452393, -6.613399982452393, -6.613399982452393, -6.613399982452393, -6.613399982452393, -6.613399982452393, -6.613399982452393, -6.613399982452393, -6.613399982452393, -6.613399982452393, -6.613399982452393, -6.613399982452393, -6.613399982452393, -6.613399982452393, -6.613399982452393, -6.613399982452393, -6.613399982452393, -6.613399982452393, -6.613399982452393, -6.613399982452393, -6.613399982452393, -6.613399982452393, -6.613399982452393, -6.613399982452393, -6.613399982452393, -6.613399982452393, -6.613399982452393, -6.613399982452393, -6.613399982452393, -3.5416998863220215, -3.5416998863220215, -3.5416998863220215, -3.5416998863220215, -3.5416998863220215, -3.5416998863220215, -3.5416998863220215, -3.5416998863220215, -3.5416998863220215, -3.5416998863220215, -3.5416998863220215, -6.58620023727417, -6.58620023727417, -6.58620023727417, -6.58620023727417, -6.58620023727417, -6.58620023727417, -6.58620023727417, -6.58620023727417, -6.58620023727417, -6.58620023727417, -6.58620023727417, -6.58620023727417, -6.58620023727417, -6.58620023727417, -6.58620023727417, -6.58620023727417, -6.58620023727417, -6.58620023727417, -6.58620023727417, -6.58620023727417, -6.58620023727417, -6.58620023727417, -6.58620023727417, -6.58620023727417, -6.58620023727417, -6.58620023727417, -6.58620023727417, -6.58620023727417, -6.58620023727417, -6.58620023727417, -6.58620023727417, -6.58620023727417, -6.58620023727417, -6.58620023727417, -6.58620023727417, -6.58620023727417, -6.58620023727417, -6.58620023727417, -3.393199920654297, -3.393199920654297, -3.393199920654297, -3.393199920654297, -3.393199920654297, -3.393199920654297, -6.43779993057251, -6.43779993057251, -6.43779993057251, -6.43779993057251, -6.43779993057251, -6.43779993057251, -6.43779993057251, -6.43779993057251, -6.43779993057251, -6.43779993057251, -6.43779993057251, -6.43779993057251, -6.43779993057251, -6.43779993057251, -6.43779993057251, -6.43779993057251, -6.43779993057251, -6.43779993057251, -6.43779993057251, -6.43779993057251, -6.43779993057251, -6.43779993057251, -6.43779993057251, -6.43779993057251, -6.43779993057251, -6.43779993057251, -6.43779993057251, -6.43779993057251, -6.43779993057251, -6.43779993057251, -6.43779993057251, -6.43779993057251, -6.43779993057251, -6.43779993057251, -6.43779993057251, -6.43779993057251, -6.43779993057251, -6.43779993057251, -6.43779993057251, -6.43779993057251, -6.43779993057251, -6.43779993057251, -6.43779993057251, -6.43779993057251, -6.43779993057251, -6.43779993057251, -6.43779993057251, -6.43779993057251], \"loglift\": [30.0, 29.0, 28.0, 27.0, 26.0, 25.0, 24.0, 23.0, 22.0, 21.0, 20.0, 19.0, 18.0, 17.0, 16.0, 15.0, 14.0, 13.0, 12.0, 11.0, 10.0, 9.0, 8.0, 7.0, 6.0, 5.0, 4.0, 3.0, 2.0, 1.0, 1.8329, 1.8329, 1.8302, 1.6583, 1.6179, 1.6179, 1.6179, 1.6179, 1.6179, 1.6179, 1.6179, 1.6179, 1.6179, 1.6179, 1.6179, 1.6179, 1.6179, 1.6179, 1.6179, 1.6179, 1.6179, 1.6179, 1.6179, 1.6179, 1.6179, 1.6179, 1.6179, 1.6179, 1.6179, 1.6179, 1.596, 1.5932, 1.5671, 1.5456, 1.3426, 1.1795, 0.7463, 0.5378, 1.2524, 1.2665, 1.2665, 0.977, 0.9345, -0.0244, 0.7375, 0.284, 1.198, 2.2133, 2.2133, 1.9831, 1.9831, 1.9831, 1.9831, 1.9831, 1.9831, 1.9831, 1.9831, 1.9831, 1.9831, 1.9831, 1.9831, 1.9831, 1.9831, 1.9831, 1.9831, 1.9831, 1.9831, 1.9831, 1.9831, 1.9831, 1.9831, 1.9831, 1.9831, 1.9831, 1.9831, 1.9831, 1.9831, 1.921, 1.9227, 1.7502, 1.6978, 1.3865, 1.0936, 1.5861, 1.2805, 0.8525, 1.1887, 0.8884, 1.5089, 0.1371, -0.0092, 1.3126, 2.2579, 2.0253, 2.0253, 2.0253, 2.0253, 2.0253, 2.0253, 2.0253, 2.0253, 2.0253, 2.0253, 2.0253, 2.0253, 2.0253, 2.0253, 2.0253, 2.0253, 2.0253, 2.0253, 2.0253, 2.0253, 2.0253, 2.0253, 2.0253, 2.0253, 2.0253, 2.0253, 2.0253, 2.0253, 2.0253, 1.3866, 1.5975, 0.3025, 0.6287, 1.064, 1.0626, 1.3143, 1.1853, 1.1752, 1.203, 1.3738, 1.392, 1.0822, 1.3244, 2.1352, 2.1352, 2.1352, 2.1352, 2.1352, 2.1352, 2.1352, 2.1352, 2.1352, 2.1352, 2.1352, 2.1352, 2.1352, 2.1352, 2.1352, 2.1352, 2.1352, 2.1352, 2.1352, 2.1352, 2.1135, 1.969, 1.8838, 1.8678, 1.8185, 1.8185, 1.7606, 1.7457, 1.7384, 1.7384, 1.6234, 1.72, 1.4317, 1.1601, 1.4563, 1.4426, 1.7182, 0.7492, 1.1143, 0.9825, 0.3134, 2.4066, 2.1678, 2.1678, 2.1678, 2.1678, 2.1678, 2.1678, 2.1678, 2.1678, 2.1678, 2.1678, 2.1678, 2.1678, 2.1678, 2.1678, 2.1678, 2.1678, 2.1678, 2.1678, 2.1678, 2.1678, 2.1678, 2.1678, 2.1678, 2.1678, 2.1678, 2.1678, 2.1678, 2.1678, 2.0987, 1.0933, 0.8154, 1.4665, 0.3389, 1.4434, 1.6825, 1.008, 1.4504, 1.2403, 1.776, 1.7687, 2.1798, 2.1798, 2.1798, 2.1798, 2.1798, 2.1798, 2.1798, 2.1798, 2.1798, 2.1798, 2.1798, 2.1798, 2.1798, 2.1798, 2.1798, 2.1798, 2.1798, 2.1798, 2.1798, 2.1798, 2.158, 2.1047, 1.9226, 1.8551, 1.7735, 1.7363, 1.7309, 1.6948, 1.6901, 1.5551, 1.2574, 1.4494, 1.1529, 0.3057, 0.352, 1.4842, 0.8147, 0.1594, 1.2999, 2.224, 2.224, 2.224, 2.224, 2.224, 2.224, 2.224, 2.224, 2.224, 2.224, 2.224, 2.224, 2.224, 2.224, 2.224, 2.224, 2.224, 2.224, 2.224, 2.224, 2.224, 2.224, 2.1718, 1.8551, 1.8551, 1.8419, 1.8194, 1.7833, 1.7833, 1.7742, 1.0013, 1.7322, 1.5079, 1.404, 0.3786, 1.7322, 0.79, 0.8413, 1.5043, 1.3643, 1.2519, 2.4982, 2.2535, 2.2535, 2.2535, 2.2535, 2.2535, 2.2535, 2.2535, 2.2535, 2.2535, 2.2535, 2.2535, 2.2535, 2.2535, 2.2535, 2.2535, 2.2535, 2.2535, 2.2535, 2.1815, 2.0222, 1.9917, 1.9295, 1.9295, 1.8118, 1.7648, 1.58, 1.5728, 1.536, 1.5294, 1.4253, 1.1705, 1.1139, 1.462, 1.0339, 1.5026, 2.3136, 2.3136, 2.3136, 2.3136, 2.3136, 2.3136, 2.3136, 2.3136, 2.3136, 2.3136, 2.3136, 2.3136, 2.3136, 2.3136, 2.3136, 2.3136, 2.3136, 2.3136, 2.3136, 2.3136, 1.9784, 1.9385, 1.9252, 1.9098, 1.9024, 1.8966, 1.8698, 1.8566, 1.851, 1.8224, 0.9247, 0.4483, 1.6034, 1.434, 1.599, 1.3216, 1.2135, 1.8145, 2.3609, 2.3609, 2.3609, 2.3609, 2.3609, 2.3609, 2.3609, 2.3609, 2.3609, 2.3609, 2.3609, 2.3609, 2.3609, 2.3609, 2.3609, 2.3609, 2.3609, 2.3609, 2.3609, 1.9849, 1.9409, 1.912, 1.912, 1.9028, 1.8028, 1.6601, 1.6599, 1.6491, 1.6355, 1.6183, 1.2578, 0.729, 1.6161, 1.5545, 0.904, 0.5778, 1.1976, 1.3779, 2.416, 2.416, 2.416, 2.416, 2.416, 2.416, 2.416, 2.416, 2.416, 2.416, 2.416, 2.416, 2.416, 2.416, 2.416, 2.416, 1.993, 1.9798, 1.9687, 1.964, 1.964, 1.6707, 1.6696, 1.6683, 1.6572, 1.6504, 1.636, 1.6194, 1.5254, 1.4969, 1.2932, 0.3463, 2.4434, 2.4434, 2.4434, 2.4434, 2.4434, 2.4434, 2.4434, 2.4434, 2.4434, 2.4434, 2.4434, 2.4434, 2.4434, 2.4434, 2.4434, 2.4434, 2.4434, 2.4434, 2.4434, 2.0474, 2.0164, 1.9919, 1.9919, 1.9871, 1.9347, 1.6978, 1.6866, 1.6257, 1.4016, 1.2261, 0.9663, 0.7912, 1.1835, 0.6401, 0.6579, 2.5507, 2.5507, 2.5507, 2.5507, 2.5507, 2.5507, 2.5507, 2.2019, 2.1311, 2.1155, 2.1019, 2.0906, 2.0906, 2.0858, 2.0729, 2.0325, 2.0325, 2.0163, 1.8061, 1.7756, 1.7696, 1.7662, 1.6933, 1.6929, 1.5035, 1.3498, 1.1726, 1.1013, 0.7416, 0.446, 2.607, 2.607, 2.607, 2.607, 2.607, 2.607, 2.607, 2.607, 2.607, 2.607, 2.607, 2.607, 2.607, 2.607, 2.607, 2.607, 2.607, 2.607, 2.607, 2.607, 2.607, 2.2589, 2.1644, 2.1506, 2.1506, 1.9844, 1.8307, 1.8033, 1.7785, 1.5843, 2.6429, 2.6429, 2.6429, 2.6429, 2.6429, 2.6429, 2.6429, 2.6429, 2.6429, 2.6429, 2.6429, 2.6429, 2.6429, 2.337, 2.2024, 1.8774, 1.8651, 1.8608, 1.8422, 1.8336, 1.6781, 1.6114, 1.6078, 1.3387, 1.3328, 0.71, -0.0913, -0.0913, -0.0913, -0.0913, -0.5089, -0.5091, -0.5102, -0.5116, 2.8694, 2.8694, 2.8694, 2.8694, 2.8694, 2.8694, 2.8694, 2.8694, 2.8694, 2.8694, 2.8694, 2.8694, 2.4372, 2.4039, 2.3769, 2.3565, 2.0485, 1.8419, 1.5024, 0.8738, 0.0724, 0.0724, 0.0724, 0.0724, 0.0724, -0.0434, -0.0434, -0.0434, -0.0434, -0.0434, -0.6805, -1.2228, -0.3253, -0.3253, -0.3253, -1.0413, -0.7224, -0.7468, -1.04, -1.4595, 2.8798, 2.8798, 2.8798, 2.8798, 2.8798, 2.8798, 2.8798, 2.8798, 2.8798, 2.8798, 2.8798, 2.4585, 2.3981, 2.3981, 2.3789, 2.3789, 1.8217, 0.9769, 0.9591, 0.8275, 0.0724, 0.0724, 0.0724, 0.0724, 0.0724, -0.0434, -0.0434, -0.0434, -0.0434, -0.0434, -0.3225, -0.6942, -0.6942, -1.0142, -0.2379, -0.2379, -0.2379, -0.8605, -0.2379, -0.3253, 3.177, 3.177, 3.177, 3.177, 3.177, 3.177, 3.177, 3.177, 2.6548, 2.639, 2.6237, 1.3047, 0.267, 0.267, 0.267, 0.267, 0.267, 0.1511, 0.1511, 0.1511, 0.1511, 0.1511, 0.1511, 0.1511, 0.1511, 0.0298, 0.0298, 0.0298, 0.0298, 0.0298, -0.4934, -0.0433, -1.3475, -0.869, -0.1279, -0.9218, -0.2309, -0.2309, -0.2309, -0.2309, -0.4997, -0.8196, -0.0433, -0.0433, 0.0194, -0.4461, -0.0433, 0.0194, 3.2229, 3.2229, 3.2229, 3.2229, 3.2229, 3.2229, 3.2229, 3.2229, 2.4058, 2.0821, 2.0813, 0.2942, 0.2942, 0.2942, 0.2942, 0.2942, 0.1597, 0.1597, 0.1597, 0.1597, 0.1597, 0.1597, 0.1597, 0.1597, 0.0571, 0.0571, 0.0571, 0.0571, 0.0571, 0.0571, -0.2037, -0.7924, -0.4724, -0.2037, -0.8946, -0.2037, -0.2037, -0.0161, -0.1007, -0.8418, -0.0161, -0.0161, -0.0161, -0.1007, -0.1035, -0.1035, -0.1035, -0.8196, 0.0467, 3.4871, 3.4871, 3.4871, 3.4871, 3.4871, 1.3293, 0.3268, 0.3268, 0.3268, 0.3268, 0.3268, 0.3268, 0.3268, 0.3268, 0.3081, 0.3081, 0.3081, 0.3081, 0.3081, 0.3081, 0.3081, 0.3081, 0.2055, 0.2055, 0.2055, 0.2055, 0.2055, 0.2055, 0.2055, 0.2055, -0.324, 0.1323, -0.644, 0.088, -0.0552, 0.1323, -0.0552, -0.0552, -0.7462, 0.0477, -0.0552, -0.4903, 0.1323, -0.2141, 0.1323, 0.0449, 0.0449, 0.0449, -0.6712, 0.1951, -0.3178, 0.1951, -0.2704, 0.1951]}, \"token.table\": {\"Topic\": [2, 4, 11, 9, 2, 6, 12, 2, 14, 7, 15, 5, 13, 10, 8, 4, 11, 2, 4, 5, 6, 1, 7, 1, 1, 2, 12, 5, 1, 3, 7, 6, 8, 11, 3, 5, 3, 1, 3, 7, 10, 11, 12, 3, 1, 9, 3, 4, 8, 10, 12, 8, 6, 14, 1, 2, 5, 3, 2, 9, 11, 4, 3, 1, 10, 15, 4, 11, 3, 6, 8, 1, 3, 4, 12, 13, 7, 11, 3, 9, 3, 7, 14, 1, 13, 3, 5, 13, 2, 1, 11, 6, 7, 11, 12, 13, 4, 1, 11, 3, 8, 1, 2, 14, 4, 9, 10, 6, 1, 13, 14, 13, 1, 10, 8, 8, 3, 6, 3, 10, 14, 4, 12, 5, 2, 6, 15, 10, 1, 3, 7, 8, 9, 12, 13, 6, 6, 15, 15, 8, 6, 4, 11, 9, 14, 4, 14, 6, 3, 9, 15, 7, 10, 4, 4, 8, 8, 2, 14, 5, 5, 1, 2, 4, 14, 6, 4, 10, 7, 5, 12, 3, 8, 8, 8, 2, 2, 8, 6, 9, 15, 3, 5, 10, 12, 11, 3, 8, 9, 13, 2, 9, 15, 4, 2, 7, 6, 8, 11, 8, 5, 4, 10, 9, 8, 11, 2, 8, 10, 6, 8, 10, 12, 15, 10, 12, 1, 8, 4, 7, 9, 2, 3, 1, 4, 12, 7, 6, 2, 1, 2, 3, 5, 6, 7, 9, 11, 13, 5, 4, 5, 15, 12, 4, 9, 14, 2, 1, 4, 7, 9, 12, 4, 7, 1, 14, 7, 5, 1, 1, 13, 2, 5, 7, 11, 12, 8, 1, 3, 11, 4, 7, 5, 9, 6, 2, 15, 9, 12, 9, 14, 13, 2, 5, 13, 14, 9, 6, 5, 5, 1, 10, 15, 4, 13, 8, 9, 13, 7, 10, 15, 14, 15, 2, 9, 15, 7, 3, 8, 12, 3, 1, 14, 8, 3, 7, 9, 4, 9, 5, 7, 10, 6, 5, 6, 4, 4, 5, 1, 12, 12, 1, 3, 7, 15, 1, 7, 1, 11, 9, 2, 3, 11, 9, 3, 3, 10, 14, 3, 11, 15, 9, 12, 10, 12, 14, 2, 3, 5, 7, 10, 11, 12, 1, 12, 8, 6, 14, 2, 4, 6, 9, 10, 11, 12, 1, 8, 5, 10, 15, 4, 2, 6, 13, 1, 1, 3, 4, 5, 6, 7, 9, 11, 15, 15, 10, 4, 10, 12, 11, 9, 13, 3, 12, 5, 11, 10, 14, 7, 14, 14, 6, 2, 9, 13, 7, 6, 3, 2, 2, 2, 2, 9, 11, 1, 11, 3, 3, 15, 7, 3, 1, 4, 5, 7, 8, 1, 1, 11, 2, 6, 5, 5, 2, 9, 4, 3, 3, 10, 3, 14, 5, 9, 7, 1, 15, 6, 1, 4, 6, 6, 11, 3, 7, 5, 10, 1, 3, 15, 8, 10, 13, 10, 7, 2, 2, 6, 2, 2, 6, 1, 7, 10, 11, 1, 3, 12, 1, 4, 8, 13, 1, 6, 1, 13, 9, 5, 1, 3, 6, 14, 10, 5, 8, 9, 10, 13, 5, 12, 10, 9, 4, 8, 7, 2, 3, 8, 5, 12, 4, 2, 12, 2, 6, 12, 4, 13, 4, 5, 6, 2, 6, 10, 14, 1, 9, 1, 3, 8, 13, 1, 5, 2, 1, 13, 12, 1, 8, 5, 12, 7, 2, 10, 14, 7, 13, 4, 6, 14, 8, 7, 2, 4, 9, 10, 9, 11, 13, 13, 1, 3, 5, 11, 5, 6, 10, 3, 5, 3, 2, 3, 4, 6, 7, 8, 15, 1, 3, 1, 13, 5, 1, 2, 10, 7, 2, 15, 7, 5, 2, 12, 4, 3, 10, 1, 5, 14, 3, 10, 9, 2, 6, 8, 13, 14, 1, 2, 4, 5, 11, 1, 7, 9, 11, 1, 1, 3, 4, 12, 1, 8, 6, 7, 11, 1, 3, 8, 4, 7, 1, 6, 15, 1, 7, 2, 14], \"Freq\": [0.783539774540022, 0.5387036377152838, 0.5387036377152838, 0.8366940775565614, 0.507002556228114, 0.253501278114057, 0.253501278114057, 0.7835402824651163, 0.6319790045497115, 0.8202008509936478, 0.8951730697708685, 0.5534213531562061, 0.5534213531562061, 0.8392348076704865, 0.8224926139615795, 0.5387034217118859, 0.5387034217118859, 0.2529537223574307, 0.2529537223574307, 0.2529537223574307, 0.2529537223574307, 0.5015940831295664, 0.5015940831295664, 0.7420492105392413, 0.3780321790741137, 0.3780321790741137, 0.3780321790741137, 0.8067076254234584, 0.9424740289965584, 0.5230974911407646, 0.5230974911407646, 0.33429763417045893, 0.33429763417045893, 0.8466118974267649, 0.7900989160260565, 0.8067070637897041, 0.6136808247236819, 0.19550066500545718, 0.19550066500545718, 0.19550066500545718, 0.19550066500545718, 0.19550066500545718, 0.19550066500545718, 0.7900988106463062, 0.7420492105392413, 0.836693038492351, 0.7900989511526463, 0.31402473017952104, 0.31402473017952104, 0.31402473017952104, 0.8563281351237593, 0.8224925261479119, 0.8058507800488386, 0.8951134399338494, 0.4876407303793317, 0.4876407303793317, 0.8067084990775195, 0.7900986701400163, 0.5706889811991525, 0.8366941337222679, 0.8466116407252156, 0.8010778811280688, 0.7900988106463062, 0.3984830056675101, 0.3984830056675101, 0.3984830056675101, 0.3474635501996341, 0.3474635501996341, 0.3881944997926303, 0.3881944997926303, 0.3881944997926303, 0.7425670753837473, 0.7900986701400163, 0.8010777212426554, 0.5763323091588576, 0.5763323091588576, 0.5472843915254398, 0.5472843915254398, 0.5297572665557909, 0.5297572665557909, 0.7900986701400163, 0.5671497816243022, 0.5671497816243022, 0.742574387913764, 0.8767910389594815, 0.4000931677889354, 0.4000931677889354, 0.4000931677889354, 0.7835399196614102, 0.7420493083590701, 0.8466120514477693, 0.20578418097326345, 0.20578418097326345, 0.20578418097326345, 0.20578418097326345, 0.20578418097326345, 0.8010777212426554, 0.7420491616293365, 0.8466117434058165, 0.4194099534783034, 0.4194099534783034, 0.7420495529087546, 0.7835399922221247, 0.8951131708039515, 0.8010778811280688, 0.551403099057211, 0.551403099057211, 0.8058512111556997, 0.5222059963145389, 0.5222059963145389, 0.8951134399338494, 0.8767906668854997, 0.7420494061789247, 0.8392344314570905, 0.8224922041646235, 0.5948946304801959, 0.7900988106463062, 0.8058507800488386, 0.4118569401555788, 0.4118569401555788, 0.4118569401555788, 0.542621090234683, 0.542621090234683, 0.5246480197334288, 0.4019442334086415, 0.4019442334086415, 0.4019442334086415, 0.839234162733443, 0.14362043877847433, 0.28724087755694866, 0.14362043877847433, 0.14362043877847433, 0.14362043877847433, 0.14362043877847433, 0.14362043877847433, 0.8058512111556997, 0.8058507800488386, 0.8951732428608965, 0.8951731563158744, 0.8224926139615795, 0.8058511495689771, 0.8010777212426554, 0.8466117947461266, 0.5983756532153979, 0.8951134847888479, 0.8010778811280688, 0.8951131708039515, 0.8058509032221803, 0.41125682340267183, 0.41125682340267183, 0.41125682340267183, 0.820200670675228, 0.8392339477546485, 0.8010778811280688, 0.8010778811280688, 0.8224925261479119, 0.8224924090630507, 0.783539774540022, 0.8951134847888479, 0.806706814174953, 0.806706814174953, 0.7425755166208865, 0.40074097823763694, 0.40074097823763694, 0.40074097823763694, 0.8058507800488386, 0.5357070259268818, 0.5357070259268818, 0.820201031312147, 0.545198358345524, 0.545198358345524, 0.7900988106463062, 0.8224924676054771, 0.8224924090630507, 0.8224924090630507, 0.7835403913062935, 0.7835404275866927, 0.8224924090630507, 0.5367927052907274, 0.5367927052907274, 0.8951731563158744, 0.7900986701400163, 0.806706814174953, 0.8392345926913617, 0.8563275790131991, 0.8466120514477693, 0.2638444963683739, 0.2638444963683739, 0.2638444963683739, 0.2638444963683739, 0.40947277225899514, 0.40947277225899514, 0.40947277225899514, 0.8010779450822518, 0.7835396294186876, 0.820200580516048, 0.401357797828965, 0.401357797828965, 0.401357797828965, 0.6330460804759955, 0.8067069077804666, 0.5357070040278911, 0.5357070040278911, 0.836693291237462, 0.8224927310464993, 0.8466121027881165, 0.783539774540022, 0.8224925261479119, 0.8392343777123473, 0.24292858546457838, 0.24292858546457838, 0.24292858546457838, 0.24292858546457838, 0.24292858546457838, 0.8392342702228813, 0.856328084568224, 0.7420494061789247, 0.5380809157244236, 0.5278875486619579, 0.5278875486619579, 0.8366940775565614, 0.7835396294186876, 0.7900984945072239, 0.4918712488130527, 0.24593562440652636, 0.24593562440652636, 0.8202006406221657, 0.8058512111556997, 0.7835401736239692, 0.2137208168580861, 0.10686040842904306, 0.10686040842904306, 0.10686040842904306, 0.10686040842904306, 0.10686040842904306, 0.10686040842904306, 0.10686040842904306, 0.10686040842904306, 0.806706814174953, 0.319102057037564, 0.319102057037564, 0.319102057037564, 0.8563275790131991, 0.8010778811280688, 0.5749868357360981, 0.5749868357360981, 0.7835403913062935, 0.6009457770191452, 0.20031525900638172, 0.20031525900638172, 0.8366929261612395, 0.8563285395682563, 0.8010776892655805, 0.820200670675228, 0.7420493083590701, 0.8951132156589234, 0.8202008509936478, 0.8067070637897041, 0.7420493083590701, 0.7436580731355475, 0.3718290365677738, 0.7835403913062935, 0.8067070637897041, 0.8202007908874991, 0.8466116407252156, 0.8563277812351375, 0.8224923797918404, 0.7420491616293365, 0.7900985998868899, 0.8466121541284701, 0.5278874375752294, 0.5278874375752294, 0.8067075318177784, 0.836693094657918, 0.6231418524433605, 0.7835403913062935, 0.8951731563158744, 0.836693094657918, 0.856327831790637, 0.8366931789062826, 0.8951134399338494, 0.8767908994317013, 0.7835401736239692, 0.5534213902148176, 0.5534213902148176, 0.8951127671094082, 0.8366929261612395, 0.8058507800488386, 0.8067070637897041, 0.8067075318177784, 0.7420493083590701, 0.5762108741721708, 0.5762108741721708, 0.40147799920886035, 0.40147799920886035, 0.8224925261479119, 0.8366928419129258, 0.6186079903343671, 0.8202010914183308, 0.8392347001809105, 0.895173286133414, 0.8951130362390634, 0.895173286133414, 0.31793970012053274, 0.31793970012053274, 0.31793970012053274, 0.8202008509936478, 0.39201346293703837, 0.39201346293703837, 0.856327730679644, 0.7900987755197292, 0.7425574449481448, 0.8951127671094082, 0.8224924676054771, 0.34719448908086314, 0.34719448908086314, 0.34719448908086314, 0.8010774654261273, 0.8366928699956953, 0.3993604512945914, 0.3993604512945914, 0.3993604512945914, 0.8058507800488386, 0.8067070013860018, 0.8058506876688571, 0.8010775293802441, 0.8010776253114382, 0.8067070013860018, 0.7420496507286736, 0.8563276801241564, 0.8563275790131991, 0.7420494061789247, 0.34110922334751637, 0.34110922334751637, 0.34110922334751637, 0.7420496018187108, 0.820200580516048, 0.7420495529087546, 0.8466117434058165, 0.8366931789062826, 0.3880894242810295, 0.3880894242810295, 0.3880894242810295, 0.8366942741365674, 0.79009888089947, 0.7900988106463062, 0.8392342164781588, 0.8951134399338494, 0.3376679202110283, 0.3376679202110283, 0.3376679202110283, 0.5587310529821201, 0.5587310529821201, 0.839234162733443, 0.856327730679644, 0.8951129913841094, 0.14109029041120244, 0.14109029041120244, 0.14109029041120244, 0.14109029041120244, 0.14109029041120244, 0.14109029041120244, 0.14109029041120244, 0.514878135487612, 0.514878135487612, 0.8224922627070208, 0.8058512111556997, 0.8951129913841094, 0.16410489011042972, 0.16410489011042972, 0.16410489011042972, 0.16410489011042972, 0.16410489011042972, 0.16410489011042972, 0.16410489011042972, 0.7420493083590701, 0.8224924676054771, 0.4163381239001827, 0.4163381239001827, 0.4163381239001827, 0.8010782008990864, 0.7835402824651163, 0.403876062222794, 0.403876062222794, 0.7420496507286736, 0.2591094815886366, 0.1295547407943183, 0.1295547407943183, 0.1295547407943183, 0.1295547407943183, 0.1295547407943183, 0.1295547407943183, 0.1295547407943183, 0.1295547407943183, 0.895173286133414, 0.8392338940099672, 0.40629248207517815, 0.40629248207517815, 0.40629248207517815, 0.8466116920655129, 0.8366942179708418, 0.8767905273578379, 0.7900987755197292, 0.8563277812351375, 0.5412433874257985, 0.5412433874257985, 0.8392339477546485, 0.8951130362390634, 0.5671501092133082, 0.5671501092133082, 0.8951131708039515, 0.8058512111556997, 0.7835403187455052, 0.5673707785875617, 0.5673707785875617, 0.8202008509936478, 0.8058512111556997, 0.79009888089947, 0.7835399922221247, 0.7835402461847306, 0.7835400647828524, 0.5052175082330678, 0.836693038492351, 0.8466117434058165, 0.7420496018187108, 0.8466117434058165, 0.7900985998868899, 0.5106844920637168, 0.895173286133414, 0.8202006406221657, 0.7900989511526463, 0.7420492594491525, 0.8010774654261273, 0.8067070013860018, 0.3987432900591182, 0.3987432900591182, 0.7420496996386428, 0.7420495529087546, 0.8466117434058165, 0.514404881028338, 0.514404881028338, 0.8067070637897041, 0.8067069077804666, 0.5268004531581211, 0.5268004531581211, 0.8010776253114382, 0.7900987755197292, 0.5307747902763754, 0.5307747902763754, 0.7900988106463062, 0.8951127671094082, 0.8067074694140037, 0.836693038492351, 0.820200580516048, 0.7420494061789247, 0.895173286133414, 0.8058511495689771, 0.5772105747925318, 0.2886052873962659, 0.2886052873962659, 0.8058507800488386, 0.8466117434058165, 0.7900987755197292, 0.8202007908874991, 0.8067070013860018, 0.8392341089887339, 0.7420495529087546, 0.7900988106463062, 0.8951733294059357, 0.41640216088525916, 0.41640216088525916, 0.41640216088525916, 0.8392339477546485, 0.8202008509936478, 0.7835399922221247, 0.38288606677646825, 0.38288606677646825, 0.7835399922221247, 0.7835403913062935, 0.8058512111556997, 0.7225174003102568, 0.3612587001551284, 0.8392339477546485, 0.8466121541284701, 0.9424740289965584, 0.7900988106463062, 0.8563279834571711, 0.2631541785959184, 0.2631541785959184, 0.2631541785959184, 0.2631541785959184, 0.7420496507286736, 0.5824334993284125, 0.7420491616293365, 0.8767907133947301, 0.8366928419129258, 0.8067070013860018, 0.9428458127929362, 0.5172235166097786, 0.5172235166097786, 0.8951130362390634, 0.8392342164781588, 0.8067070013860018, 0.27848477891533996, 0.27848477891533996, 0.27848477891533996, 0.27848477891533996, 0.545198050956465, 0.545198050956465, 0.8392343777123473, 0.8366931789062826, 0.5288356814356183, 0.5288356814356183, 0.8202008810467255, 0.3017093156742879, 0.3017093156742879, 0.3017093156742879, 0.8067066581658121, 0.8563284384570964, 0.8010776892655805, 0.7835403187455052, 0.856327831790637, 0.37777465755375067, 0.37777465755375067, 0.8563286406794404, 0.550766072251453, 0.550766072251453, 0.8010776253114382, 0.8067082494618806, 0.8058508416355048, 0.32192056268074015, 0.32192056268074015, 0.32192056268074015, 0.32192056268074015, 0.5079329175488265, 0.5079329175488265, 0.3076868474635674, 0.3076868474635674, 0.3076868474635674, 0.3076868474635674, 0.49651492771350264, 0.49651492771350264, 0.7835399922221247, 0.5222059303225923, 0.5222059303225923, 0.856327730679644, 0.7420493083590701, 0.5948947371646618, 0.8067069077804666, 0.856327831790637, 0.8202008810467255, 0.7835400647828524, 0.48028442678042627, 0.48028442678042627, 0.5597387820220404, 0.5597387820220404, 0.5836104257177768, 0.8058510879822638, 0.8951132156589234, 0.822492584690355, 0.8202013618962678, 0.2622087701721931, 0.2622087701721931, 0.2622087701721931, 0.2622087701721931, 0.5545782889922976, 0.5545782889922976, 0.8767905273578379, 0.8767905738670535, 0.7420492594491525, 0.3936894150306006, 0.3936894150306006, 0.3936894150306006, 0.5183256520854969, 0.25916282604274843, 0.25916282604274843, 0.79009888089947, 0.806707219799002, 0.7900985998868899, 0.1236926253011134, 0.1236926253011134, 0.1236926253011134, 0.1236926253011134, 0.1236926253011134, 0.2473852506022268, 0.1236926253011134, 0.7420491616293365, 0.7900985998868899, 0.7439906609432906, 0.3719953304716453, 0.8067070013860018, 0.3746632960779377, 0.3746632960779377, 0.3746632960779377, 0.820200580516048, 0.7835402461847306, 0.8951731563158744, 0.8202008509936478, 0.806706814174953, 0.5052174780657976, 0.8563279329016537, 0.8010803753487775, 0.7900986701400163, 0.8392342164781588, 0.3909263595501495, 0.3909263595501495, 0.3909263595501495, 0.7900986701400163, 0.8392344314570905, 0.8366933474030628, 0.2210046490797866, 0.2210046490797866, 0.2210046490797866, 0.2210046490797866, 0.8951128119643397, 0.7080906339089617, 0.3540453169544808, 0.39639638124791143, 0.39639638124791143, 0.39639638124791143, 0.31026384003582563, 0.31026384003582563, 0.31026384003582563, 0.31026384003582563, 0.7420496996386428, 0.30213197003579595, 0.30213197003579595, 0.30213197003579595, 0.30213197003579595, 0.5025872313236888, 0.5025872313236888, 0.40081137266649336, 0.40081137266649336, 0.40081137266649336, 0.37275567586399355, 0.37275567586399355, 0.37275567586399355, 0.5836102254160574, 0.8202007908874991, 0.49619120917963433, 0.49619120917963433, 0.8951733294059357, 0.5015941056088948, 0.5015941056088948, 0.7835402461847306, 0.8951129913841094], \"Term\": [\"absent\", \"access\", \"access\", \"accessing\", \"add\", \"add\", \"add\", \"adding\", \"after\", \"air\", \"ajax\", \"all\", \"all\", \"allow\", \"alternately\", \"am\", \"am\", \"an\", \"an\", \"an\", \"an\", \"android\", \"android\", \"another\", \"any\", \"any\", \"any\", \"apache\", \"api\", \"app\", \"app\", \"application\", \"application\", \"applying\", \"area\", \"arguments\", \"as\", \"asp\", \"asp\", \"asp\", \"asp\", \"asp\", \"asp\", \"assembly\", \"at\", \"attribute\", \"authentication\", \"azure\", \"azure\", \"azure\", \"basic\", \"batch\", \"be\", \"best\", \"between\", \"between\", \"bitmap\", \"blazor\", \"block\", \"body\", \"bootstrap\", \"bound\", \"build\", \"but\", \"but\", \"but\", \"button\", \"button\", \"by\", \"by\", \"by\", \"calc\", \"canada\", \"cancel\", \"cannot\", \"cannot\", \"center\", \"center\", \"change\", \"change\", \"character\", \"check\", \"check\", \"checked\", \"checking\", \"child\", \"child\", \"child\", \"choices\", \"chrome\", \"claims\", \"class\", \"class\", \"class\", \"class\", \"class\", \"click\", \"client\", \"closing\", \"code\", \"code\", \"collection\", \"collider\", \"coloring\", \"column\", \"columns\", \"columns\", \"combobox\", \"compile\", \"compile\", \"composition\", \"concurrency\", \"configuration\", \"connecting\", \"connection\", \"console\", \"consume\", \"container\", \"contains\", \"contains\", \"contains\", \"context\", \"context\", \"control\", \"controller\", \"controller\", \"controller\", \"convert\", \"core\", \"core\", \"core\", \"core\", \"core\", \"core\", \"core\", \"cosmos\", \"could\", \"create\", \"created\", \"creating\", \"credential\", \"cross\", \"crud\", \"cshtml\", \"culture\", \"current\", \"curve\", \"custom\", \"data\", \"data\", \"data\", \"database\", \"dataset\", \"datatable\", \"default\", \"deleted\", \"deletion\", \"deserializing\", \"design\", \"designer\", \"display\", \"displaying\", \"do\", \"do\", \"do\", \"docker\", \"does\", \"does\", \"doesn\", \"domain\", \"domain\", \"don\", \"dose\", \"dotnet\", \"down\", \"drag\", \"drop\", \"due\", \"during\", \"during\", \"dynamically\", \"each\", \"easy\", \"edit\", \"editor\", \"editorwindow\", \"ef\", \"ef\", \"ef\", \"ef\", \"element\", \"element\", \"element\", \"entry\", \"enum\", \"environment\", \"error\", \"error\", \"error\", \"event\", \"excepts\", \"exist\", \"exist\", \"expanding\", \"expression\", \"external\", \"fail\", \"fails\", \"failure\", \"file\", \"file\", \"file\", \"file\", \"file\", \"files\", \"find\", \"firebase\", \"first\", \"fix\", \"fix\", \"floats\", \"forcing\", \"foreign\", \"form\", \"form\", \"form\", \"forms\", \"found\", \"framework\", \"from\", \"from\", \"from\", \"from\", \"from\", \"from\", \"from\", \"from\", \"from\", \"full\", \"function\", \"function\", \"function\", \"gameobject\", \"generate\", \"generated\", \"generated\", \"generic\", \"get\", \"get\", \"get\", \"getting\", \"gettypes\", \"go\", \"good\", \"google\", \"graph\", \"ground\", \"groups\", \"had\", \"handle\", \"handle\", \"handler\", \"has\", \"have\", \"having\", \"hierarchy\", \"hosting\", \"http\", \"id\", \"idenity\", \"identity\", \"identity\", \"ignite\", \"ignoring\", \"image\", \"images\", \"incoming\", \"inconsistent\", \"incorrect\", \"indefinitely\", \"inheritance\", \"inherits\", \"initialization\", \"input\", \"input\", \"inputfield\", \"inspector\", \"instance\", \"int\", \"integration\", \"interface\", \"into\", \"into\", \"ip\", \"ip\", \"ironocr\", \"isn\", \"it\", \"items\", \"itext\", \"javascript\", \"jclient\", \"jquery\", \"json\", \"json\", \"json\", \"jumping\", \"key\", \"key\", \"keyword\", \"kivy\", \"label\", \"letters\", \"linux\", \"list\", \"list\", \"list\", \"listner\", \"lists\", \"load\", \"load\", \"load\", \"located\", \"loop\", \"made\", \"main\", \"managed\", \"many\", \"media\", \"menu\", \"menuitem\", \"messaging\", \"method\", \"method\", \"method\", \"microcharts\", \"microsoft\", \"missing\", \"modal\", \"mode\", \"model\", \"model\", \"model\", \"modulus\", \"mousedown\", \"mouseup\", \"mp\", \"multiple\", \"mvc\", \"mvc\", \"mvc\", \"my\", \"my\", \"naudio\", \"near\", \"neo\", \"net\", \"net\", \"net\", \"net\", \"net\", \"net\", \"net\", \"new\", \"new\", \"nginx\", \"no\", \"nodetypes\", \"not\", \"not\", \"not\", \"not\", \"not\", \"not\", \"not\", \"notification\", \"nt\", \"null\", \"null\", \"null\", \"nullable\", \"numerics\", \"object\", \"object\", \"observable\", \"of\", \"of\", \"of\", \"of\", \"of\", \"of\", \"of\", \"of\", \"of\", \"onclick\", \"one\", \"only\", \"only\", \"only\", \"operations\", \"operator\", \"optimistic\", \"optimization\", \"option\", \"or\", \"or\", \"other\", \"out\", \"override\", \"override\", \"oxyplot\", \"page\", \"parameters\", \"parent\", \"parent\", \"partial\", \"partitions\", \"passing\", \"pause\", \"performance\", \"phasing\", \"platform\", \"play\", \"pop\", \"populating\", \"popup\", \"post\", \"postal\", \"posts\", \"practice\", \"prevent\", \"previously\", \"private\", \"procedure\", \"process\", \"process\", \"program\", \"proguard\", \"project\", \"prompt\", \"prompt\", \"properly\", \"properties\", \"property\", \"property\", \"public\", \"putextras\", \"query\", \"query\", \"radius\", \"randomly\", \"rdbms\", \"react\", \"read\", \"reassign\", \"recursive\", \"redirect\", \"reference\", \"reference\", \"reference\", \"referencing\", \"refreshing\", \"regex\", \"registration\", \"remove\", \"resources\", \"response\", \"resultintent\", \"results\", \"return\", \"return\", \"return\", \"returns\", \"right\", \"rigidbody\", \"root\", \"root\", \"rotating\", \"route\", \"runtime\", \"same\", \"same\", \"says\", \"screen\", \"script\", \"searching\", \"separate\", \"server\", \"server\", \"server\", \"server\", \"session\", \"set\", \"sharing\", \"show\", \"showing\", \"single\", \"size\", \"solution\", \"solution\", \"sorting\", \"soundfont\", \"specified\", \"sql\", \"sql\", \"sql\", \"sql\", \"sqlexception\", \"sqlexception\", \"static\", \"stop\", \"storage\", \"storage\", \"store\", \"string\", \"string\", \"string\", \"studio\", \"styling\", \"sub\", \"support\", \"syntax\", \"system\", \"system\", \"tab\", \"table\", \"table\", \"tcp\", \"tesseract\", \"testing\", \"text\", \"text\", \"text\", \"text\", \"textbox\", \"textbox\", \"that\", \"that\", \"that\", \"that\", \"there\", \"there\", \"through\", \"time\", \"time\", \"title\", \"toast\", \"token\", \"too\", \"top\", \"transform\", \"twilio\", \"two\", \"two\", \"type\", \"type\", \"unable\", \"unauthenticated\", \"under\", \"unexpected\", \"unique\", \"unity\", \"unity\", \"unity\", \"unity\", \"up\", \"up\", \"update\", \"updating\", \"url\", \"use\", \"use\", \"use\", \"user\", \"user\", \"user\", \"usercontrol\", \"users\", \"uses\", \"using\", \"using\", \"using\", \"using\", \"using\", \"using\", \"using\", \"validating\", \"validation\", \"value\", \"value\", \"values\", \"variable\", \"variable\", \"variable\", \"variables\", \"vector\", \"view\", \"views\", \"visual\", \"voice\", \"vscode\", \"wallrunning\", \"wasm\", \"wav\", \"way\", \"way\", \"way\", \"webapi\", \"webapp\", \"wfp\", \"when\", \"when\", \"when\", \"when\", \"whether\", \"which\", \"which\", \"while\", \"while\", \"while\", \"why\", \"why\", \"why\", \"why\", \"window\", \"windows\", \"windows\", \"windows\", \"windows\", \"winform\", \"winform\", \"without\", \"without\", \"without\", \"work\", \"work\", \"work\", \"working\", \"works\", \"wpf\", \"wpf\", \"write\", \"xamarin\", \"xamarin\", \"xdocument\", \"yield\"]}, \"R\": 30, \"lambda.step\": 0.01, \"plot.opts\": {\"xlab\": \"PC1\", \"ylab\": \"PC2\"}, \"topic.order\": [14, 17, 18, 13, 20, 4, 5, 1, 11, 16, 19, 10, 7, 2, 9, 3, 6, 12, 15, 8]};\n",
       "\n",
       "function LDAvis_load_lib(url, callback){\n",
       "  var s = document.createElement('script');\n",
       "  s.src = url;\n",
       "  s.async = true;\n",
       "  s.onreadystatechange = s.onload = callback;\n",
       "  s.onerror = function(){console.warn(\"failed to load library \" + url);};\n",
       "  document.getElementsByTagName(\"head\")[0].appendChild(s);\n",
       "}\n",
       "\n",
       "if(typeof(LDAvis) !== \"undefined\"){\n",
       "   // already loaded: just create the visualization\n",
       "   !function(LDAvis){\n",
       "       new LDAvis(\"#\" + \"ldavis_el64322836383225216594829995\", ldavis_el64322836383225216594829995_data);\n",
       "   }(LDAvis);\n",
       "}else if(typeof define === \"function\" && define.amd){\n",
       "   // require.js is available: use it to load d3/LDAvis\n",
       "   require.config({paths: {d3: \"https://cdnjs.cloudflare.com/ajax/libs/d3/3.5.5/d3.min\"}});\n",
       "   require([\"d3\"], function(d3){\n",
       "      window.d3 = d3;\n",
       "      LDAvis_load_lib(\"https://cdn.rawgit.com/bmabey/pyLDAvis/files/ldavis.v1.0.0.js\", function(){\n",
       "        new LDAvis(\"#\" + \"ldavis_el64322836383225216594829995\", ldavis_el64322836383225216594829995_data);\n",
       "      });\n",
       "    });\n",
       "}else{\n",
       "    // require.js not available: dynamically load d3 & LDAvis\n",
       "    LDAvis_load_lib(\"https://cdnjs.cloudflare.com/ajax/libs/d3/3.5.5/d3.min.js\", function(){\n",
       "         LDAvis_load_lib(\"https://cdn.rawgit.com/bmabey/pyLDAvis/files/ldavis.v1.0.0.js\", function(){\n",
       "                 new LDAvis(\"#\" + \"ldavis_el64322836383225216594829995\", ldavis_el64322836383225216594829995_data);\n",
       "            })\n",
       "         });\n",
       "}\n",
       "</script>"
      ],
      "text/plain": [
       "PreparedData(topic_coordinates=              x         y  topics  cluster       Freq\n",
       "topic                                                \n",
       "13     0.204822 -0.061148       1        1  11.966661\n",
       "16    -0.149107 -0.021667       2        1   7.961425\n",
       "17     0.051158  0.137323       3        1   7.580792\n",
       "12     0.003893 -0.059416       4        1   6.713222\n",
       "19     0.001015 -0.115524       5        1   6.459371\n",
       "3     -0.105457 -0.002154       6        1   6.388354\n",
       "4      0.090264  0.007574       7        1   6.018525\n",
       "0     -0.007218  0.177649       8        1   5.829327\n",
       "10     0.001469  0.019626       9        1   5.404423\n",
       "15    -0.057259 -0.037880      10        1   5.140211\n",
       "18     0.013986 -0.064715      11        1   4.825046\n",
       "9      0.001689 -0.049272      12        1   4.644082\n",
       "6      0.057083  0.038128      13        1   4.075293\n",
       "1     -0.031192 -0.022945      14        1   3.771084\n",
       "8     -0.034062  0.021520      15        1   3.637554\n",
       "2     -0.009495  0.016780      16        1   2.702578\n",
       "5     -0.007897  0.042469      17        1   2.640943\n",
       "11    -0.019303 -0.003283      18        1   1.700550\n",
       "14    -0.002033 -0.009333      19        1   1.576216\n",
       "7     -0.002356 -0.013731      20        1   0.964343, topic_info=        Term      Freq     Total Category  logprob  loglift\n",
       "136      net  7.000000  7.000000  Default  30.0000  30.0000\n",
       "120    using  8.000000  8.000000  Default  29.0000  29.0000\n",
       "1      class  4.000000  4.000000  Default  28.0000  28.0000\n",
       "13       not  6.000000  6.000000  Default  27.0000  27.0000\n",
       "134     core  6.000000  6.000000  Default  26.0000  26.0000\n",
       "..       ...       ...       ...      ...      ...      ...\n",
       "177   before  0.012297  1.049198  Topic20  -6.4378   0.1951\n",
       "178    block  0.012297  1.752268  Topic20  -6.4378  -0.3178\n",
       "179       cs  0.012297  1.049198  Topic20  -6.4378   0.1951\n",
       "180   cshtml  0.012297  1.671191  Topic20  -6.4378  -0.2704\n",
       "181  execute  0.012297  1.049198  Topic20  -6.4378   0.1951\n",
       "\n",
       "[832 rows x 6 columns], token_table=      Topic      Freq       Term\n",
       "term                            \n",
       "383       2  0.783540     absent\n",
       "367       4  0.538704     access\n",
       "367      11  0.538704     access\n",
       "495       9  0.836694  accessing\n",
       "25        2  0.507003        add\n",
       "...     ...       ...        ...\n",
       "471      15  0.895173      write\n",
       "113       1  0.501594    xamarin\n",
       "113       7  0.501594    xamarin\n",
       "329       2  0.783540  xdocument\n",
       "317      14  0.895113      yield\n",
       "\n",
       "[646 rows x 3 columns], R=30, lambda_step=0.01, plot_opts={'xlab': 'PC1', 'ylab': 'PC2'}, topic_order=[14, 17, 18, 13, 20, 4, 5, 1, 11, 16, 19, 10, 7, 2, 9, 3, 6, 12, 15, 8])"
      ]
     },
     "execution_count": 73,
     "metadata": {},
     "output_type": "execute_result"
    }
   ],
   "source": [
    "# Visualize the topics\n",
    "pyLDAvis.enable_notebook()\n",
    "vis = pyLDAvis.gensim.prepare(lda_model, corpus, id2word)\n",
    "vis"
   ]
  },
  {
   "cell_type": "code",
   "execution_count": 62,
   "metadata": {},
   "outputs": [
    {
     "name": "stderr",
     "output_type": "stream",
     "text": [
      "C:\\Users\\AxelS\\miniconda3\\lib\\site-packages\\ipykernel\\ipkernel.py:287: DeprecationWarning: `should_run_async` will not call `transform_cell` automatically in the future. Please pass the result to `transformed_cell` argument and any exception that happen during thetransform in `preprocessing_exc_tuple` in IPython 7.17 and above.\n",
      "  and should_run_async(code)\n"
     ]
    },
    {
     "ename": "SyntaxError",
     "evalue": "non-default argument follows default argument (<ipython-input-62-d09f2486f2aa>, line 1)",
     "output_type": "error",
     "traceback": [
      "\u001b[1;36m  File \u001b[1;32m\"<ipython-input-62-d09f2486f2aa>\"\u001b[1;36m, line \u001b[1;32m1\u001b[0m\n\u001b[1;33m    def format_topics_sentences(ldamodel=lda_model, corpus=corpus, text):\u001b[0m\n\u001b[1;37m                                ^\u001b[0m\n\u001b[1;31mSyntaxError\u001b[0m\u001b[1;31m:\u001b[0m non-default argument follows default argument\n"
     ]
    }
   ],
   "source": [
    "def format_topics_sentences(ldamodel=lda_model, corpus=corpus, text):\n",
    "    # Init output\n",
    "    sent_topics_df = pd.DataFrame()\n",
    "\n",
    "    # Get main topic in each document\n",
    "    for i, row in enumerate(ldamodel[corpus]):\n",
    "        row = sorted(row, key=lambda x: (x[1]), reverse=True)\n",
    "        # Get the Dominant topic, Perc Contribution and Keywords for each document\n",
    "        for j, (topic_num, prop_topic) in enumerate(row):\n",
    "            if j == 0:  # => dominant topic\n",
    "                wp = ldamodel.show_topic(topic_num)\n",
    "                topic_keywords = \", \".join([word for word, prop in wp])\n",
    "                sent_topics_df = sent_topics_df.append(pd.Series([int(topic_num), round(prop_topic,4), topic_keywords]), ignore_index=True)\n",
    "            else:\n",
    "                break\n",
    "    sent_topics_df.columns = ['Dominant_Topic', 'Perc_Contribution', 'Topic_Keywords']\n",
    "\n",
    "    # Add original text to the end of the output\n",
    "    contents = pd.Series(texts)\n",
    "    sent_topics_df = pd.concat([sent_topics_df, contents], axis=1)\n",
    "    return(sent_topics_df)"
   ]
  },
  {
   "cell_type": "code",
   "execution_count": 261,
   "metadata": {},
   "outputs": [
    {
     "name": "stdout",
     "output_type": "stream",
     "text": [
      "Testa StopWords funktionen: \n",
      "\n",
      "0    cannot return value from class that inherits m...\n",
      "1    \"nullreferenceexception: object reference not ...\n",
      "2    get parentnode and childnodes from xml with li...\n",
      "3    how can add a menuitem option context menu edi...\n",
      "Name: Title, dtype: object\n"
     ]
    },
    {
     "data": {
      "text/plain": [
       "(98705,)"
      ]
     },
     "execution_count": 261,
     "metadata": {},
     "output_type": "execute_result"
    }
   ],
   "source": [
    "# List of words that we want to remove from the dataset \n",
    "# We need a method to remove html tags like <p> that are right next to words without a space in between\n",
    "stopWords = ['code', 'gt', 'i', '<p>i', 'in', 'on', 'is', '<code>', 'gt', 'lt', 'pre', 'quot', 'nofollow', 'li', 'div']\n",
    "\n",
    "# Remove all the stopwords from the data\n",
    "df['Title'] = df['Title'].apply(lambda x: ' '.join(\n",
    "    [word for word in x.split() if word not in (stopWords)]))\n",
    "\n",
    "# Print to test the remove stopwords function\n",
    "print('Testa StopWords funktionen: \\n')\n",
    "print(df['Title'].head(4) + '\\n')\n",
    "df['Title'].shape"
   ]
  },
  {
   "cell_type": "code",
   "execution_count": null,
   "metadata": {},
   "outputs": [],
   "source": [
    "import re\n",
    "from wordcloud import WordCloud\n",
    "df['Body'] = df['Body'].map(lambda x: re.sub('[,\\.!?]', '', x))\n",
    "clean = re.compile('[<.*\\?>,\\.!?]')\n",
    "df['Body'] = df['Body'].map(lambda x: re.sub(clean, '', x))\n",
    "df['Body'] = df['Body'].str.replace(r'http\\S+', '')\n",
    "#sumstring = ','.join(list(df['Body'].values))\n",
    "#wordcloud = WordCloud()\n",
    "#wordcloud.generate(sumstring)\n",
    "#wordcloud.to_image()\n",
    "print(df['Body'].head(1))"
   ]
  },
  {
   "cell_type": "code",
   "execution_count": 262,
   "metadata": {},
   "outputs": [
    {
     "name": "stderr",
     "output_type": "stream",
     "text": [
      "C:\\Users\\AxelS\\miniconda3\\lib\\site-packages\\seaborn\\_decorators.py:36: FutureWarning: Pass the following variables as keyword args: x, y. From version 0.12, the only valid positional argument will be `data`, and passing other arguments without an explicit keyword will result in an error or misinterpretation.\n",
      "  warnings.warn(\n"
     ]
    },
    {
     "data": {
      "image/png": "[encoded data removed]",
      "text/plain": [
       "<Figure size 1080x667.491 with 1 Axes>"
      ]
     },
     "metadata": {
      "needs_background": "light"
     },
     "output_type": "display_data"
    }
   ],
   "source": [
    "from sklearn.feature_extraction.text import CountVectorizer\n",
    "import numpy as np\n",
    "\n",
    "import matplotlib.pyplot as plt\n",
    "import seaborn as sns\n",
    "sns.set_style('whitegrid')\n",
    "%matplotlib inline\n",
    "\n",
    "# Helper function\n",
    "def plot_10_most_common_words(count_data, count_vectorizer):\n",
    "    import matplotlib.pyplot as plt\n",
    "    words = count_vectorizer.get_feature_names()\n",
    "    total_counts = np.zeros(len(words))\n",
    "    for t in count_data:\n",
    "        total_counts+=t.toarray()[0]\n",
    "    \n",
    "    count_dict = (zip(words, total_counts))\n",
    "    count_dict = sorted(count_dict, key=lambda x:x[1], reverse=True)[0:10]\n",
    "    words = [w[0] for w in count_dict]\n",
    "    counts = [w[1] for w in count_dict]\n",
    "    x_pos = np.arange(len(words)) \n",
    "    \n",
    "    plt.figure(2, figsize=(15, 15/1.6180))\n",
    "    plt.subplot(title='10 most common words')\n",
    "    sns.set_context(\"notebook\", font_scale=1.25, rc={\"lines.linewidth\": 2.5})\n",
    "    sns.barplot(x_pos, counts, palette='husl')\n",
    "    plt.xticks(x_pos, words, rotation=90) \n",
    "    plt.xlabel('words')\n",
    "    plt.ylabel('counts')\n",
    "    plt.show()\n",
    "\n",
    "# Initialise the count vectorizer with the English stop words\n",
    "count_vectorizer = CountVectorizer(stop_words='english')\n",
    "\n",
    "# Fit and transform the processed titles\n",
    "count_data = count_vectorizer.fit_transform(df['Title'])\n",
    "\n",
    "# Visualise the 10 most common words\n",
    "plot_10_most_common_words(count_data, count_vectorizer)"
   ]
  },
  {
   "cell_type": "code",
   "execution_count": 263,
   "metadata": {},
   "outputs": [
    {
     "name": "stdout",
     "output_type": "stream",
     "text": [
      "Topics found via LDA:\n",
      "\n",
      "Topic #0:\n",
      "way need mongodb using best correct action instance information url\n",
      "\n",
      "Topic #1:\n",
      "net core asp mvc api web async authentication identity using\n",
      "\n",
      "Topic #2:\n",
      "set xml blazor element process using child memory parent component\n",
      "\n",
      "Topic #3:\n",
      "file load excel wpf using open assembly path save window\n",
      "\n",
      "Topic #4:\n",
      "task using control form text user pdf size graph microsoft\n",
      "\n",
      "Topic #5:\n",
      "error exception test google api type unit microsoft getting using\n",
      "\n",
      "Topic #6:\n",
      "xamarin forms image event android command uwp script button line\n",
      "\n",
      "Topic #7:\n",
      "unity app windows time service connection thread running console start\n",
      "\n",
      "Topic #8:\n",
      "linq visual studio query expression does 2019 select lambda using\n",
      "\n",
      "Topic #9:\n",
      "azure server file files using function read local data directory\n",
      "\n",
      "Topic #10:\n",
      "string convert datetime format search value character using key characters\n",
      "\n",
      "Topic #11:\n",
      "data view wpf item loop binding razor items display listview\n",
      "\n",
      "Topic #12:\n",
      "list object json array objects parameter values using pass deserialize\n",
      "\n",
      "Topic #13:\n",
      "project page build dll nuget package vs solution errors using\n",
      "\n",
      "Topic #14:\n",
      "application web net api service console core dependency injection library\n",
      "\n",
      "Topic #15:\n",
      "column button row input datagridview value textbox number datagrid dynamically\n",
      "\n",
      "Topic #16:\n",
      "null value doesn model work returns validation controller ajax mvc\n",
      "\n",
      "Topic #17:\n",
      "request api send using response post data http httpclient email\n",
      "\n",
      "Topic #18:\n",
      "entity framework core database ef table data sql using key\n",
      "\n",
      "Topic #19:\n",
      "class type method generic property properties object variable use interface\n"
     ]
    }
   ],
   "source": [
    "import warnings\n",
    "warnings.simplefilter(\"ignore\", DeprecationWarning)\n",
    "\n",
    "# Load the LDA model from sk-learn\n",
    "from sklearn.decomposition import LatentDirichletAllocation as LDA\n",
    " \n",
    "# Helper function\n",
    "def print_topics(model, count_vectorizer, n_top_words):\n",
    "    words = count_vectorizer.get_feature_names()\n",
    "    for topic_idx, topic in enumerate(model.components_):\n",
    "        print(\"\\nTopic #%d:\" % topic_idx)\n",
    "        print(\" \".join([words[i]\n",
    "                        for i in topic.argsort()[:-n_top_words - 1:-1]]))\n",
    "        \n",
    "# Tweak the two parameters below (use int values below 15)\n",
    "number_topics = 20\n",
    "number_words = 10\n",
    "\n",
    "# Create and fit the LDA model\n",
    "lda = LDA(n_components=number_topics)\n",
    "lda.fit(count_data)\n",
    "\n",
    "# Print the topics found by the LDA model\n",
    "print(\"Topics found via LDA:\")\n",
    "print_topics(lda, count_vectorizer, number_words)"
   ]
  },
  {
   "cell_type": "code",
   "execution_count": 264,
   "metadata": {
    "scrolled": true
   },
   "outputs": [
    {
     "data": {
      "text/html": [
       "<div>\n",
       "<style scoped>\n",
       "    .dataframe tbody tr th:only-of-type {\n",
       "        vertical-align: middle;\n",
       "    }\n",
       "\n",
       "    .dataframe tbody tr th {\n",
       "        vertical-align: top;\n",
       "    }\n",
       "\n",
       "    .dataframe thead th {\n",
       "        text-align: right;\n",
       "    }\n",
       "</style>\n",
       "<table border=\"1\" class=\"dataframe\">\n",
       "  <thead>\n",
       "    <tr style=\"text-align: right;\">\n",
       "      <th></th>\n",
       "      <th>Topic 0 words</th>\n",
       "      <th>Topic 1 words</th>\n",
       "      <th>Topic 2 words</th>\n",
       "      <th>Topic 3 words</th>\n",
       "      <th>Topic 4 words</th>\n",
       "      <th>Topic 5 words</th>\n",
       "      <th>Topic 6 words</th>\n",
       "      <th>Topic 7 words</th>\n",
       "      <th>Topic 8 words</th>\n",
       "      <th>Topic 9 words</th>\n",
       "      <th>Topic 10 words</th>\n",
       "      <th>Topic 11 words</th>\n",
       "      <th>Topic 12 words</th>\n",
       "      <th>Topic 13 words</th>\n",
       "      <th>Topic 14 words</th>\n",
       "      <th>Topic 15 words</th>\n",
       "      <th>Topic 16 words</th>\n",
       "      <th>Topic 17 words</th>\n",
       "      <th>Topic 18 words</th>\n",
       "      <th>Topic 19 words</th>\n",
       "    </tr>\n",
       "  </thead>\n",
       "  <tbody>\n",
       "    <tr>\n",
       "      <th>0</th>\n",
       "      <td>way</td>\n",
       "      <td>net</td>\n",
       "      <td>set</td>\n",
       "      <td>file</td>\n",
       "      <td>task</td>\n",
       "      <td>error</td>\n",
       "      <td>xamarin</td>\n",
       "      <td>unity</td>\n",
       "      <td>linq</td>\n",
       "      <td>azure</td>\n",
       "      <td>string</td>\n",
       "      <td>data</td>\n",
       "      <td>list</td>\n",
       "      <td>project</td>\n",
       "      <td>application</td>\n",
       "      <td>column</td>\n",
       "      <td>null</td>\n",
       "      <td>request</td>\n",
       "      <td>entity</td>\n",
       "      <td>class</td>\n",
       "    </tr>\n",
       "    <tr>\n",
       "      <th>1</th>\n",
       "      <td>need</td>\n",
       "      <td>core</td>\n",
       "      <td>xml</td>\n",
       "      <td>load</td>\n",
       "      <td>using</td>\n",
       "      <td>exception</td>\n",
       "      <td>forms</td>\n",
       "      <td>app</td>\n",
       "      <td>visual</td>\n",
       "      <td>server</td>\n",
       "      <td>convert</td>\n",
       "      <td>view</td>\n",
       "      <td>object</td>\n",
       "      <td>page</td>\n",
       "      <td>web</td>\n",
       "      <td>button</td>\n",
       "      <td>value</td>\n",
       "      <td>api</td>\n",
       "      <td>framework</td>\n",
       "      <td>type</td>\n",
       "    </tr>\n",
       "    <tr>\n",
       "      <th>2</th>\n",
       "      <td>mongodb</td>\n",
       "      <td>asp</td>\n",
       "      <td>blazor</td>\n",
       "      <td>excel</td>\n",
       "      <td>control</td>\n",
       "      <td>test</td>\n",
       "      <td>image</td>\n",
       "      <td>windows</td>\n",
       "      <td>studio</td>\n",
       "      <td>file</td>\n",
       "      <td>datetime</td>\n",
       "      <td>wpf</td>\n",
       "      <td>json</td>\n",
       "      <td>build</td>\n",
       "      <td>net</td>\n",
       "      <td>row</td>\n",
       "      <td>doesn</td>\n",
       "      <td>send</td>\n",
       "      <td>core</td>\n",
       "      <td>method</td>\n",
       "    </tr>\n",
       "    <tr>\n",
       "      <th>3</th>\n",
       "      <td>using</td>\n",
       "      <td>mvc</td>\n",
       "      <td>element</td>\n",
       "      <td>wpf</td>\n",
       "      <td>form</td>\n",
       "      <td>google</td>\n",
       "      <td>event</td>\n",
       "      <td>time</td>\n",
       "      <td>query</td>\n",
       "      <td>files</td>\n",
       "      <td>format</td>\n",
       "      <td>item</td>\n",
       "      <td>array</td>\n",
       "      <td>dll</td>\n",
       "      <td>api</td>\n",
       "      <td>input</td>\n",
       "      <td>model</td>\n",
       "      <td>using</td>\n",
       "      <td>database</td>\n",
       "      <td>generic</td>\n",
       "    </tr>\n",
       "    <tr>\n",
       "      <th>4</th>\n",
       "      <td>best</td>\n",
       "      <td>api</td>\n",
       "      <td>process</td>\n",
       "      <td>using</td>\n",
       "      <td>text</td>\n",
       "      <td>api</td>\n",
       "      <td>android</td>\n",
       "      <td>service</td>\n",
       "      <td>expression</td>\n",
       "      <td>using</td>\n",
       "      <td>search</td>\n",
       "      <td>loop</td>\n",
       "      <td>objects</td>\n",
       "      <td>nuget</td>\n",
       "      <td>service</td>\n",
       "      <td>datagridview</td>\n",
       "      <td>work</td>\n",
       "      <td>response</td>\n",
       "      <td>ef</td>\n",
       "      <td>property</td>\n",
       "    </tr>\n",
       "    <tr>\n",
       "      <th>5</th>\n",
       "      <td>correct</td>\n",
       "      <td>web</td>\n",
       "      <td>using</td>\n",
       "      <td>open</td>\n",
       "      <td>user</td>\n",
       "      <td>type</td>\n",
       "      <td>command</td>\n",
       "      <td>connection</td>\n",
       "      <td>does</td>\n",
       "      <td>function</td>\n",
       "      <td>value</td>\n",
       "      <td>binding</td>\n",
       "      <td>parameter</td>\n",
       "      <td>package</td>\n",
       "      <td>console</td>\n",
       "      <td>value</td>\n",
       "      <td>returns</td>\n",
       "      <td>post</td>\n",
       "      <td>table</td>\n",
       "      <td>properties</td>\n",
       "    </tr>\n",
       "    <tr>\n",
       "      <th>6</th>\n",
       "      <td>action</td>\n",
       "      <td>async</td>\n",
       "      <td>child</td>\n",
       "      <td>assembly</td>\n",
       "      <td>pdf</td>\n",
       "      <td>unit</td>\n",
       "      <td>uwp</td>\n",
       "      <td>thread</td>\n",
       "      <td>2019</td>\n",
       "      <td>read</td>\n",
       "      <td>character</td>\n",
       "      <td>razor</td>\n",
       "      <td>values</td>\n",
       "      <td>vs</td>\n",
       "      <td>core</td>\n",
       "      <td>textbox</td>\n",
       "      <td>validation</td>\n",
       "      <td>data</td>\n",
       "      <td>data</td>\n",
       "      <td>object</td>\n",
       "    </tr>\n",
       "    <tr>\n",
       "      <th>7</th>\n",
       "      <td>instance</td>\n",
       "      <td>authentication</td>\n",
       "      <td>memory</td>\n",
       "      <td>path</td>\n",
       "      <td>size</td>\n",
       "      <td>microsoft</td>\n",
       "      <td>script</td>\n",
       "      <td>running</td>\n",
       "      <td>select</td>\n",
       "      <td>local</td>\n",
       "      <td>using</td>\n",
       "      <td>items</td>\n",
       "      <td>using</td>\n",
       "      <td>solution</td>\n",
       "      <td>dependency</td>\n",
       "      <td>number</td>\n",
       "      <td>controller</td>\n",
       "      <td>http</td>\n",
       "      <td>sql</td>\n",
       "      <td>variable</td>\n",
       "    </tr>\n",
       "    <tr>\n",
       "      <th>8</th>\n",
       "      <td>information</td>\n",
       "      <td>identity</td>\n",
       "      <td>parent</td>\n",
       "      <td>save</td>\n",
       "      <td>graph</td>\n",
       "      <td>getting</td>\n",
       "      <td>button</td>\n",
       "      <td>console</td>\n",
       "      <td>lambda</td>\n",
       "      <td>data</td>\n",
       "      <td>key</td>\n",
       "      <td>display</td>\n",
       "      <td>pass</td>\n",
       "      <td>errors</td>\n",
       "      <td>injection</td>\n",
       "      <td>datagrid</td>\n",
       "      <td>ajax</td>\n",
       "      <td>httpclient</td>\n",
       "      <td>using</td>\n",
       "      <td>use</td>\n",
       "    </tr>\n",
       "    <tr>\n",
       "      <th>9</th>\n",
       "      <td>url</td>\n",
       "      <td>using</td>\n",
       "      <td>component</td>\n",
       "      <td>window</td>\n",
       "      <td>microsoft</td>\n",
       "      <td>using</td>\n",
       "      <td>line</td>\n",
       "      <td>start</td>\n",
       "      <td>using</td>\n",
       "      <td>directory</td>\n",
       "      <td>characters</td>\n",
       "      <td>listview</td>\n",
       "      <td>deserialize</td>\n",
       "      <td>using</td>\n",
       "      <td>library</td>\n",
       "      <td>dynamically</td>\n",
       "      <td>mvc</td>\n",
       "      <td>email</td>\n",
       "      <td>key</td>\n",
       "      <td>interface</td>\n",
       "    </tr>\n",
       "  </tbody>\n",
       "</table>\n",
       "</div>"
      ],
      "text/plain": [
       "  Topic 0 words   Topic 1 words Topic 2 words Topic 3 words Topic 4 words  \\\n",
       "0           way             net           set          file          task   \n",
       "1          need            core           xml          load         using   \n",
       "2       mongodb             asp        blazor         excel       control   \n",
       "3         using             mvc       element           wpf          form   \n",
       "4          best             api       process         using          text   \n",
       "5       correct             web         using          open          user   \n",
       "6        action           async         child      assembly           pdf   \n",
       "7      instance  authentication        memory          path          size   \n",
       "8   information        identity        parent          save         graph   \n",
       "9           url           using     component        window     microsoft   \n",
       "\n",
       "  Topic 5 words Topic 6 words Topic 7 words Topic 8 words Topic 9 words  \\\n",
       "0         error       xamarin         unity          linq         azure   \n",
       "1     exception         forms           app        visual        server   \n",
       "2          test         image       windows        studio          file   \n",
       "3        google         event          time         query         files   \n",
       "4           api       android       service    expression         using   \n",
       "5          type       command    connection          does      function   \n",
       "6          unit           uwp        thread          2019          read   \n",
       "7     microsoft        script       running        select         local   \n",
       "8       getting        button       console        lambda          data   \n",
       "9         using          line         start         using     directory   \n",
       "\n",
       "  Topic 10 words Topic 11 words Topic 12 words Topic 13 words Topic 14 words  \\\n",
       "0         string           data           list        project    application   \n",
       "1        convert           view         object           page            web   \n",
       "2       datetime            wpf           json          build            net   \n",
       "3         format           item          array            dll            api   \n",
       "4         search           loop        objects          nuget        service   \n",
       "5          value        binding      parameter        package        console   \n",
       "6      character          razor         values             vs           core   \n",
       "7          using          items          using       solution     dependency   \n",
       "8            key        display           pass         errors      injection   \n",
       "9     characters       listview    deserialize          using        library   \n",
       "\n",
       "  Topic 15 words Topic 16 words Topic 17 words Topic 18 words Topic 19 words  \n",
       "0         column           null        request         entity          class  \n",
       "1         button          value            api      framework           type  \n",
       "2            row          doesn           send           core         method  \n",
       "3          input          model          using       database        generic  \n",
       "4   datagridview           work       response             ef       property  \n",
       "5          value        returns           post          table     properties  \n",
       "6        textbox     validation           data           data         object  \n",
       "7         number     controller           http            sql       variable  \n",
       "8       datagrid           ajax     httpclient          using            use  \n",
       "9    dynamically            mvc          email            key      interface  "
      ]
     },
     "execution_count": 264,
     "metadata": {},
     "output_type": "execute_result"
    }
   ],
   "source": [
    "def display_topics(model, feature_names, no_top_words):\n",
    "    topic_dict = {}\n",
    "    for topic_idx, topic in enumerate(model.components_):\n",
    "        topic_dict[\"Topic %d words\" % (topic_idx)]= ['{}'.format(feature_names[i])\n",
    "                        for i in topic.argsort()[:-no_top_words - 1:-1]]\n",
    "    return pd.DataFrame(topic_dict)\n",
    "\n",
    "topicdf = display_topics(lda, count_vectorizer.get_feature_names(), 10)\n",
    "topicdf"
   ]
  },
  {
   "cell_type": "code",
   "execution_count": 268,
   "metadata": {},
   "outputs": [
    {
     "ename": "NameError",
     "evalue": "name 'optimal_model' is not defined",
     "output_type": "error",
     "traceback": [
      "\u001b[1;31m---------------------------------------------------------------------------\u001b[0m",
      "\u001b[1;31mNameError\u001b[0m                                 Traceback (most recent call last)",
      "\u001b[1;32m<ipython-input-268-b1cb11e3e481>\u001b[0m in \u001b[0;36m<module>\u001b[1;34m\u001b[0m\n\u001b[0;32m     22\u001b[0m \u001b[1;33m\u001b[0m\u001b[0m\n\u001b[0;32m     23\u001b[0m \u001b[1;33m\u001b[0m\u001b[0m\n\u001b[1;32m---> 24\u001b[1;33m \u001b[0mdf_topic_sents_keywords\u001b[0m \u001b[1;33m=\u001b[0m \u001b[0mformat_topics_sentences\u001b[0m\u001b[1;33m(\u001b[0m\u001b[0mldamodel\u001b[0m\u001b[1;33m=\u001b[0m\u001b[0moptimal_model\u001b[0m\u001b[1;33m,\u001b[0m \u001b[0mcorpus\u001b[0m\u001b[1;33m=\u001b[0m\u001b[0mcorpus\u001b[0m\u001b[1;33m,\u001b[0m \u001b[0mtexts\u001b[0m\u001b[1;33m=\u001b[0m\u001b[0mdata\u001b[0m\u001b[1;33m)\u001b[0m\u001b[1;33m\u001b[0m\u001b[1;33m\u001b[0m\u001b[0m\n\u001b[0m\u001b[0;32m     25\u001b[0m \u001b[1;33m\u001b[0m\u001b[0m\n\u001b[0;32m     26\u001b[0m \u001b[1;31m# Format\u001b[0m\u001b[1;33m\u001b[0m\u001b[1;33m\u001b[0m\u001b[1;33m\u001b[0m\u001b[0m\n",
      "\u001b[1;31mNameError\u001b[0m: name 'optimal_model' is not defined"
     ]
    }
   ],
   "source": [
    "def format_topics_sentences (ldamodel=lda, corpus=df, texts=df['Title']):\n",
    "    # Init output\n",
    "    sent_topics_df = pd.DataFrame()\n",
    "\n",
    "    # Get main topic in each document\n",
    "    for i, row in enumerate(ldamodel[corpus]):\n",
    "        row = sorted(row, key=lambda x: (x[1]), reverse=True)\n",
    "        # Get the Dominant topic, Perc Contribution and Keywords for each document\n",
    "        for j, (topic_num, prop_topic) in enumerate(row):\n",
    "            if j == 0:  # => dominant topic\n",
    "                wp = ldamodel.show_topic(topic_num)\n",
    "                topic_keywords = \", \".join([word for word, prop in wp])\n",
    "                sent_topics_df = sent_topics_df.append(pd.Series([int(topic_num), round(prop_topic,4), topic_keywords]), ignore_index=True)\n",
    "            else:\n",
    "                break\n",
    "    sent_topics_df.columns = ['Dominant_Topic', 'Perc_Contribution', 'Topic_Keywords']\n",
    "\n",
    "    # Add original text to the end of the output\n",
    "    contents = pd.Series(texts)\n",
    "    sent_topics_df = pd.concat([sent_topics_df, contents], axis=1)\n",
    "    return(sent_topics_df)\n",
    "\n",
    "\n",
    "df_topic_sents_keywords = format_topics_sentences(ldamodel=optimal_model, corpus=corpus, texts=data)\n",
    "\n",
    "# Format\n",
    "df_dominant_topic = df_topic_sents_keywords.reset_index()\n",
    "df_dominant_topic.columns = ['Document_No', 'Dominant_Topic', 'Topic_Perc_Contrib', 'Keywords', 'Text']\n",
    "\n",
    "# Show\n",
    "df_dominant_topic.head(10)"
   ]
  },
  {
   "cell_type": "code",
   "execution_count": null,
   "metadata": {},
   "outputs": [],
   "source": []
  },
  {
   "cell_type": "code",
   "execution_count": null,
   "metadata": {},
   "outputs": [],
   "source": [
    "df['Topic'].head(100)"
   ]
  },
  {
   "cell_type": "code",
   "execution_count": null,
   "metadata": {},
   "outputs": [],
   "source": []
  },
  {
   "cell_type": "code",
   "execution_count": null,
   "metadata": {},
   "outputs": [],
   "source": [
    "df"
   ]
  },
  {
   "cell_type": "code",
   "execution_count": 14,
   "metadata": {},
   "outputs": [],
   "source": [
    "whiteList = pd.read_csv(\n",
    "    './customTopics.csv',\n",
    "    encoding='utf-8')\n",
    "mydic = {}\n",
    "whiteList['C# documentation'] = whiteList['C# documentation'].str.lower()\n",
    "for topic in whiteList['C# documentation']:\n",
    "    mydic[topic] = df['Title'].str.contains(topic, regex=False).sum()"
   ]
  },
  {
   "cell_type": "code",
   "execution_count": null,
   "metadata": {},
   "outputs": [],
   "source": []
  },
  {
   "cell_type": "code",
   "execution_count": 15,
   "metadata": {},
   "outputs": [
    {
     "data": {
      "text/plain": [
       "{'readonly member': 4,\n",
       " 'default interface method': 5,\n",
       " 'pattern matching enhancement': 1,\n",
       " 'switch expression': 35,\n",
       " 'tuple pattern': 0,\n",
       " 'property pattern': 0,\n",
       " 'positional pattern': 1,\n",
       " 'using declaration': 1,\n",
       " 'disposable ref struct': 0,\n",
       " 'static local function': 2,\n",
       " 'nullable reference type': 46,\n",
       " 'asynchronous stream': 1,\n",
       " 'asynchronous disposable': 0,\n",
       " 'indice and range': 0,\n",
       " 'null-coalescing assignment': 2,\n",
       " 'unmanaged constructed': 0,\n",
       " 'interpolated verbatim string': 1,\n",
       " 'stackalloc nested expression': 0}"
      ]
     },
     "execution_count": 15,
     "metadata": {},
     "output_type": "execute_result"
    }
   ],
   "source": [
    "mydic"
   ]
  },
  {
   "cell_type": "code",
   "execution_count": 16,
   "metadata": {},
   "outputs": [
    {
     "data": {
      "text/plain": [
       "<AxesSubplot:>"
      ]
     },
     "execution_count": 16,
     "metadata": {},
     "output_type": "execute_result"
    },
    {
     "data": {
      "image/png": "[encoded data removed]",
      "text/plain": [
       "<Figure size 432x288 with 1 Axes>"
      ]
     },
     "metadata": {
      "needs_background": "light"
     },
     "output_type": "display_data"
    }
   ],
   "source": [
    "dataframe = pd.DataFrame.from_dict(mydic, orient = 'index', columns=['Count'])\n",
    "dataframe = dataframe.sort_values(by=['Count'], ascending = False)\n",
    "dataframe.head(30).plot.bar()"
   ]
  },
  {
   "cell_type": "markdown",
   "metadata": {},
   "source": [
    "## Data analysis\n",
    "\n",
    "*Document you choice and motivation for selected data mining method(s) here. Choose a data mining method(s) to use in Python code to perform an analysis of your chosen dataset. Describe why you chose the method(s) and what interesting things you have found from the analysis.*\n",
    "\n",
    "*Replace the contents of this cell with your own text.*"
   ]
  },
  {
   "cell_type": "code",
   "execution_count": null,
   "metadata": {},
   "outputs": [],
   "source": [
    "# Create a list of the top appearing words. The nrOfWords variable defines how many words the list should contain.\n",
    "nrOfWords = 10\n",
    "rslt = Counter(' '.join(df['Body']).split()).most_common(nrOfWords)\n",
    "\n",
    "# Print out the list created above.\n",
    "print('\\n')\n",
    "for word in rslt:\n",
    "    print('{} = {}'.format(word[1], word[0]))"
   ]
  },
  {
   "cell_type": "markdown",
   "metadata": {},
   "source": [
    "## Evaluation of results\n",
    "\n",
    "*Document an evaluation your analysis results and describe how potentially actionable they are.*\n",
    "\n",
    "*Replace the contents of this cell with your own text.*"
   ]
  },
  {
   "cell_type": "code",
   "execution_count": null,
   "metadata": {},
   "outputs": [],
   "source": [
    "# Add your own code"
   ]
  },
  {
   "cell_type": "markdown",
   "metadata": {},
   "source": [
    "## Schedule and description of project plan\n",
    "\n",
    "*Rough schedule for the project beyond the pilot study presented in 3-5. This does not have to be advanced, you can simply provide an estimate based upon reported schedules for similar projects in the literature.*\n",
    "\n",
    "*Replace the contents of this cell with your own text.*"
   ]
  },
  {
   "cell_type": "markdown",
   "metadata": {},
   "source": [
    "## Ethical aspects that need to be considered\n",
    "\n",
    "*Are there ethical aspects that need to be considered? Are there legal implications (e.g., personal data / GDPR)? Are there implications if the case organization is a business, public authority, or nonprofit entity?*\n",
    "\n",
    "*Replace the contents of this cell with your own text.*"
   ]
  },
  {
   "cell_type": "code",
   "execution_count": null,
   "metadata": {},
   "outputs": [],
   "source": []
  }
 ],
 "metadata": {
  "kernelspec": {
   "name": "python3",
   "display_name": "Python 3.9.0 64-bit",
   "metadata": {
    "interpreter": {
     "hash": "5d4d8b12ad94c66ce5966034f6814428cc36406de0ac35c09e29fd477c12d02c"
    }
   }
  },
  "language_info": {
   "codemirror_mode": {
    "name": "ipython",
    "version": 3
   },
   "file_extension": ".py",
   "mimetype": "text/x-python",
   "name": "python",
   "nbconvert_exporter": "python",
   "pygments_lexer": "ipython3",
   "version": "3.9.0-final"
  }
 },
 "nbformat": 4,
 "nbformat_minor": 4
}