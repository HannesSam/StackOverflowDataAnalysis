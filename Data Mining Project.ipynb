{
 "cells": [
  {
   "cell_type": "code",
   "execution_count": 1,
   "metadata": {},
   "outputs": [],
   "source": [
    "import pandas as pd\n",
    "from collections import Counter\n",
    "import nltk\n",
    "# Tar bort varningarna för ett fel som vi kan ignorera\n",
    "pd.options.mode.chained_assignment = None  # default='warn'"
   ]
  },
  {
   "cell_type": "markdown",
   "metadata": {},
   "source": [
    "# Your Data Mining Pilot Study and Plan"
   ]
  },
  {
   "cell_type": "markdown",
   "metadata": {},
   "source": [
    "## Background\n",
    "\n",
    "*Describe the organization and its operations, operational environment, analytical needs, etc.*\n",
    "\n",
    "*Replace the contents of this cell with your own text.*"
   ]
  },
  {
   "cell_type": "markdown",
   "metadata": {},
   "source": [
    "## Problem description\n",
    "\n",
    "*Describe the problem that the organization is facing and the research question it needs answered.*\n",
    "\n",
    "*Replace the contents of this cell with your own text.*"
   ]
  },
  {
   "cell_type": "markdown",
   "metadata": {},
   "source": [
    "## Data collection\n",
    "\n",
    "*Document your data collection process and the properties of the data here. Implement, using Python code, to load and preprocess your selected dataset.*\n",
    "\n",
    "*Replace the contents of this cell with your own text.*"
   ]
  },
  {
   "cell_type": "code",
   "execution_count": 2,
   "metadata": {},
   "outputs": [
    {
     "output_type": "stream",
     "name": "stdout",
     "text": [
      "Number of Rows and Columns:\n",
      "(117527, 23)\n",
      "\n",
      "Column names:\n",
      "Id\n",
      "PostTypeId\n",
      "AcceptedAnswerId\n",
      "ParentId\n",
      "CreationDate\n",
      "DeletionDate\n",
      "Score\n",
      "ViewCount\n",
      "Body\n",
      "OwnerUserId\n",
      "OwnerDisplayName\n",
      "LastEditorUserId\n",
      "LastEditorDisplayName\n",
      "LastEditDate\n",
      "LastActivityDate\n",
      "Title\n",
      "Tags\n",
      "AnswerCount\n",
      "CommentCount\n",
      "FavoriteCount\n",
      "ClosedDate\n",
      "CommunityOwnedDate\n",
      "ContentLicense\n",
      "\n",
      "Datum mellan vilka datan är tagen ifrån: 2019-09-22 00:02:14 & 2020-11-08 04:47:27\n",
      "\n",
      "Testa StopWords funktionen: \n",
      "\n",
      "0    use load / unload assembly to get all types th...\n",
      "1    cannot figure out what isnt being set for the ...\n",
      "2    need the following data</p> <p><a href=\"https:...\n",
      "3    <pre><code>using system; using system.collecti...\n",
      "Name: Body, dtype: object\n",
      "\n",
      "\n",
      "721941 = the\n",
      "643061 = =\n",
      "540045 = {\n",
      "473961 = }\n",
      "473621 = to\n",
      "306589 = a\n",
      "267119 = is\n",
      "240393 = in\n",
      "228562 = and\n",
      "215552 = public\n"
     ]
    }
   ],
   "source": [
    "# Läser in vår data från csv filen\n",
    "stackOverflow = pd.read_csv(\n",
    "    './Data.csv',\n",
    "    encoding='utf-8'\n",
    ")\n",
    "\n",
    "# Skriver ut storleken på vårt dataset\n",
    "print('Number of Rows and Columns:')\n",
    "print(stackOverflow.shape)\n",
    "\n",
    "# Printar ut namnen på att columns som finns i datasetet\n",
    "listOfColumnNames = stackOverflow.columns.values.tolist()\n",
    "print('\\nColumn names:')\n",
    "for name in listOfColumnNames:\n",
    "    print(name)\n",
    "\n",
    "# Ändra här för att ta med fler columns in i dataFramen\n",
    "df = stackOverflow[['AcceptedAnswerId', 'Title',\n",
    "                    'CreationDate', 'Body']]\n",
    "\n",
    "# Denna rad funkar inte men det som ska göras här är att om raden för AcceptedAnswerId inte är tom så ska raden bort då vi letar efter frågor utan\n",
    "# ett accepterat svar\n",
    "#df = df.loc[df['AcceptedAnswerId'] != '']\n",
    "\n",
    "# Printar ut från vilka datum som vår data kommer ifrån\n",
    "minValue = df['CreationDate'].min()\n",
    "maxValue = df['CreationDate'].max()\n",
    "print('\\nDatum mellan vilka datan är tagen ifrån: ' +\n",
    "      minValue + ' & ' + maxValue + '\\n')\n",
    "\n",
    "\n",
    "# Sätter värdena i title och body till lowercase\n",
    "df['Title'] = df['Title'].str.lower()\n",
    "df['Body'] = df['Body'].str.lower()\n",
    "\n",
    "\n",
    "# Denna funkar men vi måste göra den mer sofistikerad då meningarna ofta hänger ihop med html taggarna och därmed inte tas bort\n",
    "# Därför jag tex skrivit '<p>i' här nere för att visa att det funkar men detta måste kunna göras på ett bättre sätt.\n",
    "# Kanske börja med att köra igenom koden och lägga till ett space efter och innan varje html tagg?\n",
    "stopWords = ['code', 'gt', 'i', '<p>i']\n",
    "\n",
    "# Tar bort alla stopWords från Body\n",
    "df['Body'] = df['Body'].apply(lambda x: ' '.join(\n",
    "    [word for word in x.split() if word not in (stopWords)]))\n",
    "\n",
    "# Print för att testa stopWords funktionen\n",
    "print('Testa StopWords funktionen: \\n')\n",
    "print(df['Body'].head(4) + '\\n')\n",
    "\n",
    "# Denna skapar en lista över de vanligaste orden. Du ändrar hur många ord den ska ta med genom variabeln här under\n",
    "nrOfWords = 10\n",
    "rslt = Counter(' '.join(df['Body']).split()).most_common(nrOfWords)\n",
    "\n",
    "# Printar ut listan med de vanligaste orden\n",
    "print('\\n')\n",
    "for word in rslt:\n",
    "    print('{} = {}'.format(word[1], word[0]))\n"
   ]
  },
  {
   "cell_type": "markdown",
   "metadata": {},
   "source": [
    "## Data analysis\n",
    "\n",
    "*Document you choice and motivation for selected data mining method(s) here. Choose a data mining method(s) to use in Python code to perform an analysis of your chosen dataset. Describe why you chose the method(s) and what interesting things you have found from the analysis.*\n",
    "\n",
    "*Replace the contents of this cell with your own text.*"
   ]
  },
  {
   "cell_type": "code",
   "execution_count": null,
   "metadata": {},
   "outputs": [],
   "source": []
  },
  {
   "cell_type": "markdown",
   "metadata": {},
   "source": [
    "## Evaluation of results\n",
    "\n",
    "*Document an evaluation your analysis results and describe how potentially actionable they are.*\n",
    "\n",
    "*Replace the contents of this cell with your own text.*"
   ]
  },
  {
   "cell_type": "code",
   "execution_count": 3,
   "metadata": {},
   "outputs": [],
   "source": [
    "# Add your own code"
   ]
  },
  {
   "cell_type": "markdown",
   "metadata": {},
   "source": [
    "## Schedule and description of project plan\n",
    "\n",
    "*Rough schedule for the project beyond the pilot study presented in 3-5. This does not have to be advanced, you can simply provide an estimate based upon reported schedules for similar projects in the literature.*\n",
    "\n",
    "*Replace the contents of this cell with your own text.*"
   ]
  },
  {
   "cell_type": "markdown",
   "metadata": {},
   "source": [
    "## Ethical aspects that need to be considered\n",
    "\n",
    "*Are there ethical aspects that need to be considered? Are there legal implications (e.g., personal data / GDPR)? Are there implications if the case organization is a business, public authority, or nonprofit entity?*\n",
    "\n",
    "*Replace the contents of this cell with your own text.*"
   ]
  },
  {
   "cell_type": "code",
   "execution_count": null,
   "metadata": {},
   "outputs": [],
   "source": []
  }
 ],
 "metadata": {
  "kernelspec": {
   "name": "Python 3.9.0 64-bit",
   "display_name": "Python 3.9.0 64-bit",
   "metadata": {
    "interpreter": {
     "hash": "5d4d8b12ad94c66ce5966034f6814428cc36406de0ac35c09e29fd477c12d02c"
    }
   }
  },
  "language_info": {
   "codemirror_mode": {
    "name": "ipython",
    "version": 3
   },
   "file_extension": ".py",
   "mimetype": "text/x-python",
   "name": "python",
   "nbconvert_exporter": "python",
   "pygments_lexer": "ipython3",
   "version": "3.9.0-final"
  }
 },
 "nbformat": 4,
 "nbformat_minor": 4
}