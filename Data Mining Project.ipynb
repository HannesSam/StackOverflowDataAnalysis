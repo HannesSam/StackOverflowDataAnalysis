{
 "cells": [
  {
   "cell_type": "markdown",
   "metadata": {},
   "source": [
    "## Data collection\n",
    "\n",
    "*Document your data collection process and the properties of the data here. Implement, using Python code, to load and preprocess your selected dataset.*\n",
    "\n",
    "To acquire a large number of Stack Overflow questions regarding C# you can query the official Stack Overflow database with SQL queries at https://data.stackexchange.com/stackoverflow/queries. These queries can only return 50 000 results at a time so multiple queries have to be made to get all the questions from within a specific period of time. The time frame chosen in this report was 2019-09-22 to 2020-11-08. This period of time was chosen since this is the period of time that C# 8 was the current release of C# and the assumption here was that the documentation regarding new features could be the most lacking.\n",
    "\n",
    "The query used is as follows: <br>\n",
    "```\n",
    "SELECT * FROM posts WHERE Tags LIKE '%c#%' AND posts.CreationDate < 'Insert start data here' AND posts.CreationDate > 'Insert end date here'\n",
    "ORDER BY posts.CreationDate desc\n",
    "```\n",
    "\n",
    "Since this operation has to be done in multiple queries the date input will vary but in the end, you will end up with a number of .CSV files containing the data. In our case, we ended up with three files containing 117 527 questions. These files were then combined into one which is the Data.csv file that you can see in the following steps."
   ]
  },
  {
   "cell_type": "markdown",
   "metadata": {},
   "source": [
    "### Read the data from the file and output some values to make sure the data read is correct. "
   ]
  },
  {
   "cell_type": "code",
   "execution_count": 147,
   "metadata": {},
   "outputs": [],
   "source": [
    "# Importing the necessary libraries\n",
    "import pandas as pd\n",
    "from collections import Counter\n",
    "import textmining as tm\n",
    "import operator\n",
    "import os\n",
    "import nltk\n",
    "import matplotlib\n",
    "from sklearn.feature_extraction.text import CountVectorizer\n",
    "import numpy as np\n",
    "import pyLDAvis\n",
    "import pyLDAvis.gensim\n",
    "import matplotlib.pyplot as plt\n",
    "import seaborn as sns\n",
    "import gensim\n",
    "import gensim.corpora as corpora\n",
    "from gensim.utils import simple_preprocess\n",
    "from gensim.models import CoherenceModel\n",
    "import warnings\n",
    "warnings.simplefilter(\"ignore\", DeprecationWarning)\n",
    "# Load the LDA model from sk-learn\n",
    "from sklearn.decomposition import LatentDirichletAllocation as LDA\n",
    "# Ignore warnings for a specific error that we can ignore in this application\n",
    "pd.options.mode.chained_assignment = None  # default='warn'"
   ]
  },
  {
   "cell_type": "code",
   "execution_count": 148,
   "metadata": {},
   "outputs": [],
   "source": [
    "# Read our data from the data.csv file\n",
    "stackOverflowData = pd.read_csv(\n",
    "    './Data.csv',\n",
    "    encoding='utf-8'\n",
    ")"
   ]
  },
  {
   "cell_type": "code",
   "execution_count": 149,
   "metadata": {},
   "outputs": [
    {
     "name": "stdout",
     "output_type": "stream",
     "text": [
      "Number of Rows and Columns:\n",
      "(117527, 23)\n"
     ]
    }
   ],
   "source": [
    "# Print the size of the dataset read\n",
    "print('Number of Rows and Columns:')\n",
    "print(stackOverflowData.shape)"
   ]
  },
  {
   "cell_type": "code",
   "execution_count": 150,
   "metadata": {},
   "outputs": [
    {
     "name": "stdout",
     "output_type": "stream",
     "text": [
      "Column names:\n",
      "Id\n",
      "PostTypeId\n",
      "AcceptedAnswerId\n",
      "ParentId\n",
      "CreationDate\n",
      "DeletionDate\n",
      "Score\n",
      "ViewCount\n",
      "Body\n",
      "OwnerUserId\n",
      "OwnerDisplayName\n",
      "LastEditorUserId\n",
      "LastEditorDisplayName\n",
      "LastEditDate\n",
      "LastActivityDate\n",
      "Title\n",
      "Tags\n",
      "AnswerCount\n",
      "CommentCount\n",
      "FavoriteCount\n",
      "ClosedDate\n",
      "CommunityOwnedDate\n",
      "ContentLicense\n"
     ]
    }
   ],
   "source": [
    "# Print the column names of the data\n",
    "listOfColumnNames = stackOverflowData.columns.values.tolist()\n",
    "print('Column names:')\n",
    "for name in listOfColumnNames:\n",
    "    print(name)"
   ]
  },
  {
   "cell_type": "code",
   "execution_count": 151,
   "metadata": {},
   "outputs": [
    {
     "name": "stdout",
     "output_type": "stream",
     "text": [
      "Dates from wich the data is produced: 2019-09-22 00:02:14 to 2020-11-08 04:47:27\n"
     ]
    }
   ],
   "source": [
    "# Print the dates from wich this data is produced\n",
    "minValue = stackOverflowData['CreationDate'].min()\n",
    "maxValue = stackOverflowData['CreationDate'].max()\n",
    "print('Dates from wich the data is produced: ' +\n",
    "      minValue + ' to ' + maxValue)"
   ]
  },
  {
   "cell_type": "code",
   "execution_count": 152,
   "metadata": {},
   "outputs": [
    {
     "data": {
      "text/plain": [
       "(98705, 23)"
      ]
     },
     "execution_count": 152,
     "metadata": {},
     "output_type": "execute_result"
    }
   ],
   "source": [
    "# Filter the posts that for some reason was closed and those posts that have a negative score.\n",
    "stackOverflowData = stackOverflowData[stackOverflowData['ClosedDate'].isnull()]\n",
    "stackOverflowData = stackOverflowData[stackOverflowData['Score']>=0]\n",
    "stackOverflowData.shape"
   ]
  },
  {
   "cell_type": "markdown",
   "metadata": {},
   "source": [
    "### The next step is to read the data into a Data Frame and prepare the data for the analysis phase"
   ]
  },
  {
   "cell_type": "code",
   "execution_count": 153,
   "metadata": {},
   "outputs": [],
   "source": [
    "# Creating a Data Frame with only the necessary columns\n",
    "df = stackOverflowData[['Title',\n",
    "                    'CreationDate', 'Body', 'Score']]"
   ]
  },
  {
   "cell_type": "code",
   "execution_count": 154,
   "metadata": {},
   "outputs": [],
   "source": [
    "# This is not implemented yet but here we will remove all rows witch have an accepted answer\n",
    "#df = df.loc[df['AcceptedAnswerId'] != '']"
   ]
  },
  {
   "cell_type": "code",
   "execution_count": 155,
   "metadata": {},
   "outputs": [],
   "source": [
    "# Setting the neccessary data to lowercase \n",
    "df['Body'] = df['Body'].str.lower()\n",
    "df['Title'] = df['Title'].str.lower()"
   ]
  },
  {
   "cell_type": "code",
   "execution_count": 156,
   "metadata": {},
   "outputs": [],
   "source": [
    "# Creating the stopwords and removing them from the strings in the dataframe.\n",
    "stop_words = ['the', 'on', 'are', 'is', 'but' 'and', 'in', 'to', 'how', 'for', 'and', 'with', 'can', 'user', 'my', 'it', 'into', 'cannot', 'getting', 'no', 'an', 'a', 'do', 'but', 'one', 'very', 'by', 'from', 'get', 'can', 'of', 'not', 'using', 'does', 'why', 'as', 'use', 'or', 'one', 'two', 'this', 'be', 'make', 'at', 'up', 'being', 'after', 'when', 'through', 'any', 'first', 'open', 'what', 'same', 'trying', 'what', 'than', 'another', 'way', 'check', 'there', 'without', 'other', 'which']\n",
    "df['Title'] = df['Title'].apply(lambda x: ' '.join(\n",
    "    [word for word in x.split() if word not in (stop_words)]))\n",
    "df['Body'] = df['Body'].apply(lambda x: ' '.join(\n",
    "    [word for word in x.split() if word not in (stop_words)]))"
   ]
  },
  {
   "cell_type": "code",
   "execution_count": 157,
   "metadata": {},
   "outputs": [],
   "source": [
    "# Tokenize the words in Title and create a list datalist containing all the Titles.\n",
    "title_list = df.Title.values.tolist()\n",
    "\n",
    "def sent_to_words(sentences):\n",
    "    for sentence in sentences:\n",
    "        yield(gensim.utils.simple_preprocess(str(sentence), deacc=True))  # deacc=True removes punctuations\n",
    "\n",
    "title_words = list(sent_to_words(title_list))"
   ]
  },
  {
   "cell_type": "code",
   "execution_count": 158,
   "metadata": {},
   "outputs": [],
   "source": [
    "#creat dict\n",
    "# Create Dictionary\n",
    "title_dictionary = corpora.Dictionary(title_words)\n",
    "\n",
    "# Create Corpus\n",
    "texts = title_words\n",
    "\n",
    "# Term Document Frequency\n",
    "corpus = [title_dictionary.doc2bow(text) for text in texts]"
   ]
  },
  {
   "cell_type": "code",
   "execution_count": 159,
   "metadata": {},
   "outputs": [
    {
     "name": "stdout",
     "output_type": "stream",
     "text": [
      "Topics found via LDA:\n",
      "\n",
      "Topic #0:\n",
      "client process connection thread server memory connect running powershell async\n",
      "\n",
      "Topic #1:\n",
      "value parameter excel expression property set field type return mongodb\n",
      "\n",
      "Topic #2:\n",
      "wpf string text event change textbox datagrid line listview binding\n",
      "\n",
      "Topic #3:\n",
      "list object json array string different values objects class convert\n",
      "\n",
      "Topic #4:\n",
      "variable dll output command pattern listbox outlook access item code\n",
      "\n",
      "Topic #5:\n",
      "file xml read files write instance folder upload path save\n",
      "\n",
      "Topic #6:\n",
      "access token class classes base functions db jwt active directory\n",
      "\n",
      "Topic #7:\n",
      "xamarin forms microsoft android windows app graph byte uwp ios\n",
      "\n",
      "Topic #8:\n",
      "api request null post google service method error missing returns\n",
      "\n",
      "Topic #9:\n",
      "method type function class generic number methods custom parameters static\n",
      "\n",
      "Topic #10:\n",
      "error exception message task async response code report throws http\n",
      "\n",
      "Topic #11:\n",
      "page test selenium unit document word pdf testing method tests\n",
      "\n",
      "Topic #12:\n",
      "linq query sql table column data select database row server\n",
      "\n",
      "Topic #13:\n",
      "application azure app server web service console blazor windows authentication\n",
      "\n",
      "Topic #14:\n",
      "data view load form model assembly controller mvc version error\n",
      "\n",
      "Topic #15:\n",
      "button display control window wpf click form ui image bot\n",
      "\n",
      "Topic #16:\n",
      "unity visual studio script 2019 code game position 2d object\n",
      "\n",
      "Topic #17:\n",
      "framework entity core ef database key child update datetime table\n",
      "\n",
      "Topic #18:\n",
      "net core asp mvc api web razor controller login identity\n",
      "\n",
      "Topic #19:\n",
      "project library action build dependency nuget package injection net class\n"
     ]
    }
   ],
   "source": [
    "# Helper function\n",
    "def print_topics(model, count_vectorizer, n_top_words):\n",
    "    words = count_vectorizer.get_feature_names()\n",
    "    for topic_idx, topic in enumerate(model.components_):\n",
    "        print(\"\\nTopic #%d:\" % topic_idx)\n",
    "        print(\" \".join([words[i]\n",
    "                        for i in topic.argsort()[:-n_top_words - 1:-1]]))\n",
    "        \n",
    "\n",
    "# Initialise the count vectorizer with the English stop words\n",
    "count_vectorizer = CountVectorizer(stop_words='english')\n",
    "\n",
    "# Fit and transform the processed titles\n",
    "count_data = count_vectorizer.fit_transform(df['Title'])\n",
    "\n",
    "# Create and fit the LDA model\n",
    "lda = LDA(n_components= 20 )\n",
    "lda.fit(count_data)\n",
    "\n",
    "# Print the topics found by the LDA model\n",
    "print(\"Topics found via LDA:\")\n",
    "print_topics(lda, count_vectorizer, 10)"
   ]
  },
  {
   "cell_type": "code",
   "execution_count": 160,
   "metadata": {
    "scrolled": true
   },
   "outputs": [
    {
     "data": {
      "text/html": [
       "<div>\n",
       "<style scoped>\n",
       "    .dataframe tbody tr th:only-of-type {\n",
       "        vertical-align: middle;\n",
       "    }\n",
       "\n",
       "    .dataframe tbody tr th {\n",
       "        vertical-align: top;\n",
       "    }\n",
       "\n",
       "    .dataframe thead th {\n",
       "        text-align: right;\n",
       "    }\n",
       "</style>\n",
       "<table border=\"1\" class=\"dataframe\">\n",
       "  <thead>\n",
       "    <tr style=\"text-align: right;\">\n",
       "      <th></th>\n",
       "      <th>Topic 0 words</th>\n",
       "      <th>Topic 1 words</th>\n",
       "      <th>Topic 2 words</th>\n",
       "      <th>Topic 3 words</th>\n",
       "      <th>Topic 4 words</th>\n",
       "      <th>Topic 5 words</th>\n",
       "      <th>Topic 6 words</th>\n",
       "      <th>Topic 7 words</th>\n",
       "      <th>Topic 8 words</th>\n",
       "      <th>Topic 9 words</th>\n",
       "      <th>Topic 10 words</th>\n",
       "      <th>Topic 11 words</th>\n",
       "      <th>Topic 12 words</th>\n",
       "      <th>Topic 13 words</th>\n",
       "      <th>Topic 14 words</th>\n",
       "      <th>Topic 15 words</th>\n",
       "      <th>Topic 16 words</th>\n",
       "      <th>Topic 17 words</th>\n",
       "      <th>Topic 18 words</th>\n",
       "      <th>Topic 19 words</th>\n",
       "    </tr>\n",
       "  </thead>\n",
       "  <tbody>\n",
       "    <tr>\n",
       "      <th>0</th>\n",
       "      <td>client</td>\n",
       "      <td>value</td>\n",
       "      <td>wpf</td>\n",
       "      <td>list</td>\n",
       "      <td>variable</td>\n",
       "      <td>file</td>\n",
       "      <td>access</td>\n",
       "      <td>xamarin</td>\n",
       "      <td>api</td>\n",
       "      <td>method</td>\n",
       "      <td>error</td>\n",
       "      <td>page</td>\n",
       "      <td>linq</td>\n",
       "      <td>application</td>\n",
       "      <td>data</td>\n",
       "      <td>button</td>\n",
       "      <td>unity</td>\n",
       "      <td>framework</td>\n",
       "      <td>net</td>\n",
       "      <td>project</td>\n",
       "    </tr>\n",
       "    <tr>\n",
       "      <th>1</th>\n",
       "      <td>process</td>\n",
       "      <td>parameter</td>\n",
       "      <td>string</td>\n",
       "      <td>object</td>\n",
       "      <td>dll</td>\n",
       "      <td>xml</td>\n",
       "      <td>token</td>\n",
       "      <td>forms</td>\n",
       "      <td>request</td>\n",
       "      <td>type</td>\n",
       "      <td>exception</td>\n",
       "      <td>test</td>\n",
       "      <td>query</td>\n",
       "      <td>azure</td>\n",
       "      <td>view</td>\n",
       "      <td>display</td>\n",
       "      <td>visual</td>\n",
       "      <td>entity</td>\n",
       "      <td>core</td>\n",
       "      <td>library</td>\n",
       "    </tr>\n",
       "    <tr>\n",
       "      <th>2</th>\n",
       "      <td>connection</td>\n",
       "      <td>excel</td>\n",
       "      <td>text</td>\n",
       "      <td>json</td>\n",
       "      <td>output</td>\n",
       "      <td>read</td>\n",
       "      <td>class</td>\n",
       "      <td>microsoft</td>\n",
       "      <td>null</td>\n",
       "      <td>function</td>\n",
       "      <td>message</td>\n",
       "      <td>selenium</td>\n",
       "      <td>sql</td>\n",
       "      <td>app</td>\n",
       "      <td>load</td>\n",
       "      <td>control</td>\n",
       "      <td>studio</td>\n",
       "      <td>core</td>\n",
       "      <td>asp</td>\n",
       "      <td>action</td>\n",
       "    </tr>\n",
       "    <tr>\n",
       "      <th>3</th>\n",
       "      <td>thread</td>\n",
       "      <td>expression</td>\n",
       "      <td>event</td>\n",
       "      <td>array</td>\n",
       "      <td>command</td>\n",
       "      <td>files</td>\n",
       "      <td>classes</td>\n",
       "      <td>android</td>\n",
       "      <td>post</td>\n",
       "      <td>class</td>\n",
       "      <td>task</td>\n",
       "      <td>unit</td>\n",
       "      <td>table</td>\n",
       "      <td>server</td>\n",
       "      <td>form</td>\n",
       "      <td>window</td>\n",
       "      <td>script</td>\n",
       "      <td>ef</td>\n",
       "      <td>mvc</td>\n",
       "      <td>build</td>\n",
       "    </tr>\n",
       "    <tr>\n",
       "      <th>4</th>\n",
       "      <td>server</td>\n",
       "      <td>property</td>\n",
       "      <td>change</td>\n",
       "      <td>string</td>\n",
       "      <td>pattern</td>\n",
       "      <td>write</td>\n",
       "      <td>base</td>\n",
       "      <td>windows</td>\n",
       "      <td>google</td>\n",
       "      <td>generic</td>\n",
       "      <td>async</td>\n",
       "      <td>document</td>\n",
       "      <td>column</td>\n",
       "      <td>web</td>\n",
       "      <td>model</td>\n",
       "      <td>wpf</td>\n",
       "      <td>2019</td>\n",
       "      <td>database</td>\n",
       "      <td>api</td>\n",
       "      <td>dependency</td>\n",
       "    </tr>\n",
       "    <tr>\n",
       "      <th>5</th>\n",
       "      <td>memory</td>\n",
       "      <td>set</td>\n",
       "      <td>textbox</td>\n",
       "      <td>different</td>\n",
       "      <td>listbox</td>\n",
       "      <td>instance</td>\n",
       "      <td>functions</td>\n",
       "      <td>app</td>\n",
       "      <td>service</td>\n",
       "      <td>number</td>\n",
       "      <td>response</td>\n",
       "      <td>word</td>\n",
       "      <td>data</td>\n",
       "      <td>service</td>\n",
       "      <td>assembly</td>\n",
       "      <td>click</td>\n",
       "      <td>code</td>\n",
       "      <td>key</td>\n",
       "      <td>web</td>\n",
       "      <td>nuget</td>\n",
       "    </tr>\n",
       "    <tr>\n",
       "      <th>6</th>\n",
       "      <td>connect</td>\n",
       "      <td>field</td>\n",
       "      <td>datagrid</td>\n",
       "      <td>values</td>\n",
       "      <td>outlook</td>\n",
       "      <td>folder</td>\n",
       "      <td>db</td>\n",
       "      <td>graph</td>\n",
       "      <td>method</td>\n",
       "      <td>methods</td>\n",
       "      <td>code</td>\n",
       "      <td>pdf</td>\n",
       "      <td>select</td>\n",
       "      <td>console</td>\n",
       "      <td>controller</td>\n",
       "      <td>form</td>\n",
       "      <td>game</td>\n",
       "      <td>child</td>\n",
       "      <td>razor</td>\n",
       "      <td>package</td>\n",
       "    </tr>\n",
       "    <tr>\n",
       "      <th>7</th>\n",
       "      <td>running</td>\n",
       "      <td>type</td>\n",
       "      <td>line</td>\n",
       "      <td>objects</td>\n",
       "      <td>access</td>\n",
       "      <td>upload</td>\n",
       "      <td>jwt</td>\n",
       "      <td>byte</td>\n",
       "      <td>error</td>\n",
       "      <td>custom</td>\n",
       "      <td>report</td>\n",
       "      <td>testing</td>\n",
       "      <td>database</td>\n",
       "      <td>blazor</td>\n",
       "      <td>mvc</td>\n",
       "      <td>ui</td>\n",
       "      <td>position</td>\n",
       "      <td>update</td>\n",
       "      <td>controller</td>\n",
       "      <td>injection</td>\n",
       "    </tr>\n",
       "    <tr>\n",
       "      <th>8</th>\n",
       "      <td>powershell</td>\n",
       "      <td>return</td>\n",
       "      <td>listview</td>\n",
       "      <td>class</td>\n",
       "      <td>item</td>\n",
       "      <td>path</td>\n",
       "      <td>active</td>\n",
       "      <td>uwp</td>\n",
       "      <td>missing</td>\n",
       "      <td>parameters</td>\n",
       "      <td>throws</td>\n",
       "      <td>method</td>\n",
       "      <td>row</td>\n",
       "      <td>windows</td>\n",
       "      <td>version</td>\n",
       "      <td>image</td>\n",
       "      <td>2d</td>\n",
       "      <td>datetime</td>\n",
       "      <td>login</td>\n",
       "      <td>net</td>\n",
       "    </tr>\n",
       "    <tr>\n",
       "      <th>9</th>\n",
       "      <td>async</td>\n",
       "      <td>mongodb</td>\n",
       "      <td>binding</td>\n",
       "      <td>convert</td>\n",
       "      <td>code</td>\n",
       "      <td>save</td>\n",
       "      <td>directory</td>\n",
       "      <td>ios</td>\n",
       "      <td>returns</td>\n",
       "      <td>static</td>\n",
       "      <td>http</td>\n",
       "      <td>tests</td>\n",
       "      <td>server</td>\n",
       "      <td>authentication</td>\n",
       "      <td>error</td>\n",
       "      <td>bot</td>\n",
       "      <td>object</td>\n",
       "      <td>table</td>\n",
       "      <td>identity</td>\n",
       "      <td>class</td>\n",
       "    </tr>\n",
       "  </tbody>\n",
       "</table>\n",
       "</div>"
      ],
      "text/plain": [
       "  Topic 0 words Topic 1 words Topic 2 words Topic 3 words Topic 4 words  \\\n",
       "0        client         value           wpf          list      variable   \n",
       "1       process     parameter        string        object           dll   \n",
       "2    connection         excel          text          json        output   \n",
       "3        thread    expression         event         array       command   \n",
       "4        server      property        change        string       pattern   \n",
       "5        memory           set       textbox     different       listbox   \n",
       "6       connect         field      datagrid        values       outlook   \n",
       "7       running          type          line       objects        access   \n",
       "8    powershell        return      listview         class          item   \n",
       "9         async       mongodb       binding       convert          code   \n",
       "\n",
       "  Topic 5 words Topic 6 words Topic 7 words Topic 8 words Topic 9 words  \\\n",
       "0          file        access       xamarin           api        method   \n",
       "1           xml         token         forms       request          type   \n",
       "2          read         class     microsoft          null      function   \n",
       "3         files       classes       android          post         class   \n",
       "4         write          base       windows        google       generic   \n",
       "5      instance     functions           app       service        number   \n",
       "6        folder            db         graph        method       methods   \n",
       "7        upload           jwt          byte         error        custom   \n",
       "8          path        active           uwp       missing    parameters   \n",
       "9          save     directory           ios       returns        static   \n",
       "\n",
       "  Topic 10 words Topic 11 words Topic 12 words  Topic 13 words Topic 14 words  \\\n",
       "0          error           page           linq     application           data   \n",
       "1      exception           test          query           azure           view   \n",
       "2        message       selenium            sql             app           load   \n",
       "3           task           unit          table          server           form   \n",
       "4          async       document         column             web          model   \n",
       "5       response           word           data         service       assembly   \n",
       "6           code            pdf         select         console     controller   \n",
       "7         report        testing       database          blazor            mvc   \n",
       "8         throws         method            row         windows        version   \n",
       "9           http          tests         server  authentication          error   \n",
       "\n",
       "  Topic 15 words Topic 16 words Topic 17 words Topic 18 words Topic 19 words  \n",
       "0         button          unity      framework            net        project  \n",
       "1        display         visual         entity           core        library  \n",
       "2        control         studio           core            asp         action  \n",
       "3         window         script             ef            mvc          build  \n",
       "4            wpf           2019       database            api     dependency  \n",
       "5          click           code            key            web          nuget  \n",
       "6           form           game          child          razor        package  \n",
       "7             ui       position         update     controller      injection  \n",
       "8          image             2d       datetime          login            net  \n",
       "9            bot         object          table       identity          class  "
      ]
     },
     "execution_count": 160,
     "metadata": {},
     "output_type": "execute_result"
    }
   ],
   "source": [
    "def display_topics(model, feature_names, no_top_words):\n",
    "    topic_dict = {}\n",
    "    for topic_idx, topic in enumerate(model.components_):\n",
    "        topic_dict[\"Topic %d words\" % (topic_idx)]= ['{}'.format(feature_names[i])\n",
    "                        for i in topic.argsort()[:-no_top_words - 1:-1]]\n",
    "    return pd.DataFrame(topic_dict)\n",
    "\n",
    "topicdf = display_topics(lda, count_vectorizer.get_feature_names(), 10)\n",
    "topicdf"
   ]
  },
  {
   "cell_type": "code",
   "execution_count": 161,
   "metadata": {},
   "outputs": [],
   "source": [
    "arraydata = lda.transform(count_data)"
   ]
  },
  {
   "cell_type": "code",
   "execution_count": 162,
   "metadata": {},
   "outputs": [],
   "source": [
    "defined_topics = ['application memory', 'file paths', 'xamarin forms', '#error', 'json', 'windows forms', 'data presentation', 'file format', 'classes and interfaces', 'asynchronous programming', 'delegates and events', 'datetime', 'asp.net core', 'databases', 'azure', 'linq and lambda', 'class properties', 'inheritence', 'entity framework','acess error']\n",
    "def get_topic(topic_scores):\n",
    "    maxscore = 0\n",
    "    topicNbr = 0\n",
    "    fittingTopic = 0\n",
    "    for score in topic_scores:\n",
    "        current_score = score\n",
    "        if current_score>maxscore:\n",
    "            maxscore = current_score\n",
    "            fittingTopic = defined_topics[topicNbr]\n",
    "        topicNbr += 1\n",
    "    return fittingTopic"
   ]
  },
  {
   "cell_type": "code",
   "execution_count": 164,
   "metadata": {},
   "outputs": [],
   "source": [
    "def topic_list():\n",
    "    the_list = []\n",
    "    for scoreList in arraydata:\n",
    "        the_list.append(get_topic(scoreList))\n",
    "    return the_list\n",
    "df.insert(4, \"Topic\", topic_list(), True)"
   ]
  },
  {
   "cell_type": "code",
   "execution_count": 165,
   "metadata": {},
   "outputs": [
    {
     "data": {
      "text/plain": [
       "<AxesSubplot:>"
      ]
     },
     "execution_count": 165,
     "metadata": {},
     "output_type": "execute_result"
    },
    {
     "data": {
      "image/png": "[encoded data removed]",
      "text/plain": [
       "<Figure size 432x288 with 1 Axes>"
      ]
     },
     "metadata": {
      "needs_background": "light"
     },
     "output_type": "display_data"
    }
   ],
   "source": [
    "result = df['Topic'].value_counts()\n",
    "result.plot.bar()"
   ]
  },
  {
   "cell_type": "code",
   "execution_count": 166,
   "metadata": {},
   "outputs": [
    {
     "data": {
      "text/plain": [
       "<AxesSubplot:xlabel='Topic'>"
      ]
     },
     "execution_count": 166,
     "metadata": {},
     "output_type": "execute_result"
    },
    {
     "data": {
      "image/png": "[encoded data removed]",
      "text/plain": [
       "<Figure size 432x288 with 1 Axes>"
      ]
     },
     "metadata": {
      "needs_background": "light"
     },
     "output_type": "display_data"
    }
   ],
   "source": [
    "score_mean = df.groupby(['Score', 'Topic']).sum().reset_index().groupby('Topic').mean()\n",
    "score_mean.plot.bar()"
   ]
  },
  {
   "cell_type": "code",
   "execution_count": null,
   "metadata": {},
   "outputs": [],
   "source": [
    "whiteList = pd.read_csv(\n",
    "    './csharp-topics.csv',\n",
    "    encoding='utf-8')\n",
    "mydict = {}\n",
    "whiteList['C# documentation'] = whiteList['C# documentation'].str.lower()\n",
    "for topic in whiteList['C# documentation']:\n",
    "    mydict[topic] = df['Title'].str.contains(topic, regex=False).sum()"
   ]
  },
  {
   "cell_type": "markdown",
   "metadata": {},
   "source": [
    "## Data analysis\n",
    "\n",
    "*Document you choice and motivation for selected data mining method(s) here. Choose a data mining method(s) to use in Python code to perform an analysis of your chosen dataset. Describe why you chose the method(s) and what interesting things you have found from the analysis.*\n",
    "\n",
    "*Replace the contents of this cell with your own text.*"
   ]
  },
  {
   "cell_type": "markdown",
   "metadata": {},
   "source": [
    "## Evaluation of results\n",
    "\n",
    "*Document an evaluation your analysis results and describe how potentially actionable they are.*\n",
    "\n",
    "*Replace the contents of this cell with your own text.*"
   ]
  },
  {
   "cell_type": "code",
   "execution_count": null,
   "metadata": {},
   "outputs": [],
   "source": [
    "# Add your own code"
   ]
  },
  {
   "cell_type": "markdown",
   "metadata": {},
   "source": [
    "## Schedule and description of project plan\n",
    "\n",
    "*Rough schedule for the project beyond the pilot study presented in 3-5. This does not have to be advanced, you can simply provide an estimate based upon reported schedules for similar projects in the literature.*\n",
    "\n",
    "*Replace the contents of this cell with your own text.*"
   ]
  },
  {
   "cell_type": "markdown",
   "metadata": {},
   "source": [
    "## Ethical aspects that need to be considered\n",
    "\n",
    "*Are there ethical aspects that need to be considered? Are there legal implications (e.g., personal data / GDPR)? Are there implications if the case organization is a business, public authority, or nonprofit entity?*\n",
    "\n",
    "*Replace the contents of this cell with your own text.*"
   ]
  }
 ],
 "metadata": {
  "kernelspec": {
   "display_name": "Python 3",
   "language": "python",
   "name": "python3"
  },
  "language_info": {
   "codemirror_mode": {
    "name": "ipython",
    "version": 3
   },
   "file_extension": ".py",
   "mimetype": "text/x-python",
   "name": "python",
   "nbconvert_exporter": "python",
   "pygments_lexer": "ipython3",
   "version": "3.8.3"
  }
 },
 "nbformat": 4,
 "nbformat_minor": 4
}
